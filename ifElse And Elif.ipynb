{
 "cells": [
  {
   "cell_type": "code",
   "execution_count": 1,
   "metadata": {},
   "outputs": [
    {
     "name": "stdout",
     "output_type": "stream",
     "text": [
      "10 is less than 20\n",
      "else block activated\n"
     ]
    }
   ],
   "source": [
    "if 10 > 20:\n",
    "    print(\"10 is greater than 20\")\n",
    "    print(\"if block activated\")\n",
    "else:\n",
    "    print(\"10 is less than 20\")\n",
    "    print(\"else block activated\")"
   ]
  },
  {
   "cell_type": "code",
   "execution_count": 2,
   "metadata": {},
   "outputs": [
    {
     "data": {
      "text/plain": [
       "7160"
      ]
     },
     "execution_count": 2,
     "metadata": {},
     "output_type": "execute_result"
    }
   ],
   "source": [
    "bike_price = 7160\n",
    "bike_price"
   ]
  },
  {
   "cell_type": "code",
   "execution_count": 3,
   "metadata": {},
   "outputs": [
    {
     "name": "stdout",
     "output_type": "stream",
     "text": [
      "It's a cheap bike\n",
      "if block activated\n"
     ]
    }
   ],
   "source": [
    "if bike_price <= 8000:\n",
    "    print(\"It's a cheap bike\")\n",
    "    print(\"if block activated\")\n",
    "else:\n",
    "    print(\"It's an expensive bike\")\n",
    "    print(\"else block is activated\")"
   ]
  },
  {
   "cell_type": "code",
   "execution_count": 4,
   "metadata": {},
   "outputs": [
    {
     "ename": "SyntaxError",
     "evalue": "invalid syntax (<ipython-input-4-ac8cf5f823cd>, line 4)",
     "output_type": "error",
     "traceback": [
      "\u001b[1;36m  File \u001b[1;32m\"<ipython-input-4-ac8cf5f823cd>\"\u001b[1;36m, line \u001b[1;32m4\u001b[0m\n\u001b[1;33m    else:\u001b[0m\n\u001b[1;37m       ^\u001b[0m\n\u001b[1;31mSyntaxError\u001b[0m\u001b[1;31m:\u001b[0m invalid syntax\n"
     ]
    }
   ],
   "source": [
    "bike_price = 9000\n",
    "if bike_price <= 8000:\n",
    "    print(\"It's a cheap bike\")\n",
    "    else:\n",
    "        print(\"It's an expesnive bike\")"
   ]
  },
  {
   "cell_type": "code",
   "execution_count": 5,
   "metadata": {},
   "outputs": [
    {
     "name": "stdout",
     "output_type": "stream",
     "text": [
      "It's an expesnive bike\n"
     ]
    }
   ],
   "source": [
    "bike_price = 9000\n",
    "if bike_price <= 8000:\n",
    "    print(\"It's a cheap bike\")\n",
    "else:\n",
    "        print(\"It's an expesnive bike\")"
   ]
  },
  {
   "cell_type": "code",
   "execution_count": 7,
   "metadata": {},
   "outputs": [
    {
     "name": "stdout",
     "output_type": "stream",
     "text": [
      "num before expression:  50\n",
      "num after expression:  30\n"
     ]
    }
   ],
   "source": [
    "num = 50\n",
    "print(\"num before expression: \", num)\n",
    "\n",
    "num = num - 20 if num > 20 else num + 20 # single line ternary operation evaluate something based on condition being true or not\n",
    "print(\"num after expression: \", num)"
   ]
  },
  {
   "cell_type": "code",
   "execution_count": 9,
   "metadata": {},
   "outputs": [
    {
     "name": "stdout",
     "output_type": "stream",
     "text": [
      "num before expression:  50\n",
      "num after expression:  30\n"
     ]
    }
   ],
   "source": [
    "num = 50\n",
    "print(\"num before expression: \",num)\n",
    "\n",
    "if num > 20:\n",
    "    num = num - 20\n",
    "else:\n",
    "    num = num + 20\n",
    "    \n",
    "print(\"num after expression: \", num) # the above code is similar to this but above one is more compact"
   ]
  },
  {
   "cell_type": "code",
   "execution_count": 11,
   "metadata": {},
   "outputs": [
    {
     "name": "stdout",
     "output_type": "stream",
     "text": [
      "number before expression :  100\n",
      "number after expression :  500\n"
     ]
    }
   ],
   "source": [
    "num = 100\n",
    "print(\"number before expression : \", num)\n",
    "\n",
    "result = num / 5 if num < 50 else num * 5\n",
    "print(\"number after expression : \" , result)"
   ]
  },
  {
   "cell_type": "code",
   "execution_count": 12,
   "metadata": {},
   "outputs": [
    {
     "name": "stdout",
     "output_type": "stream",
     "text": [
      "15 is less than 20\n",
      "elif block activated\n"
     ]
    }
   ],
   "source": [
    "if 15 > 20:\n",
    "    print(\"15 is greater than 20 \")\n",
    "    print(\"if block is activated\")\n",
    "elif 15 < 20:\n",
    "    print(\"15 is less than 20\")\n",
    "    print(\"elif block activated\")\n",
    "else:\n",
    "    print(\"Both are equal\")\n",
    "    print(\"else book activated\")\n",
    "\n",
    "# elif is used to chain together if-else conditions"
   ]
  },
  {
   "cell_type": "code",
   "execution_count": 13,
   "metadata": {},
   "outputs": [
    {
     "name": "stdout",
     "output_type": "stream",
     "text": [
      " a and b equal\n",
      "elif block activated\n"
     ]
    }
   ],
   "source": [
    "a = 45\n",
    "b = 45\n",
    "\n",
    "if b > a:\n",
    "    print(\"b is greater than a \")\n",
    "    print(\"if block is activated\")\n",
    "    \n",
    "elif a ==  b:\n",
    "    print(\" a and b equal\")\n",
    "    print(\"elif block activated\")\n",
    "    \n",
    "else:\n",
    "    print(\"a is greater than  b\")\n",
    "    print(\"else book activated\")\n",
    "\n",
    "# elif is used to chain together if-else conditions"
   ]
  },
  {
   "cell_type": "code",
   "execution_count": 17,
   "metadata": {},
   "outputs": [],
   "source": [
    "bike_price = 20000\n",
    "if bike_price < 6000:\n",
    "    print(\"It's a cheap bike\")\n",
    "elif bike_price >= 6000 and bike_price < 10000:\n",
    "    print(\"It's a moderatley priced bike\")\n",
    "elif bike_price >= 10000 and bike_price < 15000:\n",
    "    print(\"It's a somewhat expensive bike\")"
   ]
  },
  {
   "cell_type": "code",
   "execution_count": 18,
   "metadata": {},
   "outputs": [
    {
     "name": "stdout",
     "output_type": "stream",
     "text": [
      "It's a somewhat expensive bike\n"
     ]
    }
   ],
   "source": [
    "bike_price = 20000\n",
    "if bike_price < 6000:\n",
    "    print(\"It's a cheap bike\")\n",
    "elif bike_price >= 6000 and bike_price < 10000:\n",
    "    print(\"It's a moderatley priced bike\")\n",
    "elif bike_price >= 10000:\n",
    "    print(\"It's a somewhat expensive bike\")\n",
    "elif bike_price >=20000:\n",
    "    print(\"It's a very expensive bike\")"
   ]
  },
  {
   "cell_type": "code",
   "execution_count": 20,
   "metadata": {},
   "outputs": [],
   "source": [
    "x = 25\n",
    "y = 35 \n",
    "z = 45"
   ]
  },
  {
   "cell_type": "code",
   "execution_count": 21,
   "metadata": {},
   "outputs": [
    {
     "name": "stdout",
     "output_type": "stream",
     "text": [
      "The first condition is  true\n",
      "both condition are true\n"
     ]
    }
   ],
   "source": [
    "if x < y :\n",
    "    print(\"The first condition is  true\")\n",
    "    if x < z:\n",
    "        print(\"both condition are true\")\n",
    "    else:\n",
    "        print(\"The first condition is true, the second one is false\")"
   ]
  },
  {
   "cell_type": "code",
   "execution_count": 27,
   "metadata": {},
   "outputs": [
    {
     "name": "stdout",
     "output_type": "stream",
     "text": [
      "The first condition  is false\n"
     ]
    }
   ],
   "source": [
    "x = 55\n",
    "if x < y:\n",
    "    print(\"The first condition is true\")\n",
    "    \n",
    "    if x < z:\n",
    "        print(\"Both conditions are true\")\n",
    "    else:\n",
    "        print(\"The first condition is true, the second one if false\")\n",
    "else:\n",
    "    print(\"The first condition  is false\")"
   ]
  },
  {
   "cell_type": "code",
   "execution_count": 4,
   "metadata": {},
   "outputs": [
    {
     "name": "stdout",
     "output_type": "stream",
     "text": [
      "Enter the age: 11\n",
      "You are too young for this camping trip!\n"
     ]
    }
   ],
   "source": [
    "age = int(input(\"Enter the age: \"))\n",
    "if age >= 15:\n",
    "    \n",
    "    if age > 20:\n",
    "        print(\"You are too old for this camping trip !\")\n",
    "    else:\n",
    "        print(\"You are of the right age for this camping trip!\")\n",
    "else:\n",
    "    print(\"You are too young for this camping trip!\")\n",
    "        "
   ]
  },
  {
   "cell_type": "code",
   "execution_count": 7,
   "metadata": {},
   "outputs": [
    {
     "name": "stdout",
     "output_type": "stream",
     "text": [
      "What is the total amount of your online shopping? 15\n",
      "USA or Canada? USA\n",
      "Shipping Cost is $9.00\n"
     ]
    }
   ],
   "source": [
    "total = int(input(\"What is the total amount of your online shopping? \"))\n",
    "country = input(\"USA or Canada? \")\n",
    "\n",
    "if country == \"USA\":\n",
    "    if total <= 50:\n",
    "        print(\"Shipping Cost is $9.00\")\n",
    "        \n",
    "    elif total <= 100:\n",
    "        print(\"Shipping Cost is $6.00\")\n",
    "        \n",
    "    else:\n",
    "        print(\"Shipping is Free\")\n",
    "\n",
    "if country == \"Cannada\":\n",
    "    if total <= 50:\n",
    "        print(\"Shipping Cost is $12.00\")\n",
    "        \n",
    "    elif total <= 100:\n",
    "        print(\"Shipping Cost is $8.00\")\n",
    "        \n",
    "    else:\n",
    "        print(\" Shipping is FREE\")"
   ]
  },
  {
   "cell_type": "code",
   "execution_count": 14,
   "metadata": {},
   "outputs": [],
   "source": [
    "fruit_list = ['apple', 'orange', 'grape', 'banana', 'avacado']"
   ]
  },
  {
   "cell_type": "code",
   "execution_count": 9,
   "metadata": {},
   "outputs": [
    {
     "name": "stdout",
     "output_type": "stream",
     "text": [
      "Yes', grape is in the fruit list\n"
     ]
    }
   ],
   "source": [
    "if \"grape\" in fruit_list:\n",
    "    print(\"Yes', grape is in the fruit list\")\n",
    "else:\n",
    "    print(\"No', grape is not in the fruit list\")"
   ]
  },
  {
   "cell_type": "code",
   "execution_count": 11,
   "metadata": {},
   "outputs": [
    {
     "name": "stdout",
     "output_type": "stream",
     "text": [
      "orange is in the fruit list\n"
     ]
    }
   ],
   "source": [
    "if \"strawberry\" in fruit_list:\n",
    "    print(\"strawberry', is in the fruit list\")\n",
    "elif \"orange\" in fruit_list:\n",
    "    print(\"orange is in the fruit list\")\n",
    "else:\n",
    "    print(\"Both strawberry and orange are not in the fruit list\")"
   ]
  },
  {
   "cell_type": "code",
   "execution_count": 15,
   "metadata": {},
   "outputs": [
    {
     "name": "stdout",
     "output_type": "stream",
     "text": [
      "True\n"
     ]
    }
   ],
   "source": [
    "if fruit_list[1] == \"orange\":\n",
    "    print(\"True\")\n",
    "else:\n",
    "    print(\"False\")"
   ]
  },
  {
   "cell_type": "code",
   "execution_count": 19,
   "metadata": {},
   "outputs": [
    {
     "name": "stdout",
     "output_type": "stream",
     "text": [
      "Yes',avocado is at the fourth index\n",
      "Replacing avocado with strawberry at the fourth index\n",
      "['apple', 'orange', 'grape', 'banana', 'strawberry']\n"
     ]
    }
   ],
   "source": [
    "if fruit_list[4] == \"avacado\":\n",
    "    print(\"Yes',avocado is at the fourth index\")\n",
    "    print(\"Replacing avocado with strawberry at the fourth index\")\n",
    "    \n",
    "    fruit_list[4] = \"strawberry\"\n",
    "    print(fruit_list)\n",
    "else:\n",
    "    print(\"avocado is not at the fourth index\")"
   ]
  },
  {
   "cell_type": "code",
   "execution_count": 20,
   "metadata": {},
   "outputs": [],
   "source": [
    "car_tuple = ('Toyota Camry', 'Honda Accord', 'Honda Civic', 'Toyota Corolla')"
   ]
  },
  {
   "cell_type": "code",
   "execution_count": 21,
   "metadata": {},
   "outputs": [
    {
     "name": "stdout",
     "output_type": "stream",
     "text": [
      "Honda Accord is present in our car tuple\n"
     ]
    }
   ],
   "source": [
    "if 'Honda Accord' in car_tuple:\n",
    "    print(\"Honda Accord is present in our car tuple\")\n",
    "else:\n",
    "    print(\"Honda Accord is not present in our car tuple\")"
   ]
  },
  {
   "cell_type": "code",
   "execution_count": 22,
   "metadata": {},
   "outputs": [
    {
     "name": "stdout",
     "output_type": "stream",
     "text": [
      "Ducati Monster is not a car\n"
     ]
    }
   ],
   "source": [
    "if \"Ducati Monster\" in car_tuple:\n",
    "    print(\"Ducati Monster is a car\")\n",
    "    \n",
    "else:\n",
    "    print(\"Ducati Monster is not a car\")"
   ]
  },
  {
   "cell_type": "code",
   "execution_count": 23,
   "metadata": {},
   "outputs": [
    {
     "name": "stdout",
     "output_type": "stream",
     "text": [
      "At least one of Ducati Monster and Honda Accord is not a car\n"
     ]
    }
   ],
   "source": [
    "if \"Ducati Monster\" in car_tuple and 'Honda Accord' in car_tuple:\n",
    "    print(\"Ducati Monster and Honda Accord is a car\")\n",
    "    \n",
    "else:\n",
    "    print(\"At least one of Ducati Monster and Honda Accord is not a car\")"
   ]
  },
  {
   "cell_type": "code",
   "execution_count": 24,
   "metadata": {},
   "outputs": [
    {
     "name": "stdout",
     "output_type": "stream",
     "text": [
      "Neither Ducati Monster nor Honda Accord is a car\n"
     ]
    }
   ],
   "source": [
    "if \"Ducati Monster\" in car_tuple and 'Honda Accord' in car_tuple:\n",
    "    print(\"At least one of Ducati Monster and Honda Accord is not a car\")\n",
    "    \n",
    "else:\n",
    "    print(\"Neither Ducati Monster nor Honda Accord is a car\")"
   ]
  },
  {
   "cell_type": "code",
   "execution_count": 25,
   "metadata": {},
   "outputs": [],
   "source": [
    "salary_details = {\n",
    "                   \"Lisa\" : 25000,\n",
    "                   \"Jason\" : 45000,\n",
    "                   \"Cooper\" : 35000,\n",
    "                    \"Elias\" : 23000,\n",
    "                    \"Jordan\": 77000\n",
    "}"
   ]
  },
  {
   "cell_type": "code",
   "execution_count": 27,
   "metadata": {},
   "outputs": [
    {
     "data": {
      "text/plain": [
       "{'Lisa': 25000,\n",
       " 'Jason': 45000,\n",
       " 'Cooper': 35000,\n",
       " 'Elias': 23000,\n",
       " 'Jordan': 77000}"
      ]
     },
     "execution_count": 27,
     "metadata": {},
     "output_type": "execute_result"
    }
   ],
   "source": [
    "salary_details"
   ]
  },
  {
   "cell_type": "code",
   "execution_count": 29,
   "metadata": {},
   "outputs": [
    {
     "name": "stdout",
     "output_type": "stream",
     "text": [
      "We have the salary details for Lisa\n"
     ]
    }
   ],
   "source": [
    "if \"Lisa\" in salary_details:\n",
    "    print(\"We have the salary details for Lisa\")\n",
    "else:\n",
    "    print(\"We don't have the salary details for Lisa\")"
   ]
  },
  {
   "cell_type": "code",
   "execution_count": 30,
   "metadata": {},
   "outputs": [
    {
     "name": "stdout",
     "output_type": "stream",
     "text": [
      "We don't have the salary details for Ruby\n"
     ]
    }
   ],
   "source": [
    "if \"Ruby\" in salary_details:\n",
    "    print(\"We have the salary details for Ruby\")\n",
    "else:\n",
    "    print(\"We don't have the salary details for Ruby\")"
   ]
  },
  {
   "cell_type": "code",
   "execution_count": 31,
   "metadata": {},
   "outputs": [
    {
     "name": "stdout",
     "output_type": "stream",
     "text": [
      "Cora's annual income is 31000\n"
     ]
    }
   ],
   "source": [
    "if \"Cora\" in salary_details:\n",
    "    print(\"We have the salary details for Cora\")\n",
    "else:\n",
    "    salary_details['Cora'] = 31000\n",
    "    print(\"Cora's annual income is %s\"%salary_details['Cora'])"
   ]
  },
  {
   "cell_type": "code",
   "execution_count": 32,
   "metadata": {},
   "outputs": [
    {
     "data": {
      "text/plain": [
       "{'Lisa': 25000,\n",
       " 'Jason': 45000,\n",
       " 'Cooper': 35000,\n",
       " 'Elias': 23000,\n",
       " 'Jordan': 77000,\n",
       " 'Cora': 31000}"
      ]
     },
     "execution_count": 32,
     "metadata": {},
     "output_type": "execute_result"
    }
   ],
   "source": [
    "salary_details"
   ]
  },
  {
   "cell_type": "code",
   "execution_count": 3,
   "metadata": {},
   "outputs": [],
   "source": [
    "age_details = {\"Lisa\": 25, \"Jason\": 30, \"Cooper\": 29, \"Sarah\": 22}"
   ]
  },
  {
   "cell_type": "code",
   "execution_count": 7,
   "metadata": {},
   "outputs": [
    {
     "name": "stdout",
     "output_type": "stream",
     "text": [
      "Jason is older than Lisa\n",
      "Jason is older than Cooper\n",
      "Jason is the oldest person in the given dictionary\n"
     ]
    }
   ],
   "source": [
    "\n",
    "if age_details[\"Lisa\"] < age_details[\"Jason\"]:\n",
    "    print(\"Jason is older than Lisa\")\n",
    "    if age_details['Jason'] > age_details['Cooper']:\n",
    "        print(\"Jason is older than Cooper\")\n",
    "    if age_details[\"Cooper\"] < age_details[\"Sarah\"]:\n",
    "        print(\"Cooper is younger than Sarah\")\n",
    "    elif age_details[\"Cooper\"] > age_details[\"Sarah\"]:\n",
    "        print(\"Jason is the oldest person in the given dictionary\")\n",
    "else:\n",
    "    print(\"Jason is not the oldest person in the given dictionary\")"
   ]
  },
  {
   "cell_type": "code",
   "execution_count": 11,
   "metadata": {},
   "outputs": [],
   "source": [
    "details = [['Jane','Amanda', 'Emma'],\n",
    "          [35, 40, 50],\n",
    "          [20000, 50000, 40000]]"
   ]
  },
  {
   "cell_type": "code",
   "execution_count": 12,
   "metadata": {},
   "outputs": [
    {
     "name": "stdout",
     "output_type": "stream",
     "text": [
      "Amanda has the higest salary and age is 30\n"
     ]
    }
   ],
   "source": [
    "max_salary = max(details[2])\n",
    "if (details[2][1] == max_salary):\n",
    "    if(details[1][1] > 35):\n",
    "        print(details[0][1], \"has the higest salary and age is 30\")\n",
    "    elif(deatils[1][1] == 30):\n",
    "        print(details[0][1], \"has the higest salary and she is 30 year old\")\n",
    "    else:\n",
    "        print(\"Amanda has the higest salary and her age is less than  30\")\n",
    "else:\n",
    "    print(\"Amanda is not the higest paid employee\")"
   ]
  },
  {
   "cell_type": "code",
   "execution_count": null,
   "metadata": {},
   "outputs": [],
   "source": []
  }
 ],
 "metadata": {
  "kernelspec": {
   "display_name": "Python 3",
   "language": "python",
   "name": "python3"
  },
  "language_info": {
   "codemirror_mode": {
    "name": "ipython",
    "version": 3
   },
   "file_extension": ".py",
   "mimetype": "text/x-python",
   "name": "python",
   "nbconvert_exporter": "python",
   "pygments_lexer": "ipython3",
   "version": "3.7.4"
  }
 },
 "nbformat": 4,
 "nbformat_minor": 2
}
