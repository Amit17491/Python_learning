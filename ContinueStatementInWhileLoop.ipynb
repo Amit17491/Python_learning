{
 "cells": [
  {
   "cell_type": "code",
   "execution_count": 1,
   "metadata": {},
   "outputs": [
    {
     "name": "stdout",
     "output_type": "stream",
     "text": [
      "odd number : 1\n",
      "odd number : 3\n",
      "odd number : 5\n",
      "odd number : 7\n",
      "odd number : 9\n",
      "Good bye!\n"
     ]
    }
   ],
   "source": [
    "num = 0\n",
    "while num < 10:\n",
    "    num = num + 1\n",
    "    if  num % 2 == 0:\n",
    "        continue\n",
    "    print(\"odd number :\", num)\n",
    "print(\"Good bye!\")"
   ]
  },
  {
   "cell_type": "code",
   "execution_count": 6,
   "metadata": {},
   "outputs": [
    {
     "name": "stdout",
     "output_type": "stream",
     "text": [
      "[1, 2, 3, 4, 6, 8, 9, 11, 12, 13, 16, 17, 18, 19, 22, 23, 24, 26, 27, 29, 31, 32, 33, 34, 36, 37, 38, 39, 41, 43, 44, 46, 47, 48]\n"
     ]
    }
   ],
   "source": [
    "my_list = []\n",
    "num = 0\n",
    "while num in range(0,50):\n",
    "    num += 1\n",
    "    \n",
    "    if num % 5 == 0 or num % 7 == 0:\n",
    "        continue\n",
    "    my_list.append(num)\n",
    "print(my_list)"
   ]
  },
  {
   "cell_type": "code",
   "execution_count": 7,
   "metadata": {},
   "outputs": [
    {
     "name": "stdout",
     "output_type": "stream",
     "text": [
      "[1, 2, 3, 4, 6, 8, 9, 11, 12, 13, 16, 17, 18, 19, 22, 23, 24, 26, 27, 29, 31, 32, 33, 34, 36, 37, 38, 39, 41, 43, 44, 46, 47, 48]\n"
     ]
    }
   ],
   "source": [
    "# same as above but in different way\n",
    "my_list = []\n",
    "num = 0\n",
    "while num in range(0,50):\n",
    "    if num % 5 == 0 or num % 7 == 0:\n",
    "        pass\n",
    "        \n",
    "    else:\n",
    "        my_list.append(num)\n",
    "    num += 1\n",
    "print(my_list)"
   ]
  },
  {
   "cell_type": "code",
   "execution_count": 1,
   "metadata": {},
   "outputs": [
    {
     "name": "stdout",
     "output_type": "stream",
     "text": [
      "\n",
      " Enter a number: \n",
      "Enter the integers only (continue statement executed)\n",
      "\n",
      " Enter a number: 5\n",
      "Cube of 5 is 125\n",
      "\n",
      " Enter a number: 5\n",
      "Cube of 5 is 125\n",
      "\n",
      " Enter a number: 25\n",
      "Cube of 25 is 15625\n",
      "\n",
      " Enter a number: Out\n",
      "Enter the integers only (continue statement executed)\n",
      "\n",
      " Enter a number: out\n",
      "Good bye!(break statement executed)\n"
     ]
    }
   ],
   "source": [
    "while True:\n",
    "    value = input(\"\\n Enter a number: \")\n",
    "    \n",
    "    if value == \"out\":\n",
    "        print(\"Good bye!(break statement executed)\")\n",
    "        break\n",
    "        \n",
    "    if not value.isdigit():\n",
    "        print(\"Enter the integers only (continue statement executed)\")\n",
    "        continue\n",
    "        \n",
    "    value = int(value)\n",
    "    print(\"Cube of %d is %d\" %(value, value ** 3))"
   ]
  },
  {
   "cell_type": "code",
   "execution_count": 2,
   "metadata": {},
   "outputs": [
    {
     "name": "stdout",
     "output_type": "stream",
     "text": [
      "Enter the captial of Egypt: Quit\n",
      "They have given up!!.\n"
     ]
    }
   ],
   "source": [
    "while True:\n",
    "    value = input(\"Enter the captial of Egypt: \")\n",
    "    \n",
    "    if value == \"Quit\":\n",
    "        print(\"They have given up!!.\")\n",
    "        break\n",
    "    \n",
    "    if not value.isalpha():\n",
    "        print(\"Enter the correct alpha value only.\")\n",
    "        continue\n",
    "        \n",
    "    if value.upper() == \"Cairo\":\n",
    "        print(\"You have entered the correct value.\")\n",
    "        break\n",
    "    else:\n",
    "        print(\"That is not the correct answer. Try again..\")\n",
    "    "
   ]
  },
  {
   "cell_type": "code",
   "execution_count": 9,
   "metadata": {},
   "outputs": [
    {
     "name": "stdout",
     "output_type": "stream",
     "text": [
      "Enter the capital of Egypt: Quit\n",
      "They have given up!!\n"
     ]
    }
   ],
   "source": [
    "# above problem using for Loop\n",
    "value = input(\"Enter the capital of Egypt: \")\n",
    "for word in value:\n",
    "    if value == \"Cairo\":\n",
    "        print(\"You have entered the correct value.\")\n",
    "        break\n",
    "else:\n",
    "    if value == \"Quit\":\n",
    "        print(\"They have given up!!\")"
   ]
  },
  {
   "cell_type": "code",
   "execution_count": null,
   "metadata": {},
   "outputs": [],
   "source": []
  }
 ],
 "metadata": {
  "kernelspec": {
   "display_name": "Python 3",
   "language": "python",
   "name": "python3"
  },
  "language_info": {
   "codemirror_mode": {
    "name": "ipython",
    "version": 3
   },
   "file_extension": ".py",
   "mimetype": "text/x-python",
   "name": "python",
   "nbconvert_exporter": "python",
   "pygments_lexer": "ipython3",
   "version": "3.7.4"
  }
 },
 "nbformat": 4,
 "nbformat_minor": 2
}
