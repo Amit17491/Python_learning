{
 "cells": [
  {
   "cell_type": "code",
   "execution_count": 1,
   "metadata": {},
   "outputs": [
    {
     "name": "stdout",
     "output_type": "stream",
     "text": [
      "s\n",
      "t\n",
      "r\n",
      "i\n",
      "n\n",
      "g\n"
     ]
    }
   ],
   "source": [
    "for letter in \"string\":\n",
    "    if letter == \"r\":  # explicitly state there is no action required for that condition.\n",
    "        pass  # used to denote the fact that nothing needs to be done.\n",
    "    print(letter)"
   ]
  },
  {
   "cell_type": "code",
   "execution_count": 9,
   "metadata": {},
   "outputs": [
    {
     "name": "stdout",
     "output_type": "stream",
     "text": [
      "Current letter:  s\n",
      "Current letter:  t\n",
      "This is the pass block: \n",
      "Current letter:  i\n",
      "Current letter:  n\n",
      "Current letter:  g\n",
      "out of the loop\n"
     ]
    }
   ],
   "source": [
    "for letter in \"string\":\n",
    "    if letter == \"r\":\n",
    "        pass\n",
    "        print(\"This is the pass block: \")\n",
    "    else:\n",
    "        print(\"Current letter: \", letter)\n",
    "print(\"out of the loop\")"
   ]
  },
  {
   "cell_type": "code",
   "execution_count": 10,
   "metadata": {},
   "outputs": [
    {
     "name": "stdout",
     "output_type": "stream",
     "text": [
      "1\n",
      "3\n",
      "5\n",
      "7\n",
      "9\n"
     ]
    }
   ],
   "source": [
    "for i in range(10):\n",
    "    if(i % 2 == 0):\n",
    "        pass\n",
    "    else:\n",
    "        print(i)"
   ]
  },
  {
   "cell_type": "code",
   "execution_count": 11,
   "metadata": {},
   "outputs": [
    {
     "name": "stdout",
     "output_type": "stream",
     "text": [
      "count of odd numbers:  0\n",
      "Total count of numbers:  1 \n",
      "\n",
      "1\n",
      "count of odd numbers:  1\n",
      "Total count of numbers:  2 \n",
      "\n",
      "count of odd numbers:  1\n",
      "Total count of numbers:  3 \n",
      "\n",
      "3\n",
      "count of odd numbers:  2\n",
      "Total count of numbers:  4 \n",
      "\n",
      "count of odd numbers:  2\n",
      "Total count of numbers:  5 \n",
      "\n",
      "5\n",
      "count of odd numbers:  3\n",
      "Total count of numbers:  6 \n",
      "\n",
      "count of odd numbers:  3\n",
      "Total count of numbers:  7 \n",
      "\n",
      "7\n",
      "count of odd numbers:  4\n",
      "Total count of numbers:  8 \n",
      "\n",
      "count of odd numbers:  4\n",
      "Total count of numbers:  9 \n",
      "\n",
      "9\n",
      "count of odd numbers:  5\n",
      "Total count of numbers:  10 \n",
      "\n"
     ]
    }
   ],
   "source": [
    "odd_count = 0\n",
    "total_count = 0\n",
    "for i in range(10):\n",
    "    if(i % 2 == 0):\n",
    "        pass\n",
    "    else:\n",
    "        print(i)\n",
    "        odd_count += 1\n",
    "    \n",
    "    total_count +=1\n",
    "    \n",
    "    print(\"count of odd numbers: \", odd_count)\n",
    "    print(\"Total count of numbers: \", total_count, \"\\n\")"
   ]
  },
  {
   "cell_type": "code",
   "execution_count": 20,
   "metadata": {},
   "outputs": [
    {
     "name": "stdout",
     "output_type": "stream",
     "text": [
      "Input a string: python#123\n",
      "Digits =  3\n",
      "Letters =  6\n",
      "others =  1\n"
     ]
    }
   ],
   "source": [
    "my_str = input(\"Input a string: \")\n",
    "digits = 0\n",
    "letters = 0\n",
    "others = 0\n",
    "for i in my_str:\n",
    "    if i.isdigit():\n",
    "        digits += 1\n",
    "    elif i.isalpha():\n",
    "        letters +=1\n",
    "    elif i in [\"!\",\"@\",\"#\",\"$\",\"%\",\"^\",\"&\",\"*\"]:\n",
    "        others += 1\n",
    "print(\"Digits = \", digits)\n",
    "print(\"Letters = \", letters)\n",
    "print(\"others = \", others)"
   ]
  },
  {
   "cell_type": "code",
   "execution_count": 24,
   "metadata": {},
   "outputs": [
    {
     "name": "stdout",
     "output_type": "stream",
     "text": [
      "Input a string: amit!@#123456\n",
      "Digits =  6\n",
      "Letters =  4\n",
      "others =  3\n"
     ]
    }
   ],
   "source": [
    "# without using function\n",
    "my_str = input(\"Input a string: \")\n",
    "digits = 0\n",
    "letters = 0\n",
    "others = 0\n",
    "for i in my_str:\n",
    "    if i in [\"1\",\"2\",\"3\",\"4\",\"5\",\"6\",\"7\",\"8\",\"9\"]: \n",
    "        digits += 1\n",
    "    elif i.isalpha(): # similary we can use this for string\n",
    "        letters += 1\n",
    "    elif i in [\"!\",\"@\",\"#\",\"$\",\"%\",\"^\",\"&\",\"*\"]:\n",
    "        others += 1\n",
    "    else:\n",
    "        pass\n",
    "print(\"Digits = \", digits)\n",
    "print(\"Letters = \", letters)\n",
    "print(\"others = \", others)"
   ]
  },
  {
   "cell_type": "code",
   "execution_count": null,
   "metadata": {},
   "outputs": [],
   "source": []
  }
 ],
 "metadata": {
  "kernelspec": {
   "display_name": "Python 3",
   "language": "python",
   "name": "python3"
  },
  "language_info": {
   "codemirror_mode": {
    "name": "ipython",
    "version": 3
   },
   "file_extension": ".py",
   "mimetype": "text/x-python",
   "name": "python",
   "nbconvert_exporter": "python",
   "pygments_lexer": "ipython3",
   "version": "3.7.4"
  }
 },
 "nbformat": 4,
 "nbformat_minor": 2
}
