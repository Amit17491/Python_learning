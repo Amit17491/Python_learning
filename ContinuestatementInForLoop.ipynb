{
 "cells": [
  {
   "cell_type": "code",
   "execution_count": null,
   "metadata": {},
   "outputs": [],
   "source": [
    "# break statement terminate the loop completely and continue only skip the condition"
   ]
  },
  {
   "cell_type": "code",
   "execution_count": 1,
   "metadata": {},
   "outputs": [
    {
     "name": "stdout",
     "output_type": "stream",
     "text": [
      "s\n",
      "t\n",
      "r\n",
      "n\n",
      "g\n",
      "The End\n"
     ]
    }
   ],
   "source": [
    "for letter in \"string\":\n",
    "    if letter == \"i\": # skip the i part and continue with the remaining part\n",
    "        continue \n",
    "    print(letter)\n",
    "print(\"The End\")"
   ]
  },
  {
   "cell_type": "code",
   "execution_count": 8,
   "metadata": {},
   "outputs": [
    {
     "name": "stdout",
     "output_type": "stream",
     "text": [
      "s\n"
     ]
    }
   ],
   "source": [
    "my_string = \"Students\"\n",
    "for letter in my_string:\n",
    "    if(letter == \"e\" or letter == \"s\"):\n",
    "        continue\n",
    "else:\n",
    "    print(letter)"
   ]
  },
  {
   "cell_type": "code",
   "execution_count": 16,
   "metadata": {},
   "outputs": [
    {
     "name": "stdout",
     "output_type": "stream",
     "text": [
      "Is 2 is an even number? \n",
      "Yes\n",
      "Is 4 is an even number? \n",
      "Yes\n",
      "Is 6 is an even number? \n",
      "Yes\n",
      "Is 8 is an even number? \n",
      "Yes\n"
     ]
    }
   ],
   "source": [
    "for i in range (1,10):\n",
    "    if i % 2 == 0:\n",
    "        print(\"Is %s is an even number? \" % i)\n",
    "    else:\n",
    "        continue\n",
    "    print(\"Yes\")"
   ]
  },
  {
   "cell_type": "code",
   "execution_count": 11,
   "metadata": {},
   "outputs": [
    {
     "name": "stdout",
     "output_type": "stream",
     "text": [
      "0\n",
      "1.0\n"
     ]
    }
   ],
   "source": [
    "#note\n",
    "print(2%2)\n",
    "print(2/2)"
   ]
  },
  {
   "cell_type": "code",
   "execution_count": 17,
   "metadata": {},
   "outputs": [
    {
     "name": "stdout",
     "output_type": "stream",
     "text": [
      "1\n",
      "Found an even number: 2\n",
      "3\n",
      "Found an even number: 4\n",
      "5\n",
      "Found an even number: 6\n",
      "7\n",
      "Found an even number: 8\n",
      "9\n"
     ]
    }
   ],
   "source": [
    "for num in range(1,10):\n",
    "    if num % 2 == 0:\n",
    "        print(\"Found an even number:\",num)\n",
    "        \n",
    "        continue\n",
    "    print(num)"
   ]
  },
  {
   "cell_type": "code",
   "execution_count": 20,
   "metadata": {},
   "outputs": [
    {
     "name": "stdout",
     "output_type": "stream",
     "text": [
      "\n",
      "Before the continue statement 1\n",
      "After the continue statement 1\n",
      "\n",
      "Before the continue statement 2\n",
      "After the continue statement 2\n",
      "\n",
      "Before the continue statement 3\n",
      "\n",
      "Before the continue statement 4\n",
      "After the continue statement 4\n",
      "\n",
      "Before the continue statement 5\n",
      "After the continue statement 5\n",
      "\n",
      "Before the continue statement 6\n",
      "\n",
      "Before the continue statement 7\n",
      "After the continue statement 7\n",
      "\n",
      "Before the continue statement 8\n",
      "After the continue statement 8\n",
      "\n",
      "Before the continue statement 9\n",
      "\n",
      "Before the continue statement 10\n",
      "After the continue statement 10\n",
      "\n",
      "Before the continue statement 11\n",
      "After the continue statement 11\n"
     ]
    }
   ],
   "source": [
    "for i in range(1, 12):\n",
    "    print()\n",
    "    print(\"Before the continue statement\", i)\n",
    "    if i % 3 == 0:\n",
    "        continue\n",
    "    print(\"After the continue statement\", i)"
   ]
  },
  {
   "cell_type": "code",
   "execution_count": 28,
   "metadata": {},
   "outputs": [
    {
     "name": "stdout",
     "output_type": "stream",
     "text": [
      "{'Jan': 31}\n",
      "Jan months has 31 days\n",
      "{'Jan': 31, 'Feb': 28}\n",
      "{'Jan': 31, 'Feb': 28, 'Mar': 31}\n",
      "Mar months has 31 days\n",
      "{'Jan': 31, 'Feb': 28, 'Mar': 31, 'Apr': 30}\n",
      "Apr months has 30 days\n",
      "{'Jan': 31, 'Feb': 28, 'Mar': 31, 'Apr': 30, 'May': 31}\n",
      "May months has 31 days\n",
      "{'Jan': 31, 'Feb': 28, 'Mar': 31, 'Apr': 30, 'May': 31, 'Jun': 30}\n",
      "Jun months has 30 days\n",
      "{'Jan': 31, 'Feb': 28, 'Mar': 31, 'Apr': 30, 'May': 31, 'Jun': 30, 'Jul': 31}\n",
      "Jul months has 31 days\n",
      "{'Jan': 31, 'Feb': 28, 'Mar': 31, 'Apr': 30, 'May': 31, 'Jun': 30, 'Jul': 31, 'Aug': 31}\n",
      "Aug months has 31 days\n",
      "{'Jan': 31, 'Feb': 28, 'Mar': 31, 'Apr': 30, 'May': 31, 'Jun': 30, 'Jul': 31, 'Aug': 31, 'Sep': 30}\n",
      "Sep months has 30 days\n",
      "{'Jan': 31, 'Feb': 28, 'Mar': 31, 'Apr': 30, 'May': 31, 'Jun': 30, 'Jul': 31, 'Aug': 31, 'Sep': 30, 'Oct': 31}\n",
      "Oct months has 31 days\n",
      "{'Jan': 31, 'Feb': 28, 'Mar': 31, 'Apr': 30, 'May': 31, 'Jun': 30, 'Jul': 31, 'Aug': 31, 'Sep': 30, 'Oct': 31, 'Nov': 30}\n",
      "Nov months has 30 days\n",
      "{'Jan': 31, 'Feb': 28, 'Mar': 31, 'Apr': 30, 'May': 31, 'Jun': 30, 'Jul': 31, 'Aug': 31, 'Sep': 30, 'Oct': 31, 'Nov': 30, 'Dec': 31}\n",
      "Dec months has 31 days\n"
     ]
    }
   ],
   "source": [
    "num_days = [31, 28, 31, 30, 31, 30, 31, 31, 30, 31, 30, 31]\n",
    "months = [\"Jan\", \"Feb\", \"Mar\", \"Apr\", \"May\", \"Jun\", \"Jul\", \"Aug\", \"Sep\", \"Oct\", \"Nov\", \"Dec\"]\n",
    "new_dict = dict()\n",
    "for i,j in zip(months, num_days):\n",
    "    new_dict.update({i:j})\n",
    "    print(new_dict)\n",
    "    if new_dict[i] < 29:\n",
    "        continue\n",
    "    else:\n",
    "        print(i, \"months has\", new_dict[i], \"days\")"
   ]
  },
  {
   "cell_type": "code",
   "execution_count": 33,
   "metadata": {},
   "outputs": [
    {
     "name": "stdout",
     "output_type": "stream",
     "text": [
      "Deer\n",
      "Rabbit\n",
      "Dog\n",
      "Cat\n"
     ]
    }
   ],
   "source": [
    "animals = [\"Deer\", \"Rabbit\", \"Lion\", \"Dog\", \"Cat\", \"Elephant\", \"Giraffe\"]\n",
    "\n",
    "for pet in animals:\n",
    "    if pet == \"Lion\":\n",
    "        continue\n",
    "    if pet == \"Elephant\":\n",
    "        break\n",
    "    \n",
    "    print(pet)"
   ]
  }
 ],
 "metadata": {
  "kernelspec": {
   "display_name": "Python 3",
   "language": "python",
   "name": "python3"
  },
  "language_info": {
   "codemirror_mode": {
    "name": "ipython",
    "version": 3
   },
   "file_extension": ".py",
   "mimetype": "text/x-python",
   "name": "python",
   "nbconvert_exporter": "python",
   "pygments_lexer": "ipython3",
   "version": "3.7.4"
  }
 },
 "nbformat": 4,
 "nbformat_minor": 2
}
