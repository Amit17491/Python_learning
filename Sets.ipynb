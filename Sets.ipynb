{
 "cells": [
  {
   "cell_type": "code",
   "execution_count": 51,
   "metadata": {},
   "outputs": [
    {
     "name": "stdout",
     "output_type": "stream",
     "text": [
      "{'n', 'u', 't', 'p', 'w', 'y', 'o', 'i', 'r', 's', ' ', 'e', 'l', 'h', 'f'}\n",
      "{'rectangle', 'circle', 'hexagone', 'square', 'cone', 'kite', 'triangle'}\n"
     ]
    },
    {
     "ename": "TypeError",
     "evalue": "'set' object is not callable",
     "output_type": "error",
     "traceback": [
      "\u001b[1;31m---------------------------------------------------------------------------\u001b[0m",
      "\u001b[1;31mTypeError\u001b[0m                                 Traceback (most recent call last)",
      "\u001b[1;32m<ipython-input-51-b91af69bc80c>\u001b[0m in \u001b[0;36m<module>\u001b[1;34m\u001b[0m\n\u001b[0;32m      5\u001b[0m \u001b[0mshape_set\u001b[0m \u001b[1;33m=\u001b[0m \u001b[1;33m{\u001b[0m\u001b[1;34m\"square\"\u001b[0m\u001b[1;33m,\u001b[0m\u001b[1;34m\"triangle\"\u001b[0m\u001b[1;33m,\u001b[0m\u001b[1;34m\"rectangle\"\u001b[0m\u001b[1;33m,\u001b[0m\u001b[1;34m\"hexagone\"\u001b[0m\u001b[1;33m,\u001b[0m\u001b[1;34m\"circle\"\u001b[0m\u001b[1;33m,\u001b[0m\u001b[1;34m\"cone\"\u001b[0m\u001b[1;33m,\u001b[0m\u001b[1;34m\"kite\"\u001b[0m\u001b[1;33m}\u001b[0m\u001b[1;33m\u001b[0m\u001b[1;33m\u001b[0m\u001b[0m\n\u001b[0;32m      6\u001b[0m \u001b[0mprint\u001b[0m\u001b[1;33m(\u001b[0m\u001b[0mshape_set\u001b[0m\u001b[1;33m)\u001b[0m\u001b[1;33m\u001b[0m\u001b[1;33m\u001b[0m\u001b[0m\n\u001b[1;32m----> 7\u001b[1;33m \u001b[0mprint\u001b[0m\u001b[1;33m(\u001b[0m\u001b[0mshape_set\u001b[0m\u001b[1;33m(\u001b[0m\u001b[1;36m1\u001b[0m\u001b[1;33m)\u001b[0m\u001b[1;33m)\u001b[0m\u001b[1;33m\u001b[0m\u001b[1;33m\u001b[0m\u001b[0m\n\u001b[0m\u001b[0;32m      8\u001b[0m \u001b[0mprint\u001b[0m\u001b[1;33m(\u001b[0m\u001b[0mshape_set\u001b[0m\u001b[1;33m[\u001b[0m\u001b[1;36m1\u001b[0m\u001b[1;33m]\u001b[0m\u001b[1;33m)\u001b[0m\u001b[1;33m\u001b[0m\u001b[1;33m\u001b[0m\u001b[0m\n",
      "\u001b[1;31mTypeError\u001b[0m: 'set' object is not callable"
     ]
    }
   ],
   "source": [
    "# set is unique element , ordered and no intrinsic value\n",
    "# set is an unordered ds\n",
    "str_name = \"python is powerful\"\n",
    "print(set(str_name))\n",
    "shape_set = {\"square\",\"triangle\",\"rectangle\",\"hexagone\",\"circle\",\"cone\",\"kite\"}\n",
    "print(shape_set)\n",
    "print(shape_set(1))\n",
    "print(shape_set[1])"
   ]
  },
  {
   "cell_type": "code",
   "execution_count": 37,
   "metadata": {},
   "outputs": [
    {
     "name": "stdout",
     "output_type": "stream",
     "text": [
      "{0, 2, 3, 4, 6}\n"
     ]
    }
   ],
   "source": [
    "# sets do not contain duplicate value\n",
    "num_set = {4,3,2,6,0,3,6}\n",
    "print(num_set)# there are two 3 only on is printed"
   ]
  },
  {
   "cell_type": "code",
   "execution_count": 38,
   "metadata": {},
   "outputs": [
    {
     "ename": "TypeError",
     "evalue": "unsupported operand type(s) for +: 'set' and 'set'",
     "output_type": "error",
     "traceback": [
      "\u001b[1;31m---------------------------------------------------------------------------\u001b[0m",
      "\u001b[1;31mTypeError\u001b[0m                                 Traceback (most recent call last)",
      "\u001b[1;32m<ipython-input-38-8c6b4527c3d5>\u001b[0m in \u001b[0;36m<module>\u001b[1;34m\u001b[0m\n\u001b[0;32m      1\u001b[0m \u001b[1;31m# two set cannot be concatenated\u001b[0m\u001b[1;33m\u001b[0m\u001b[1;33m\u001b[0m\u001b[1;33m\u001b[0m\u001b[0m\n\u001b[1;32m----> 2\u001b[1;33m \u001b[0mprint\u001b[0m\u001b[1;33m(\u001b[0m\u001b[0mnum_set\u001b[0m \u001b[1;33m+\u001b[0m \u001b[0mshape_set\u001b[0m\u001b[1;33m)\u001b[0m\u001b[1;33m\u001b[0m\u001b[1;33m\u001b[0m\u001b[0m\n\u001b[0m",
      "\u001b[1;31mTypeError\u001b[0m: unsupported operand type(s) for +: 'set' and 'set'"
     ]
    }
   ],
   "source": [
    "# two set cannot be concatenated\n",
    "print(num_set + shape_set)"
   ]
  },
  {
   "cell_type": "code",
   "execution_count": 39,
   "metadata": {},
   "outputs": [
    {
     "name": "stdout",
     "output_type": "stream",
     "text": [
      "{'rectangle', 'hexagone', 'circle', 'square', 'cone', 'kite', 'triangle'} {0, 2, 3, 4, 6}\n"
     ]
    }
   ],
   "source": [
    "s1 = shape_set.copy()\n",
    "s2 = num_set.copy()\n",
    "print(s1,s2)"
   ]
  },
  {
   "cell_type": "code",
   "execution_count": 53,
   "metadata": {},
   "outputs": [
    {
     "name": "stdout",
     "output_type": "stream",
     "text": [
      "{0, 'rectangle', 2, 'circle', 3, 6, 'hexagone', 'square', 'cone', 'triangle'}\n"
     ]
    },
    {
     "ename": "KeyError",
     "evalue": "'kite'",
     "output_type": "error",
     "traceback": [
      "\u001b[1;31m---------------------------------------------------------------------------\u001b[0m",
      "\u001b[1;31mKeyError\u001b[0m                                  Traceback (most recent call last)",
      "\u001b[1;32m<ipython-input-53-2a91a44a8fba>\u001b[0m in \u001b[0;36m<module>\u001b[1;34m\u001b[0m\n\u001b[0;32m      2\u001b[0m \u001b[0ms1\u001b[0m\u001b[1;33m.\u001b[0m\u001b[0mdiscard\u001b[0m\u001b[1;33m(\u001b[0m\u001b[1;34m'kite'\u001b[0m\u001b[1;33m)\u001b[0m\u001b[1;33m\u001b[0m\u001b[1;33m\u001b[0m\u001b[0m\n\u001b[0;32m      3\u001b[0m \u001b[0mprint\u001b[0m\u001b[1;33m(\u001b[0m\u001b[0ms1\u001b[0m\u001b[1;33m)\u001b[0m\u001b[1;33m\u001b[0m\u001b[1;33m\u001b[0m\u001b[0m\n\u001b[1;32m----> 4\u001b[1;33m \u001b[0ms2\u001b[0m\u001b[1;33m.\u001b[0m\u001b[0mremove\u001b[0m\u001b[1;33m(\u001b[0m\u001b[1;34m'kite'\u001b[0m\u001b[1;33m)\u001b[0m\u001b[1;33m\u001b[0m\u001b[1;33m\u001b[0m\u001b[0m\n\u001b[0m\u001b[0;32m      5\u001b[0m \u001b[0mprint\u001b[0m\u001b[1;33m(\u001b[0m\u001b[0ms2\u001b[0m\u001b[1;33m)\u001b[0m\u001b[1;33m\u001b[0m\u001b[1;33m\u001b[0m\u001b[0m\n",
      "\u001b[1;31mKeyError\u001b[0m: 'kite'"
     ]
    }
   ],
   "source": [
    "# discard and remove in set\n",
    "s1.discard('kite')\n",
    "print(s1)\n",
    "s2.remove('kite')\n",
    "print(s2) # keyerror bcos kite is already removed."
   ]
  },
  {
   "cell_type": "code",
   "execution_count": 49,
   "metadata": {},
   "outputs": [
    {
     "name": "stdout",
     "output_type": "stream",
     "text": [
      "{0, 'rectangle', 2, 'circle', 3, 6, 'hexagone', 'square', 'cone', 'triangle'}\n",
      "{66, 100, 74, 84, 52, 55}\n",
      "({66, 100, 74, 84, 52, 55}, {0, 'rectangle', 2, 'circle', 3, 6, 'hexagone', 'square', 'cone', 'triangle'}, {0, 2, 3, 6})\n"
     ]
    }
   ],
   "source": [
    "# mixed set\n",
    "s1.update(s2)\n",
    "print(s1)\n",
    "new_list = set([100,55,66,74,84,52])\n",
    "print(new_list)\n",
    "t_set = new_list,s1,s2\n",
    "print(t_set)  # print tuple of set"
   ]
  },
  {
   "cell_type": "code",
   "execution_count": 43,
   "metadata": {},
   "outputs": [
    {
     "name": "stdout",
     "output_type": "stream",
     "text": [
      "{'olivia', 'emma', 'Mia', 'Ava'}\n"
     ]
    }
   ],
   "source": [
    "set_string = {\"emma\", \"olivia\", \"Ava\", \"Mia\"}\n",
    "print(set_string)"
   ]
  },
  {
   "cell_type": "code",
   "execution_count": 5,
   "metadata": {},
   "outputs": [
    {
     "name": "stdout",
     "output_type": "stream",
     "text": [
      "set()\n"
     ]
    }
   ],
   "source": [
    "# create empty set\n",
    "empty_set = set()\n",
    "print(empty_set)"
   ]
  },
  {
   "cell_type": "code",
   "execution_count": 6,
   "metadata": {},
   "outputs": [
    {
     "name": "stdout",
     "output_type": "stream",
     "text": [
      "('Emma', 5, 1.5, True)\n"
     ]
    }
   ],
   "source": [
    "# set consist of string, int, float, boolean\n",
    "mixed_set = (\"Emma\", 5, 1.5, True)\n",
    "print(mixed_set)"
   ]
  },
  {
   "cell_type": "code",
   "execution_count": 7,
   "metadata": {},
   "outputs": [
    {
     "name": "stdout",
     "output_type": "stream",
     "text": [
      "{1.5, True, 5, (1, 2, 3), 'Emma'}\n"
     ]
    }
   ],
   "source": [
    "mixed_set1 = {\"Emma\", 5, 1.5, True, (1,2,3)}\n",
    "print(mixed_set1)"
   ]
  },
  {
   "cell_type": "code",
   "execution_count": 8,
   "metadata": {},
   "outputs": [
    {
     "ename": "TypeError",
     "evalue": "unhashable type: 'list'",
     "output_type": "error",
     "traceback": [
      "\u001b[1;31m---------------------------------------------------------------------------\u001b[0m",
      "\u001b[1;31mTypeError\u001b[0m                                 Traceback (most recent call last)",
      "\u001b[1;32m<ipython-input-8-dbb9c5348315>\u001b[0m in \u001b[0;36m<module>\u001b[1;34m\u001b[0m\n\u001b[0;32m      1\u001b[0m \u001b[1;31m# cannot have a list as a part of set bocs list contain duplicate value, and mutable\u001b[0m\u001b[1;33m\u001b[0m\u001b[1;33m\u001b[0m\u001b[1;33m\u001b[0m\u001b[0m\n\u001b[0;32m      2\u001b[0m \u001b[1;31m# set can have only unique immutable value inorder to maintain the uniqueness\u001b[0m\u001b[1;33m\u001b[0m\u001b[1;33m\u001b[0m\u001b[1;33m\u001b[0m\u001b[0m\n\u001b[1;32m----> 3\u001b[1;33m \u001b[0mset_list\u001b[0m \u001b[1;33m=\u001b[0m \u001b[1;33m{\u001b[0m\u001b[1;36m1\u001b[0m\u001b[1;33m,\u001b[0m\u001b[1;36m2\u001b[0m\u001b[1;33m,\u001b[0m\u001b[1;36m3\u001b[0m\u001b[1;33m,\u001b[0m \u001b[1;33m[\u001b[0m\u001b[1;36m4\u001b[0m\u001b[1;33m,\u001b[0m\u001b[1;36m5\u001b[0m\u001b[1;33m,\u001b[0m\u001b[1;36m6\u001b[0m\u001b[1;33m]\u001b[0m\u001b[1;33m}\u001b[0m\u001b[1;33m\u001b[0m\u001b[1;33m\u001b[0m\u001b[0m\n\u001b[0m\u001b[0;32m      4\u001b[0m \u001b[0mprint\u001b[0m\u001b[1;33m(\u001b[0m\u001b[0mset_list\u001b[0m\u001b[1;33m)\u001b[0m\u001b[1;33m\u001b[0m\u001b[1;33m\u001b[0m\u001b[0m\n",
      "\u001b[1;31mTypeError\u001b[0m: unhashable type: 'list'"
     ]
    }
   ],
   "source": [
    "# cannot have a list as a part of set bocs list contain duplicate value, and mutable\n",
    "# set can have only unique immutable value inorder to maintain the uniqueness\n",
    "set_list = {1,2,3, [4,5,6]}\n",
    "print(set_list)"
   ]
  },
  {
   "cell_type": "code",
   "execution_count": 9,
   "metadata": {},
   "outputs": [
    {
     "ename": "TypeError",
     "evalue": "unhashable type: 'dict'",
     "output_type": "error",
     "traceback": [
      "\u001b[1;31m---------------------------------------------------------------------------\u001b[0m",
      "\u001b[1;31mTypeError\u001b[0m                                 Traceback (most recent call last)",
      "\u001b[1;32m<ipython-input-9-504037b407a4>\u001b[0m in \u001b[0;36m<module>\u001b[1;34m\u001b[0m\n\u001b[0;32m      1\u001b[0m \u001b[1;31m# creating a set having one element as dictionary is also an error\u001b[0m\u001b[1;33m\u001b[0m\u001b[1;33m\u001b[0m\u001b[1;33m\u001b[0m\u001b[0m\n\u001b[1;32m----> 2\u001b[1;33m \u001b[0mset_dict\u001b[0m \u001b[1;33m=\u001b[0m \u001b[1;33m{\u001b[0m\u001b[1;36m1\u001b[0m\u001b[1;33m,\u001b[0m \u001b[1;36m2\u001b[0m\u001b[1;33m,\u001b[0m \u001b[1;36m3\u001b[0m\u001b[1;33m,\u001b[0m \u001b[1;33m{\u001b[0m\u001b[1;36m4\u001b[0m\u001b[1;33m:\u001b[0m \u001b[1;34m\"Emma\"\u001b[0m\u001b[1;33m}\u001b[0m\u001b[1;33m}\u001b[0m\u001b[1;33m\u001b[0m\u001b[1;33m\u001b[0m\u001b[0m\n\u001b[0m\u001b[0;32m      3\u001b[0m \u001b[0mprint\u001b[0m\u001b[1;33m(\u001b[0m\u001b[0mset_dict\u001b[0m\u001b[1;33m)\u001b[0m\u001b[1;33m\u001b[0m\u001b[1;33m\u001b[0m\u001b[0m\n",
      "\u001b[1;31mTypeError\u001b[0m: unhashable type: 'dict'"
     ]
    }
   ],
   "source": [
    "# creating a set having one element as dictionary is also an error\n",
    "set_dict = {1, 2, 3, {4: \"Emma\"}}\n",
    "print(set_dict)"
   ]
  },
  {
   "cell_type": "code",
   "execution_count": 10,
   "metadata": {},
   "outputs": [
    {
     "name": "stdout",
     "output_type": "stream",
     "text": [
      "{1, 2, 3, (4, 5, 6)}\n"
     ]
    }
   ],
   "source": [
    "# omly immutable DS can have is tuple in set\n",
    "set_tuple = {1, 2, 3, (4, 5, 6)}\n",
    "print(set_tuple)"
   ]
  },
  {
   "cell_type": "code",
   "execution_count": 12,
   "metadata": {},
   "outputs": [
    {
     "data": {
      "text/plain": [
       "{'Ava', 'Mia', 'emma', 'olivia'}"
      ]
     },
     "execution_count": 12,
     "metadata": {},
     "output_type": "execute_result"
    }
   ],
   "source": [
    "set_string"
   ]
  },
  {
   "cell_type": "code",
   "execution_count": 13,
   "metadata": {},
   "outputs": [
    {
     "ename": "TypeError",
     "evalue": "'set' object is not subscriptable",
     "output_type": "error",
     "traceback": [
      "\u001b[1;31m---------------------------------------------------------------------------\u001b[0m",
      "\u001b[1;31mTypeError\u001b[0m                                 Traceback (most recent call last)",
      "\u001b[1;32m<ipython-input-13-4287a755b49c>\u001b[0m in \u001b[0;36m<module>\u001b[1;34m\u001b[0m\n\u001b[0;32m      1\u001b[0m \u001b[1;31m# acces the set\u001b[0m\u001b[1;33m\u001b[0m\u001b[1;33m\u001b[0m\u001b[1;33m\u001b[0m\u001b[0m\n\u001b[1;32m----> 2\u001b[1;33m \u001b[0mset_string\u001b[0m \u001b[1;33m[\u001b[0m\u001b[1;36m2\u001b[0m\u001b[1;33m]\u001b[0m\u001b[1;33m\u001b[0m\u001b[1;33m\u001b[0m\u001b[0m\n\u001b[0m",
      "\u001b[1;31mTypeError\u001b[0m: 'set' object is not subscriptable"
     ]
    }
   ],
   "source": [
    "# acces the set \n",
    "set_string [2] # not  subscriptable bcos set is unordered and contain no index \n",
    "# by index we can access list and tuple"
   ]
  },
  {
   "cell_type": "code",
   "execution_count": 18,
   "metadata": {},
   "outputs": [
    {
     "name": "stdout",
     "output_type": "stream",
     "text": [
      "{1, 2, 3, 4, 6, 8, 10, 'a'}\n"
     ]
    }
   ],
   "source": [
    "# set with duplicate \n",
    "set_1 = {1, 3, 4, 8, \"a\", 6, 2, 10, 3, 4}\n",
    "print(set_1) #duplicate have been eliminated"
   ]
  },
  {
   "cell_type": "code",
   "execution_count": 20,
   "metadata": {},
   "outputs": [
    {
     "name": "stdout",
     "output_type": "stream",
     "text": [
      "{1, 2, 3, 4, 6, 8, 9, 10, 9.5, 'a'}\n",
      "{1, 2, 3, 4, 6, 8, 9, 10, 9.5, 'a'}\n",
      "{1, 2, 3, 4, 6, 8, 9, 10, 9.5, 'a'}\n"
     ]
    }
   ],
   "source": [
    "set_1.add(9)\n",
    "print(set_1)\n",
    "set_1.add(9.5)\n",
    "print(set_1)\n",
    "set_1.add(9)\n",
    "print(set_1)"
   ]
  },
  {
   "cell_type": "code",
   "execution_count": 26,
   "metadata": {},
   "outputs": [
    {
     "name": "stdout",
     "output_type": "stream",
     "text": [
      "{'Avery', 'jacob', 'Emma', 'Daniel', 'Ava', 'Olivia', 'Mia'}\n",
      "7\n"
     ]
    }
   ],
   "source": [
    "teacher_set = {\"Emma\", \"Olivia\", \"Ava\", \"Mia\", \"Avery\", \"jacob\",\"Daniel\"}\n",
    "print(teacher_set)\n",
    "print(len(teacher_set))"
   ]
  },
  {
   "cell_type": "code",
   "execution_count": 30,
   "metadata": {},
   "outputs": [
    {
     "name": "stdout",
     "output_type": "stream",
     "text": [
      "jacob\n",
      "Ava\n"
     ]
    }
   ],
   "source": [
    "# max and min \n",
    "print(max(teacher_set))\n",
    "print(min(teacher_set))"
   ]
  },
  {
   "cell_type": "code",
   "execution_count": 2,
   "metadata": {},
   "outputs": [],
   "source": [
    "# operation onsets\n",
    "number1={1, 2, 3, 4, 5}\n",
    "\n",
    "number2={4, 5, 6, 7, 8}\n",
    "\n",
    "number3={7, 8, 9, 10, 11}"
   ]
  },
  {
   "cell_type": "code",
   "execution_count": 58,
   "metadata": {},
   "outputs": [
    {
     "data": {
      "text/plain": [
       "{1, 2, 3, 4, 5, 6, 7, 8}"
      ]
     },
     "execution_count": 58,
     "metadata": {},
     "output_type": "execute_result"
    }
   ],
   "source": [
    "# combine two set\n",
    "number1.union(number2)"
   ]
  },
  {
   "cell_type": "code",
   "execution_count": 59,
   "metadata": {},
   "outputs": [
    {
     "name": "stdout",
     "output_type": "stream",
     "text": [
      "{1, 2, 3, 4, 5, 6, 7, 8, 9, 10, 11}\n"
     ]
    }
   ],
   "source": [
    "#union\n",
    "number_union = number1.union(number2,number3)\n",
    "print(number_union)"
   ]
  },
  {
   "cell_type": "code",
   "execution_count": 4,
   "metadata": {},
   "outputs": [
    {
     "name": "stdout",
     "output_type": "stream",
     "text": [
      "{'Sofia', 'emma', ' olivia', 'olivia', 'Sarah', 'james', 'ava', 'mia'}\n"
     ]
    }
   ],
   "source": [
    "# union\n",
    "student_set_1 = {\"ava\", \"emma\", \"james\"}\n",
    "student_set_2 = {\"james\", \"mia\", \" olivia\"}\n",
    "student_set_3 = {\"olivia\", \"Sarah\", \"Sofia\"}\n",
    "print(student_set_1.union(student_set_2, student_set_3))"
   ]
  },
  {
   "cell_type": "code",
   "execution_count": 5,
   "metadata": {},
   "outputs": [
    {
     "name": "stdout",
     "output_type": "stream",
     "text": [
      "{4, 5}\n",
      "\n",
      "{1, 2, 3}\n",
      "{'james', 'ava', 'emma'}\n",
      "{'ava', 'emma'}\n"
     ]
    }
   ],
   "source": [
    "# intersection\n",
    "print(number2.intersection(number1))\n",
    "print()\n",
    "# difference\n",
    "print(number1.difference(number2))\n",
    "print(student_set_1.difference(student_set_3))# the difference is stored in student_set_1\n",
    "print(student_set_1.difference(student_set_2))"
   ]
  },
  {
   "cell_type": "code",
   "execution_count": 65,
   "metadata": {},
   "outputs": [
    {
     "name": "stdout",
     "output_type": "stream",
     "text": [
      "{4, 5}\n",
      "{4, 5, 6, 7, 8}\n"
     ]
    }
   ],
   "source": [
    "number1.intersection_update(number2)\n",
    "print(number1)\n",
    "print(number2)"
   ]
  },
  {
   "cell_type": "code",
   "execution_count": 9,
   "metadata": {},
   "outputs": [
    {
     "name": "stdout",
     "output_type": "stream",
     "text": [
      "False\n",
      "False\n",
      "True\n"
     ]
    }
   ],
   "source": [
    "# isdisjoint tell wheather the two set is same ot not\n",
    "print({1,2,3,4,5}.isdisjoint({4,5,6,7,8})) # that means two sets are not equal\n",
    "print(number1.isdisjoint(number2))\n",
    "print({1,2,3,4,5}.isdisjoint({6,7,8}))"
   ]
  },
  {
   "cell_type": "code",
   "execution_count": 13,
   "metadata": {},
   "outputs": [
    {
     "name": "stdout",
     "output_type": "stream",
     "text": [
      "False\n",
      "\n",
      "False\n"
     ]
    }
   ],
   "source": [
    "# subset\n",
    "print(number1.issubset(number2))\n",
    "print()\n",
    "print(number1.issuperset(number2))"
   ]
  },
  {
   "cell_type": "code",
   "execution_count": null,
   "metadata": {},
   "outputs": [],
   "source": []
  },
  {
   "cell_type": "code",
   "execution_count": null,
   "metadata": {},
   "outputs": [],
   "source": []
  }
 ],
 "metadata": {
  "kernelspec": {
   "display_name": "Python 3",
   "language": "python",
   "name": "python3"
  },
  "language_info": {
   "codemirror_mode": {
    "name": "ipython",
    "version": 3
   },
   "file_extension": ".py",
   "mimetype": "text/x-python",
   "name": "python",
   "nbconvert_exporter": "python",
   "pygments_lexer": "ipython3",
   "version": "3.7.4"
  }
 },
 "nbformat": 4,
 "nbformat_minor": 2
}
