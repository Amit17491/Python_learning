{
 "cells": [
  {
   "cell_type": "code",
   "execution_count": 3,
   "metadata": {},
   "outputs": [
    {
     "data": {
      "text/plain": [
       "()"
      ]
     },
     "execution_count": 3,
     "metadata": {},
     "output_type": "execute_result"
    }
   ],
   "source": [
    "my_tuple = ()\n",
    "my_tuple"
   ]
  },
  {
   "cell_type": "code",
   "execution_count": 7,
   "metadata": {},
   "outputs": [
    {
     "data": {
      "text/plain": [
       "('amit', 7, 10)"
      ]
     },
     "execution_count": 7,
     "metadata": {},
     "output_type": "execute_result"
    }
   ],
   "source": [
    "my_tuple = \"amit\", 7, 10 \n",
    "my_tuple"
   ]
  },
  {
   "cell_type": "code",
   "execution_count": 9,
   "metadata": {},
   "outputs": [
    {
     "name": "stdout",
     "output_type": "stream",
     "text": [
      "('amit', 7, 10, 'raj', 'krishna', 'goivnda')\n"
     ]
    }
   ],
   "source": [
    "str_tuple = (\"raj\",\"krishna\",\"goivnda\")\n",
    "str_tuple\n",
    "print(my_tuple + str_tuple)"
   ]
  },
  {
   "cell_type": "code",
   "execution_count": 16,
   "metadata": {},
   "outputs": [
    {
     "name": "stdout",
     "output_type": "stream",
     "text": [
      "raj\n",
      "krishna\n",
      "goivnda\n"
     ]
    }
   ],
   "source": [
    "a,b,c = str_tuple\n",
    "print(a)\n",
    "print(b)\n",
    "print(c)"
   ]
  },
  {
   "cell_type": "code",
   "execution_count": 19,
   "metadata": {},
   "outputs": [
    {
     "name": "stdout",
     "output_type": "stream",
     "text": [
      "(('amit', 7, 10), ('raj', 'krishna', 'goivnda'))\n"
     ]
    }
   ],
   "source": [
    "new_tuple = (my_tuple,str_tuple)\n",
    "print(new_tuple)"
   ]
  },
  {
   "cell_type": "code",
   "execution_count": 21,
   "metadata": {},
   "outputs": [
    {
     "name": "stdout",
     "output_type": "stream",
     "text": [
      "[7, 4, 1, 5, 2, 4, 8, 9] (('amit', 7, 10), ('raj', 'krishna', 'goivnda'))\n"
     ]
    }
   ],
   "source": [
    "my_list = [7,4,1,5,2,4,8,9,]\n",
    "print(my_list,new_tuple)"
   ]
  },
  {
   "cell_type": "code",
   "execution_count": 24,
   "metadata": {},
   "outputs": [
    {
     "name": "stdout",
     "output_type": "stream",
     "text": [
      "['raj', 'krishna', 'goivnda']\n"
     ]
    }
   ],
   "source": [
    "# to convert tuple to list\n",
    "name = list(str_tuple)\n",
    "print(name)"
   ]
  },
  {
   "cell_type": "code",
   "execution_count": 54,
   "metadata": {},
   "outputs": [
    {
     "name": "stdout",
     "output_type": "stream",
     "text": [
      "n\n",
      "('n', 'k', 'h', 'a', 'n')\n",
      "('n', 'a', 'h', 'k', 'n', 'a', 'm', 'l', 'a')\n",
      "('n', 'a', 'h', 'k', 'n', 'a', 'm', 'l', 'a', 's')\n",
      "\n"
     ]
    },
    {
     "ename": "TypeError",
     "evalue": "can only concatenate tuple (not \"list\") to tuple",
     "output_type": "error",
     "traceback": [
      "\u001b[1;31m---------------------------------------------------------------------------\u001b[0m",
      "\u001b[1;31mTypeError\u001b[0m                                 Traceback (most recent call last)",
      "\u001b[1;32m<ipython-input-54-c764ef6c0b0a>\u001b[0m in \u001b[0;36m<module>\u001b[1;34m\u001b[0m\n\u001b[0;32m      7\u001b[0m \u001b[1;33m\u001b[0m\u001b[0m\n\u001b[0;32m      8\u001b[0m \u001b[1;31m# how to access the mixed tuple\u001b[0m\u001b[1;33m\u001b[0m\u001b[1;33m\u001b[0m\u001b[1;33m\u001b[0m\u001b[0m\n\u001b[1;32m----> 9\u001b[1;33m \u001b[0mnew_tuple\u001b[0m \u001b[1;33m=\u001b[0m \u001b[0mmy_tuple\u001b[0m \u001b[1;33m+\u001b[0m \u001b[0mstr_tuple\u001b[0m \u001b[1;33m+\u001b[0m \u001b[0mmy_list\u001b[0m \u001b[1;31m# list cannot be concatenated with tuple\u001b[0m\u001b[1;33m\u001b[0m\u001b[1;33m\u001b[0m\u001b[0m\n\u001b[0m\u001b[0;32m     10\u001b[0m \u001b[0mprint\u001b[0m\u001b[1;33m(\u001b[0m\u001b[0mnew_tuple\u001b[0m\u001b[1;33m)\u001b[0m\u001b[1;33m\u001b[0m\u001b[1;33m\u001b[0m\u001b[0m\n",
      "\u001b[1;31mTypeError\u001b[0m: can only concatenate tuple (not \"list\") to tuple"
     ]
    }
   ],
   "source": [
    "# access the tuple and slicing\n",
    "print(my_name[5])\n",
    "print(my_name[5:10])\n",
    "print(my_name[-1:-10:-1])\n",
    "print(my_name[::-1])\n",
    "print()\n",
    "\n",
    "# how to access the mixed tuple\n",
    "new_tuple = my_tuple + str_tuple + my_list # list cannot be concatenated with tuple\n",
    "print(new_tuple)"
   ]
  },
  {
   "cell_type": "code",
   "execution_count": 59,
   "metadata": {},
   "outputs": [
    {
     "name": "stdout",
     "output_type": "stream",
     "text": [
      "(('amit', 7, 10), [7, 4, 1, 5, 2, 4, 8, 9], ('raj', 'krishna', 'goivnda'))\n",
      "\n",
      "('amit', 7, 10)\n",
      "10\n",
      "\n",
      "[7, 4, 1, 5, 2, 4, 8, 9]\n",
      "4\n",
      "\n",
      "('raj', 'krishna', 'goivnda')\n",
      "goivnda\n"
     ]
    }
   ],
   "source": [
    "# to acess the nested tuple\n",
    "special_tuple = my_tuple,my_list,str_tuple\n",
    "print(special_tuple)\n",
    "print()\n",
    "print(special_tuple[0])\n",
    "print(special_tuple[0][2])\n",
    "print()\n",
    "print(special_tuple[1])\n",
    "print(special_tuple[1][5])\n",
    "print()\n",
    "print(special_tuple[2])\n",
    "print(special_tuple[2][2])"
   ]
  },
  {
   "cell_type": "code",
   "execution_count": 67,
   "metadata": {},
   "outputs": [
    {
     "name": "stdout",
     "output_type": "stream",
     "text": [
      "6\n",
      "False\n",
      "False\n",
      "True\n"
     ]
    }
   ],
   "source": [
    "# index in tuple\n",
    "print(my_name.index('k'))\n",
    "\n",
    "# in in tuple\n",
    "print(\"arbaaz\" in str_tuple)\n",
    "print(\"raj\" not in str_tuple)\n",
    "print(\"krishna\" in str_tuple)"
   ]
  },
  {
   "cell_type": "code",
   "execution_count": 70,
   "metadata": {},
   "outputs": [
    {
     "name": "stdout",
     "output_type": "stream",
     "text": [
      "32\n",
      "{1, 4, 5, 6, 7, 9}\n",
      "[1, 4, 5, 6, 9, 7]\n"
     ]
    }
   ],
   "source": [
    "# number tuple\n",
    "int_tuple = (1,4,5,6,9,7)\n",
    "print(sum(int_tuple))\n",
    "print(set(int_tuple))\n",
    "print(list(int_tuple))"
   ]
  },
  {
   "cell_type": "code",
   "execution_count": 71,
   "metadata": {},
   "outputs": [
    {
     "ename": "TypeError",
     "evalue": "'tuple' object does not support item assignment",
     "output_type": "error",
     "traceback": [
      "\u001b[1;31m---------------------------------------------------------------------------\u001b[0m",
      "\u001b[1;31mTypeError\u001b[0m                                 Traceback (most recent call last)",
      "\u001b[1;32m<ipython-input-71-50575de21bc6>\u001b[0m in \u001b[0;36m<module>\u001b[1;34m\u001b[0m\n\u001b[0;32m      1\u001b[0m \u001b[1;31m# diff between tuple and list\u001b[0m\u001b[1;33m\u001b[0m\u001b[1;33m\u001b[0m\u001b[1;33m\u001b[0m\u001b[0m\n\u001b[0;32m      2\u001b[0m \u001b[0mint_tuple\u001b[0m \u001b[1;33m=\u001b[0m \u001b[1;33m(\u001b[0m\u001b[1;36m1\u001b[0m\u001b[1;33m,\u001b[0m\u001b[1;36m4\u001b[0m\u001b[1;33m,\u001b[0m\u001b[1;36m5\u001b[0m\u001b[1;33m,\u001b[0m\u001b[1;36m6\u001b[0m\u001b[1;33m,\u001b[0m\u001b[1;36m9\u001b[0m\u001b[1;33m,\u001b[0m\u001b[1;36m7\u001b[0m\u001b[1;33m)\u001b[0m\u001b[1;33m\u001b[0m\u001b[1;33m\u001b[0m\u001b[0m\n\u001b[1;32m----> 3\u001b[1;33m \u001b[0mint_tuple\u001b[0m \u001b[1;33m[\u001b[0m\u001b[1;36m3\u001b[0m\u001b[1;33m]\u001b[0m \u001b[1;33m=\u001b[0m \u001b[1;36m100\u001b[0m\u001b[1;33m\u001b[0m\u001b[1;33m\u001b[0m\u001b[0m\n\u001b[0m\u001b[0;32m      4\u001b[0m \u001b[0mprint\u001b[0m\u001b[1;33m(\u001b[0m\u001b[0mint_tuple\u001b[0m\u001b[1;33m)\u001b[0m\u001b[1;33m\u001b[0m\u001b[1;33m\u001b[0m\u001b[0m\n",
      "\u001b[1;31mTypeError\u001b[0m: 'tuple' object does not support item assignment"
     ]
    }
   ],
   "source": [
    "# diff between tuple and list\n",
    "int_tuple = (1,4,5,6,9,7)\n",
    "int_tuple [3] = 100\n",
    "print(int_tuple)"
   ]
  },
  {
   "cell_type": "code",
   "execution_count": 82,
   "metadata": {},
   "outputs": [
    {
     "name": "stdout",
     "output_type": "stream",
     "text": [
      "(('amit', 7, 10), [7, 4, 1, 50000, 2, 4, 8, 9], ('raj', 'krishna', 'goivnda'))\n",
      "[7, 4, 1, 50000, 2, 4, 8, 9]\n",
      "(('amit', 7, 10), [7, 4, 1, 50000, 2, 5620, 8, 9], ('raj', 'krishna', 'goivnda'))\n"
     ]
    }
   ],
   "source": [
    "star_tuple = special_tuple\n",
    "print(star_tuple)\n",
    "print(star_tuple[1])\n",
    "star_tuple [1][5]= 5620\n",
    "print(star_tuple)"
   ]
  },
  {
   "cell_type": "code",
   "execution_count": 87,
   "metadata": {},
   "outputs": [
    {
     "name": "stdout",
     "output_type": "stream",
     "text": [
      "('p', 'y', 't', 'h', 'o', 'n')\n"
     ]
    },
    {
     "ename": "NameError",
     "evalue": "name 'p_tuple1' is not defined",
     "output_type": "error",
     "traceback": [
      "\u001b[1;31m---------------------------------------------------------------------------\u001b[0m",
      "\u001b[1;31mNameError\u001b[0m                                 Traceback (most recent call last)",
      "\u001b[1;32m<ipython-input-87-0c5a15d6cfc7>\u001b[0m in \u001b[0;36m<module>\u001b[1;34m\u001b[0m\n\u001b[0;32m      6\u001b[0m \u001b[1;32mdel\u001b[0m \u001b[0mp_tuple\u001b[0m\u001b[1;33m\u001b[0m\u001b[1;33m\u001b[0m\u001b[0m\n\u001b[0;32m      7\u001b[0m \u001b[1;33m\u001b[0m\u001b[0m\n\u001b[1;32m----> 8\u001b[1;33m \u001b[0mprint\u001b[0m\u001b[1;33m(\u001b[0m\u001b[0mp_tuple1\u001b[0m\u001b[1;33m)\u001b[0m\u001b[1;33m\u001b[0m\u001b[1;33m\u001b[0m\u001b[0m\n\u001b[0m",
      "\u001b[1;31mNameError\u001b[0m: name 'p_tuple1' is not defined"
     ]
    }
   ],
   "source": [
    "p_tuple =tuple(\"python\")\n",
    "print(p_tuple)\n",
    "#el p_tuple[3] # becos tuples are immutable cannot delete the element\n",
    "# but can delete whole tuple\n",
    "\n",
    "del p_tuple\n",
    "\n",
    "print(p_tuple1)  # bcos tuple is deleted above\n"
   ]
  },
  {
   "cell_type": "code",
   "execution_count": 121,
   "metadata": {},
   "outputs": [
    {
     "name": "stdout",
     "output_type": "stream",
     "text": [
      "<zip object at 0x00000282779F2788>\n"
     ]
    }
   ],
   "source": [
    "# use of zip function in tuple\n",
    "tuple_a = (1,2,3,4,5,6)\n",
    "tuple_b = (\"a\",\"b\",\"c\",\"d\",\"e\",\"f\")\n",
    "zipped = zip(tuple_a,tuple_b)\n",
    "print(zipped) # it printed as a object we cannot see we have to convert in order to see"
   ]
  },
  {
   "cell_type": "code",
   "execution_count": 132,
   "metadata": {},
   "outputs": [
    {
     "name": "stdout",
     "output_type": "stream",
     "text": [
      "<zip object at 0x000002827790DE08>\n",
      "((1, 'a'), (2, 'b'), (3, 'c'), (4, 'd'), (5, 'e'), (6, 'f'))\n"
     ]
    }
   ],
   "source": [
    "tuple_c = (1,2,3,4,5,6)\n",
    "tuple_d = (\"a\",\"b\",\"c\",\"d\",\"e\",\"f\")\n",
    "zipped = zip(tuple_c,tuple_d)\n",
    "print(zipped)\n",
    "result = tuple(zipped) # can be converted to list , set and dic\n",
    "print(result) "
   ]
  },
  {
   "cell_type": "code",
   "execution_count": 133,
   "metadata": {},
   "outputs": [
    {
     "name": "stdout",
     "output_type": "stream",
     "text": [
      "<zip object at 0x00000282779B69C8>\n",
      "[(6, 'a'), (7, 'e'), (8, 'i'), (9, 'o'), (10, 'u')]\n"
     ]
    }
   ],
   "source": [
    "tuple_e = [6,7,8,9,10]\n",
    "tuple_f = [\"a\",\"e\",\"i\",\"o\",\"u\"]\n",
    "zipped = zip(tuple_e,tuple_f)\n",
    "print(zipped)\n",
    "result1 = list(zipped) # can be converted to list , set and dic\n",
    "print(result1) "
   ]
  },
  {
   "cell_type": "code",
   "execution_count": 134,
   "metadata": {},
   "outputs": [
    {
     "name": "stdout",
     "output_type": "stream",
     "text": [
      "<zip object at 0x00000282779B6E08>\n",
      "{('john', 'manager'), ('charles', 'supervisor'), ('mike', 'engineer')}\n"
     ]
    }
   ],
   "source": [
    "a = (\"john\",\"charles\",\"mike\")\n",
    "b = (\"manager\",\"supervisor\",\"engineer\")\n",
    "zipped = zip(a,b)\n",
    "print(zipped)\n",
    "result2 = set(zipped) # can be converted to list , set and dic\n",
    "print(result2) "
   ]
  },
  {
   "cell_type": "code",
   "execution_count": 135,
   "metadata": {},
   "outputs": [
    {
     "name": "stdout",
     "output_type": "stream",
     "text": [
      "<zip object at 0x00000282779C0AC8>\n",
      "{('mike', 'engineer'), ('prem', 'supervisor'), ('raj', 'manager')}\n"
     ]
    }
   ],
   "source": [
    "c = (\"raj\",\"prem\",\"mike\")\n",
    "d = (\"manager\",\"supervisor\",\"engineer\")\n",
    "zipped = zip(c,d)\n",
    "print(zipped)\n",
    "result3 = dic(zipped) # can be converted to list , set and dic\n",
    "print(result3) "
   ]
  },
  {
   "cell_type": "code",
   "execution_count": 131,
   "metadata": {},
   "outputs": [
    {
     "name": "stdout",
     "output_type": "stream",
     "text": [
      "('john', 'charles', 'mike')\n",
      "('manager', 'supervisor', 'engineer')\n"
     ]
    }
   ],
   "source": [
    "# how to unzip -----> same can be done with set,list,dic\n",
    "tuple_x,tuple_y = zip(*result2)\n",
    "print(tuple_x)\n",
    "print(tuple_y)"
   ]
  },
  {
   "cell_type": "code",
   "execution_count": null,
   "metadata": {},
   "outputs": [],
   "source": []
  },
  {
   "cell_type": "code",
   "execution_count": null,
   "metadata": {},
   "outputs": [],
   "source": []
  }
 ],
 "metadata": {
  "kernelspec": {
   "display_name": "Python 3",
   "language": "python",
   "name": "python3"
  },
  "language_info": {
   "codemirror_mode": {
    "name": "ipython",
    "version": 3
   },
   "file_extension": ".py",
   "mimetype": "text/x-python",
   "name": "python",
   "nbconvert_exporter": "python",
   "pygments_lexer": "ipython3",
   "version": "3.7.4"
  }
 },
 "nbformat": 4,
 "nbformat_minor": 2
}
