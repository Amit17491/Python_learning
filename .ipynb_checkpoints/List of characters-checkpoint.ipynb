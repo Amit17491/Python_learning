{
 "cells": [
  {
   "cell_type": "code",
   "execution_count": 78,
   "metadata": {},
   "outputs": [
    {
     "name": "stdout",
     "output_type": "stream",
     "text": [
      "['Amit', 'sonali', 'ratna', 'shukla']\n"
     ]
    }
   ],
   "source": [
    "name = [\"Amit\", \"sonali\", \"ratna\", \"shukla\"]\n",
    "print(name)"
   ]
  },
  {
   "cell_type": "code",
   "execution_count": 79,
   "metadata": {},
   "outputs": [
    {
     "ename": "IndexError",
     "evalue": "list assignment index out of range",
     "output_type": "error",
     "traceback": [
      "\u001b[1;31m---------------------------------------------------------------------------\u001b[0m",
      "\u001b[1;31mIndexError\u001b[0m                                Traceback (most recent call last)",
      "\u001b[1;32m<ipython-input-79-d7b82fbbb13b>\u001b[0m in \u001b[0;36m<module>\u001b[1;34m\u001b[0m\n\u001b[1;32m----> 1\u001b[1;33m \u001b[0mname\u001b[0m \u001b[1;33m[\u001b[0m\u001b[1;36m5\u001b[0m\u001b[1;33m]\u001b[0m \u001b[1;33m=\u001b[0m \u001b[1;34m\"shukla\"\u001b[0m\u001b[1;33m\u001b[0m\u001b[1;33m\u001b[0m\u001b[0m\n\u001b[0m\u001b[0;32m      2\u001b[0m \u001b[0mprint\u001b[0m\u001b[1;33m(\u001b[0m\u001b[0mname\u001b[0m\u001b[1;33m)\u001b[0m\u001b[1;33m\u001b[0m\u001b[1;33m\u001b[0m\u001b[0m\n",
      "\u001b[1;31mIndexError\u001b[0m: list assignment index out of range"
     ]
    }
   ],
   "source": [
    "name [5] = \"shukla\"\n",
    "print(name)"
   ]
  },
  {
   "cell_type": "code",
   "execution_count": 80,
   "metadata": {},
   "outputs": [
    {
     "name": "stdout",
     "output_type": "stream",
     "text": [
      "['Amit', 'sonali', 'ratna', 'shukla', 'Anil']\n"
     ]
    }
   ],
   "source": [
    "# insert(position,value)\n",
    "name.insert(5,\"Anil\")\n",
    "print(name)"
   ]
  },
  {
   "cell_type": "code",
   "execution_count": 81,
   "metadata": {},
   "outputs": [
    {
     "name": "stdout",
     "output_type": "stream",
     "text": [
      "['Amit', 'sonali', 'ratna', 'shukla', 'Anil', 'shukla']\n"
     ]
    }
   ],
   "source": [
    "# append---> list_name.append(value)\n",
    "#.represent the action will be performed on name\n",
    "# takes only one argument\n",
    "name.append(\"shukla\")\n",
    "print(name)"
   ]
  },
  {
   "cell_type": "code",
   "execution_count": 82,
   "metadata": {},
   "outputs": [
    {
     "data": {
      "text/plain": [
       "6"
      ]
     },
     "execution_count": 82,
     "metadata": {},
     "output_type": "execute_result"
    }
   ],
   "source": [
    "# Also count the blank space in between string\n",
    "len(name)"
   ]
  },
  {
   "cell_type": "code",
   "execution_count": 83,
   "metadata": {},
   "outputs": [
    {
     "name": "stdout",
     "output_type": "stream",
     "text": [
      "<class 'list'>\n"
     ]
    }
   ],
   "source": [
    "print(type(name))"
   ]
  },
  {
   "cell_type": "code",
   "execution_count": 84,
   "metadata": {},
   "outputs": [
    {
     "name": "stdout",
     "output_type": "stream",
     "text": [
      "['Amit', 'sonali', 'ratna', 'shukla', 'Anil']\n"
     ]
    }
   ],
   "source": [
    "name.pop()\n",
    "print(name)"
   ]
  },
  {
   "cell_type": "code",
   "execution_count": 85,
   "metadata": {},
   "outputs": [
    {
     "name": "stdout",
     "output_type": "stream",
     "text": [
      "['Amit', 'sonali', 'ratna', 'shukla', 'Anil', 'shukla', 'mishra', 'tiwari', 'pandey']\n"
     ]
    }
   ],
   "source": [
    "# concatenate two list\n",
    "list_surname = [\"shukla\", \"mishra\", \"tiwari\", \"pandey\"]\n",
    "print(name + list_surname)"
   ]
  },
  {
   "cell_type": "code",
   "execution_count": 86,
   "metadata": {},
   "outputs": [
    {
     "name": "stdout",
     "output_type": "stream",
     "text": [
      "['Amit', 'sonali', 'ratna', 'shukla', 'Anil', ['shukla', 'mishra', 'tiwari', 'pandey']]\n"
     ]
    }
   ],
   "source": [
    "# append one list into another\n",
    "name.append(list_surname)\n",
    "print(name)"
   ]
  },
  {
   "cell_type": "code",
   "execution_count": 87,
   "metadata": {},
   "outputs": [
    {
     "name": "stdout",
     "output_type": "stream",
     "text": [
      "Amit\n",
      "sonali\n",
      "ratna\n",
      "shukla\n",
      "Anil\n",
      "['shukla', 'mishra', 'tiwari', 'pandey']\n"
     ]
    }
   ],
   "source": [
    "for i in name:\n",
    "    print(i)"
   ]
  },
  {
   "cell_type": "code",
   "execution_count": 89,
   "metadata": {},
   "outputs": [
    {
     "name": "stdout",
     "output_type": "stream",
     "text": [
      "['Amit', 'sonali', 'ratna', 'shukla', 'Anil', ['shukla', 'mishra', 'tiwari', 'pandey'], 'patil', 'shinde', 'mall']\n"
     ]
    }
   ],
   "source": [
    "# when you want to add multiple value to the list use extend instead of append\n",
    "name.extend([\"patil\", \"shinde\", \"mall\"])\n",
    "print(name)"
   ]
  },
  {
   "cell_type": "code",
   "execution_count": 90,
   "metadata": {},
   "outputs": [
    {
     "name": "stdout",
     "output_type": "stream",
     "text": [
      "['Amit', 'sonali', 'ratna', 'shukla', 'Anil', ['shukla', 'mishra', 'tiwari', 'pandey'], 'patil', 'shinde', 'mall', 'shukla', 'mishra', 'tiwari', 'pandey', 'london', 'newyork', 'chicago', 'la', 'paris', 'sydney']\n"
     ]
    }
   ],
   "source": [
    "# concatenate multiple list\n",
    "list_place = [\"london\", \"newyork\", \"chicago\", \"la\", \"paris\", \"sydney\"]\n",
    "print(name + list_surname + list_place)"
   ]
  },
  {
   "cell_type": "code",
   "execution_count": 91,
   "metadata": {},
   "outputs": [
    {
     "name": "stdout",
     "output_type": "stream",
     "text": [
      "['Amit', 'sonali', 'ratna', 'shukla', 'Anil', 'patil', 'shinde', 'mall']\n"
     ]
    }
   ],
   "source": [
    "# removes one element at a time & throws error when element is not present\n",
    "name.remove(list_surname)\n",
    "print(name)"
   ]
  },
  {
   "cell_type": "code",
   "execution_count": 93,
   "metadata": {},
   "outputs": [
    {
     "data": {
      "text/plain": [
       "5"
      ]
     },
     "execution_count": 93,
     "metadata": {},
     "output_type": "execute_result"
    }
   ],
   "source": [
    "# printing list as a charcter\n",
    "name.index(\"patil\")"
   ]
  },
  {
   "cell_type": "code",
   "execution_count": 95,
   "metadata": {},
   "outputs": [
    {
     "name": "stdout",
     "output_type": "stream",
     "text": [
      "['Amit', 'sonali', 'ratna', 'shukla', 'Anil', 'patil', 'shinde', 'mall', 'shukla', 'mishra', 'tiwari', 'pandey', 'shukla', 'mishra', 'tiwari', 'pandey']\n",
      "['Amit', 'sonali', 'ratna', 'shukla', 'Anil', 'patil', 'shinde', 'mall', 'shukla', 'mishra', 'tiwari', 'pandey', 'shukla', 'mishra', 'tiwari', 'pandey', 'shukla', 'mishra', 'tiwari', 'pandey']\n"
     ]
    }
   ],
   "source": [
    "# how to append the list without using append keyword\n",
    "# 2 ways to do it\n",
    "name = name + list_surname\n",
    "print(name)\n",
    "\n",
    "name += list_surname\n",
    "print(name)"
   ]
  },
  {
   "cell_type": "code",
   "execution_count": 96,
   "metadata": {
    "scrolled": true
   },
   "outputs": [
    {
     "name": "stdout",
     "output_type": "stream",
     "text": [
      "['Amit', 'sonali', 'ratna', 'shukla', 'Anil', 'patil', 'shinde', 'mall', 'shukla', 'mishra', 'tiwari', 'pandey', 'shukla', 'mishra', 'tiwari', 'pandey', 'shukla', 'mishra', 'tiwari', 'pandey', ['shukla', 'mishra', 'tiwari', 'pandey'], ['london', 'newyork', 'chicago', 'la', 'paris', 'sydney']]\n"
     ]
    }
   ],
   "source": [
    "# to mrege the differnt list into 1 singlist \n",
    "name.extend([list_surname,list_place])\n",
    "print(name)"
   ]
  },
  {
   "cell_type": "code",
   "execution_count": 120,
   "metadata": {
    "scrolled": false
   },
   "outputs": [
    {
     "name": "stdout",
     "output_type": "stream",
     "text": [
      "['Amit', 'Anil', 'mall', 'mishra', 'mishra', 'mishra', 'pandey', 'pandey', 'pandey', 'patil', 'ratna', 'shinde', 'shukla', 'shukla', 'shukla', 'shukla', 'sonali', 'tiwari', 'tiwari', 'tiwari', ['shukla', 'mishra', 'tiwari', 'pandey'], ['london', 'newyork', 'chicago', 'la', 'paris', 'sydney']]\n",
      "[['london', 'newyork', 'chicago', 'la', 'paris', 'sydney'], ['shukla', 'mishra', 'tiwari', 'pandey'], 'tiwari', 'tiwari', 'tiwari', 'sonali', 'shukla', 'shukla', 'shukla', 'shukla', 'shinde', 'ratna', 'patil', 'pandey', 'pandey', 'pandey', 'mishra', 'mishra', 'mishra', 'mall', 'Anil', 'Amit']\n"
     ]
    }
   ],
   "source": [
    "# reverseing the list\n",
    "name.reverse()\n",
    "print(name)\n",
    "name.reverse()\n",
    "print(name)"
   ]
  },
  {
   "cell_type": "code",
   "execution_count": 1,
   "metadata": {},
   "outputs": [
    {
     "ename": "NameError",
     "evalue": "name 'name' is not defined",
     "output_type": "error",
     "traceback": [
      "\u001b[1;31m---------------------------------------------------------------------------\u001b[0m",
      "\u001b[1;31mNameError\u001b[0m                                 Traceback (most recent call last)",
      "\u001b[1;32m<ipython-input-1-b33790b1615a>\u001b[0m in \u001b[0;36m<module>\u001b[1;34m\u001b[0m\n\u001b[0;32m      1\u001b[0m \u001b[1;31m# sorting will not happen if a list contain inside list\u001b[0m\u001b[1;33m\u001b[0m\u001b[1;33m\u001b[0m\u001b[1;33m\u001b[0m\u001b[0m\n\u001b[1;32m----> 2\u001b[1;33m \u001b[0mname\u001b[0m\u001b[1;33m.\u001b[0m\u001b[0msort\u001b[0m\u001b[1;33m(\u001b[0m\u001b[1;33m)\u001b[0m\u001b[1;33m\u001b[0m\u001b[1;33m\u001b[0m\u001b[0m\n\u001b[0m\u001b[0;32m      3\u001b[0m \u001b[0mprint\u001b[0m\u001b[1;33m(\u001b[0m\u001b[0mname\u001b[0m\u001b[1;33m)\u001b[0m\u001b[1;33m\u001b[0m\u001b[1;33m\u001b[0m\u001b[0m\n",
      "\u001b[1;31mNameError\u001b[0m: name 'name' is not defined"
     ]
    }
   ],
   "source": [
    "# sorting will not happen if a list contain inside list\n",
    "name.sort()\n",
    "print(name)"
   ]
  },
  {
   "cell_type": "code",
   "execution_count": 122,
   "metadata": {},
   "outputs": [
    {
     "name": "stdout",
     "output_type": "stream",
     "text": [
      "['watermelon', 'mango', 'jackfruit', 'grapes', 'banana', 'apple']\n"
     ]
    }
   ],
   "source": [
    "# sorting the list revrese =True means descending order\n",
    "list_fruits = [\"mango\", \"apple\", \"banana\", \"jackfruit\", \"grapes\", \"watermelon\"]\n",
    "list_fruits.sort(reverse=True)\n",
    "print(list_fruits)"
   ]
  },
  {
   "cell_type": "code",
   "execution_count": 123,
   "metadata": {},
   "outputs": [
    {
     "name": "stdout",
     "output_type": "stream",
     "text": [
      "['apple', 'banana', 'grapes', 'jackfruit', 'mango', 'watermelon']\n"
     ]
    }
   ],
   "source": [
    "# default it will sort in the ascending order\n",
    "list_fruits = [\"mango\", \"apple\", \"banana\", \"jackfruit\", \"grapes\", \"watermelon\"]\n",
    "list_fruits.sort()\n",
    "print(list_fruits)"
   ]
  },
  {
   "cell_type": "code",
   "execution_count": 132,
   "metadata": {},
   "outputs": [
    {
     "data": {
      "text/plain": [
       "4"
      ]
     },
     "execution_count": 132,
     "metadata": {},
     "output_type": "execute_result"
    }
   ],
   "source": [
    "# count the list syntax lis_name.count(argument)\n",
    "name.count('shukla')"
   ]
  },
  {
   "cell_type": "code",
   "execution_count": 137,
   "metadata": {},
   "outputs": [
    {
     "data": {
      "text/plain": [
       "{'apple', 'banana', 'grapes', 'jackfruit', 'mango', 'watermelon'}"
      ]
     },
     "execution_count": 137,
     "metadata": {},
     "output_type": "execute_result"
    }
   ],
   "source": [
    "# converting list to set\n",
    "set(list_fruits)"
   ]
  },
  {
   "cell_type": "code",
   "execution_count": 166,
   "metadata": {},
   "outputs": [
    {
     "ename": "NameError",
     "evalue": "name 'list_surname' is not defined",
     "output_type": "error",
     "traceback": [
      "\u001b[1;31m---------------------------------------------------------------------------\u001b[0m",
      "\u001b[1;31mNameError\u001b[0m                                 Traceback (most recent call last)",
      "\u001b[1;32m<ipython-input-166-310d6a1837fd>\u001b[0m in \u001b[0;36m<module>\u001b[1;34m\u001b[0m\n\u001b[1;32m----> 1\u001b[1;33m \u001b[1;32mdel\u001b[0m \u001b[0mlist_surname\u001b[0m\u001b[1;33m\u001b[0m\u001b[1;33m\u001b[0m\u001b[0m\n\u001b[0m\u001b[0;32m      2\u001b[0m \u001b[0mlist_surname\u001b[0m\u001b[1;33m\u001b[0m\u001b[1;33m\u001b[0m\u001b[0m\n",
      "\u001b[1;31mNameError\u001b[0m: name 'list_surname' is not defined"
     ]
    }
   ],
   "source": [
    "del list_surname\n",
    "list_surname"
   ]
  },
  {
   "cell_type": "code",
   "execution_count": 176,
   "metadata": {},
   "outputs": [
    {
     "data": {
      "text/plain": [
       "[['london', 'newyork', 'chicago', 'la', 'paris', 'sydney'],\n",
       " ['shukla', 'mishra', 'tiwari', 'pandey'],\n",
       " 'tiwari',\n",
       " 'tiwari',\n",
       " 'tiwari',\n",
       " 'sonali',\n",
       " 'shukla',\n",
       " 'shukla',\n",
       " 'shukla',\n",
       " 'shukla',\n",
       " 'shinde',\n",
       " 'ratna',\n",
       " 'patil',\n",
       " 'pandey',\n",
       " 'pandey',\n",
       " 'pandey',\n",
       " 'mishra',\n",
       " 'mishra',\n",
       " 'mishra',\n",
       " 'mall',\n",
       " 'Anil',\n",
       " 'Amit']"
      ]
     },
     "execution_count": 176,
     "metadata": {},
     "output_type": "execute_result"
    }
   ],
   "source": [
    "# copy of list in python\n",
    "new_name = name.copy()\n",
    "new_name"
   ]
  },
  {
   "cell_type": "code",
   "execution_count": 177,
   "metadata": {},
   "outputs": [
    {
     "ename": "NameError",
     "evalue": "name 'name' is not defined",
     "output_type": "error",
     "traceback": [
      "\u001b[1;31m---------------------------------------------------------------------------\u001b[0m",
      "\u001b[1;31mNameError\u001b[0m                                 Traceback (most recent call last)",
      "\u001b[1;32m<ipython-input-177-3aec8ef3e8c7>\u001b[0m in \u001b[0;36m<module>\u001b[1;34m\u001b[0m\n\u001b[0;32m      1\u001b[0m \u001b[1;32mdel\u001b[0m \u001b[0mname\u001b[0m\u001b[1;33m\u001b[0m\u001b[1;33m\u001b[0m\u001b[0m\n\u001b[1;32m----> 2\u001b[1;33m \u001b[0mname\u001b[0m\u001b[1;33m\u001b[0m\u001b[1;33m\u001b[0m\u001b[0m\n\u001b[0m",
      "\u001b[1;31mNameError\u001b[0m: name 'name' is not defined"
     ]
    }
   ],
   "source": [
    "del name\n",
    "name"
   ]
  },
  {
   "cell_type": "code",
   "execution_count": 185,
   "metadata": {},
   "outputs": [
    {
     "data": {
      "text/plain": [
       "['mall',\n",
       " 'mishra',\n",
       " 'mishra',\n",
       " 'mishra',\n",
       " 'pandey',\n",
       " 'pandey',\n",
       " 'pandey',\n",
       " 'patil',\n",
       " 'ratna',\n",
       " 'shinde',\n",
       " 'shukla',\n",
       " 'shukla',\n",
       " 'shukla',\n",
       " 'shukla',\n",
       " 'sonali',\n",
       " 'tiwari',\n",
       " 'tiwari',\n",
       " 'tiwari',\n",
       " ['shukla', 'mishra', 'tiwari', 'pandey']]"
      ]
     },
     "execution_count": 185,
     "metadata": {},
     "output_type": "execute_result"
    }
   ],
   "source": [
    "New_name_list = new_name\n",
    "New_name_list"
   ]
  },
  {
   "cell_type": "code",
   "execution_count": 184,
   "metadata": {},
   "outputs": [
    {
     "data": {
      "text/plain": [
       "['mall',\n",
       " 'mishra',\n",
       " 'mishra',\n",
       " 'mishra',\n",
       " 'pandey',\n",
       " 'pandey',\n",
       " 'pandey',\n",
       " 'patil',\n",
       " 'ratna',\n",
       " 'shinde',\n",
       " 'shukla',\n",
       " 'shukla',\n",
       " 'shukla',\n",
       " 'shukla',\n",
       " 'sonali',\n",
       " 'tiwari',\n",
       " 'tiwari',\n",
       " 'tiwari',\n",
       " ['shukla', 'mishra', 'tiwari', 'pandey']]"
      ]
     },
     "execution_count": 184,
     "metadata": {},
     "output_type": "execute_result"
    }
   ],
   "source": [
    "new_name.reverse()\n",
    "new_name"
   ]
  },
  {
   "cell_type": "code",
   "execution_count": 188,
   "metadata": {},
   "outputs": [
    {
     "data": {
      "text/plain": [
       "['mall',\n",
       " 'mishra',\n",
       " 'mishra',\n",
       " 'mishra',\n",
       " 'pandey',\n",
       " 'pandey',\n",
       " 'pandey',\n",
       " 'patil',\n",
       " 'ratna',\n",
       " 'shinde',\n",
       " 'shukla',\n",
       " 'shukla',\n",
       " 'shukla',\n",
       " 'sonali',\n",
       " 'tiwari',\n",
       " 'tiwari',\n",
       " 'tiwari',\n",
       " ['shukla', 'mishra', 'tiwari', 'pandey']]"
      ]
     },
     "execution_count": 188,
     "metadata": {},
     "output_type": "execute_result"
    }
   ],
   "source": [
    "new_name.remove('shukla')\n",
    "new_name"
   ]
  },
  {
   "cell_type": "code",
   "execution_count": 189,
   "metadata": {},
   "outputs": [
    {
     "data": {
      "text/plain": [
       "['mall',\n",
       " 'mishra',\n",
       " 'mishra',\n",
       " 'mishra',\n",
       " 'pandey',\n",
       " 'pandey',\n",
       " 'pandey',\n",
       " 'patil',\n",
       " 'ratna',\n",
       " 'shinde',\n",
       " 'shukla',\n",
       " 'shukla',\n",
       " 'shukla',\n",
       " 'sonali',\n",
       " 'tiwari',\n",
       " 'tiwari',\n",
       " 'tiwari',\n",
       " ['shukla', 'mishra', 'tiwari', 'pandey']]"
      ]
     },
     "execution_count": 189,
     "metadata": {},
     "output_type": "execute_result"
    }
   ],
   "source": [
    "New_name_list"
   ]
  },
  {
   "cell_type": "code",
   "execution_count": 1,
   "metadata": {},
   "outputs": [
    {
     "name": "stdout",
     "output_type": "stream",
     "text": [
      "[['Hennessey venom GT', 1244], ['SSC Ultimate Aero', 1287], ['Zenvo ST1', 1100]]\n"
     ]
    }
   ],
   "source": [
    "## nested list and conversion of list\n",
    "car_matrix = [['Hennessey venom GT',1244],\n",
    "               ['SSC Ultimate Aero',1287],\n",
    "               ['Zenvo ST1',1100]]\n",
    "print(car_matrix)"
   ]
  },
  {
   "cell_type": "code",
   "execution_count": 2,
   "metadata": {},
   "outputs": [
    {
     "data": {
      "text/plain": [
       "3"
      ]
     },
     "execution_count": 2,
     "metadata": {},
     "output_type": "execute_result"
    }
   ],
   "source": [
    "len(car_matrix)"
   ]
  },
  {
   "cell_type": "code",
   "execution_count": 9,
   "metadata": {},
   "outputs": [
    {
     "data": {
      "text/plain": [
       "17"
      ]
     },
     "execution_count": 9,
     "metadata": {},
     "output_type": "execute_result"
    }
   ],
   "source": [
    "len(car_matrix[1][0]) # length of  \"ssc ultimate Aero\""
   ]
  },
  {
   "cell_type": "code",
   "execution_count": 10,
   "metadata": {},
   "outputs": [
    {
     "name": "stdout",
     "output_type": "stream",
     "text": [
      "1100\n"
     ]
    }
   ],
   "source": [
    "print(car_matrix[2][1]) "
   ]
  },
  {
   "cell_type": "code",
   "execution_count": 14,
   "metadata": {},
   "outputs": [
    {
     "name": "stdout",
     "output_type": "stream",
     "text": [
      "[1100, 'Zenvo ST1']\n"
     ]
    }
   ],
   "source": [
    "# slicing in the nested list\n",
    "print(car_matrix[2][::-1])"
   ]
  },
  {
   "cell_type": "code",
   "execution_count": 20,
   "metadata": {},
   "outputs": [
    {
     "name": "stdout",
     "output_type": "stream",
     "text": [
      "['leo', 18, 'Aaron', 25, 'Easton', 34, 'Jordan', 30]\n"
     ]
    }
   ],
   "source": [
    "my_list = ['leo',18,\n",
    "            'Aaron',25,\n",
    "            'Easton',34,\n",
    "            'Jordan',30]\n",
    "print(my_list)"
   ]
  },
  {
   "cell_type": "code",
   "execution_count": 18,
   "metadata": {
    "scrolled": true
   },
   "outputs": [
    {
     "ename": "ValueError",
     "evalue": "dictionary update sequence element #0 has length 3; 2 is required",
     "output_type": "error",
     "traceback": [
      "\u001b[1;31m---------------------------------------------------------------------------\u001b[0m",
      "\u001b[1;31mValueError\u001b[0m                                Traceback (most recent call last)",
      "\u001b[1;32m<ipython-input-18-173dc9c6c23e>\u001b[0m in \u001b[0;36m<module>\u001b[1;34m\u001b[0m\n\u001b[1;32m----> 1\u001b[1;33m \u001b[0mprint\u001b[0m\u001b[1;33m(\u001b[0m\u001b[0mdict\u001b[0m\u001b[1;33m(\u001b[0m\u001b[0mmy_list\u001b[0m\u001b[1;33m)\u001b[0m\u001b[1;33m)\u001b[0m\u001b[1;33m\u001b[0m\u001b[1;33m\u001b[0m\u001b[0m\n\u001b[0m\u001b[0;32m      2\u001b[0m \u001b[0mprint\u001b[0m\u001b[1;33m(\u001b[0m\u001b[0mtuple\u001b[0m\u001b[1;33m(\u001b[0m\u001b[0mmy_list\u001b[0m\u001b[1;33m)\u001b[0m\u001b[1;33m)\u001b[0m\u001b[1;33m\u001b[0m\u001b[1;33m\u001b[0m\u001b[0m\n\u001b[0;32m      3\u001b[0m \u001b[0mprint\u001b[0m\u001b[1;33m(\u001b[0m\u001b[0mset\u001b[0m\u001b[1;33m(\u001b[0m\u001b[0mmy_list\u001b[0m\u001b[1;33m)\u001b[0m\u001b[1;33m)\u001b[0m\u001b[1;33m\u001b[0m\u001b[1;33m\u001b[0m\u001b[0m\n",
      "\u001b[1;31mValueError\u001b[0m: dictionary update sequence element #0 has length 3; 2 is required"
     ]
    }
   ],
   "source": [
    "print(dict(my_list))\n",
    "print(tuple(my_list))\n",
    "print(set(my_list))"
   ]
  },
  {
   "cell_type": "code",
   "execution_count": 24,
   "metadata": {},
   "outputs": [
    {
     "name": "stdout",
     "output_type": "stream",
     "text": [
      "[[1, 'Caleb', 2, 'Leo'], [3, 'Easton', 4, 'Jordan']]\n"
     ]
    }
   ],
   "source": [
    "student_list = [[1, 'Caleb',2,'Leo'],\n",
    "                 [3,'Easton',4,'Jordan']]\n",
    "print(student_list)"
   ]
  },
  {
   "cell_type": "code",
   "execution_count": 28,
   "metadata": {
    "scrolled": true
   },
   "outputs": [
    {
     "ename": "ValueError",
     "evalue": "dictionary update sequence element #0 has length 4; 2 is required",
     "output_type": "error",
     "traceback": [
      "\u001b[1;31m---------------------------------------------------------------------------\u001b[0m",
      "\u001b[1;31mValueError\u001b[0m                                Traceback (most recent call last)",
      "\u001b[1;32m<ipython-input-28-cc5f5edd4fa2>\u001b[0m in \u001b[0;36m<module>\u001b[1;34m\u001b[0m\n\u001b[1;32m----> 1\u001b[1;33m \u001b[0mprint\u001b[0m\u001b[1;33m(\u001b[0m\u001b[0mdict\u001b[0m\u001b[1;33m(\u001b[0m\u001b[0mstudent_list\u001b[0m\u001b[1;33m)\u001b[0m\u001b[1;33m)\u001b[0m\u001b[1;33m\u001b[0m\u001b[1;33m\u001b[0m\u001b[0m\n\u001b[0m",
      "\u001b[1;31mValueError\u001b[0m: dictionary update sequence element #0 has length 4; 2 is required"
     ]
    }
   ],
   "source": [
    "print(dict(student_list)) # error becos the python doesnt able to identify key, value pair\n",
    "# also first element consit of 4 values  so does not able to pair key, value"
   ]
  },
  {
   "cell_type": "code",
   "execution_count": 29,
   "metadata": {},
   "outputs": [
    {
     "name": "stdout",
     "output_type": "stream",
     "text": [
      "[['leo', 18], ['Aaron', 25], ['Easton', 34], ['Jordan', 30]]\n",
      "{'leo': 18, 'Aaron': 25, 'Easton': 34, 'Jordan': 30}\n"
     ]
    }
   ],
   "source": [
    "my_list = [['leo',18],\n",
    "            ['Aaron',25],\n",
    "            ['Easton',34],\n",
    "            ['Jordan',30]]\n",
    "print(my_list)\n",
    "print(dict(my_list))# converted nested list to dict\n",
    "# here python is able to identify the key, value pair"
   ]
  },
  {
   "cell_type": "code",
   "execution_count": 31,
   "metadata": {},
   "outputs": [
    {
     "name": "stdout",
     "output_type": "stream",
     "text": [
      "{1: 'Caleb', 2: 'Leo', 3: 'Easton', 4: 'Jordan'}\n"
     ]
    }
   ],
   "source": [
    "# similarly by changing the list here also python is able to find key value\n",
    "student_list = [[1, 'Caleb'],[2,'Leo'],\n",
    "                 [3,'Easton'],[4,'Jordan']]\n",
    "print(dict(student_list))"
   ]
  },
  {
   "cell_type": "code",
   "execution_count": 32,
   "metadata": {},
   "outputs": [
    {
     "ename": "ValueError",
     "evalue": "dictionary update sequence element #3 has length 3; 2 is required",
     "output_type": "error",
     "traceback": [
      "\u001b[1;31m---------------------------------------------------------------------------\u001b[0m",
      "\u001b[1;31mValueError\u001b[0m                                Traceback (most recent call last)",
      "\u001b[1;32m<ipython-input-32-40b7c4b57012>\u001b[0m in \u001b[0;36m<module>\u001b[1;34m\u001b[0m\n\u001b[0;32m      1\u001b[0m student_list = [[1, 'Caleb'],[2,'Leo'],\n\u001b[0;32m      2\u001b[0m                  [3,'Easton'],[4,'Jordan','Adam']]\n\u001b[1;32m----> 3\u001b[1;33m \u001b[0mprint\u001b[0m\u001b[1;33m(\u001b[0m\u001b[0mdict\u001b[0m\u001b[1;33m(\u001b[0m\u001b[0mstudent_list\u001b[0m\u001b[1;33m)\u001b[0m\u001b[1;33m)\u001b[0m\u001b[1;33m\u001b[0m\u001b[1;33m\u001b[0m\u001b[0m\n\u001b[0m",
      "\u001b[1;31mValueError\u001b[0m: dictionary update sequence element #3 has length 3; 2 is required"
     ]
    }
   ],
   "source": [
    "student_list = [[1, 'Caleb'],[2,'Leo'],\n",
    "                 [3,'Easton'],[4,'Jordan','Adam']]\n",
    "print(dict(student_list)) # error becos the last element is contain 2 values jordan  & adam"
   ]
  },
  {
   "cell_type": "code",
   "execution_count": 34,
   "metadata": {},
   "outputs": [
    {
     "name": "stdout",
     "output_type": "stream",
     "text": [
      "{1: 'Caleb', 2: 'Leo', 3: 'Easton', 4: ['Jordan', 'Adam']}\n"
     ]
    }
   ],
   "source": [
    "student_list = [[1, 'Caleb'],[2,'Leo'],\n",
    "                 [3,'Easton'],[4,['Jordan','Adam']]]\n",
    "print(dict(student_list)) # now key 4 has two value [jordan , adam]"
   ]
  },
  {
   "cell_type": "code",
   "execution_count": null,
   "metadata": {},
   "outputs": [],
   "source": [
    "car_matrix = [['Hennessey venom GT',1244],\n",
    "               ['SSC Ultimate Aero',1287],\n",
    "               ['Zenvo ST1',1100]]\n",
    "print(car_matrix)"
   ]
  },
  {
   "cell_type": "code",
   "execution_count": 39,
   "metadata": {},
   "outputs": [
    {
     "name": "stdout",
     "output_type": "stream",
     "text": [
      "{'Hennessey venom GT': 1244, 'SSC Ultimate Aero': 1287, 'Zenvo ST1': 1100}\n"
     ]
    },
    {
     "data": {
      "text/plain": [
       "['Zenvo ST1', 1100]"
      ]
     },
     "execution_count": 39,
     "metadata": {},
     "output_type": "execute_result"
    }
   ],
   "source": [
    "car_matrix_dict = dict(car_matrix)\n",
    "print(car_matrix_dict)\n",
    "car_matrix.pop()"
   ]
  },
  {
   "cell_type": "code",
   "execution_count": 41,
   "metadata": {},
   "outputs": [
    {
     "name": "stdout",
     "output_type": "stream",
     "text": [
      "['Hennessey venom GT', 'SSC Ultimate Aero', 'Zenvo ST1']\n"
     ]
    }
   ],
   "source": [
    "car_names=list(car_matrix_dict)\n",
    "print(car_names)"
   ]
  },
  {
   "cell_type": "code",
   "execution_count": 42,
   "metadata": {},
   "outputs": [
    {
     "name": "stdout",
     "output_type": "stream",
     "text": [
      "[1244, 1287, 1100]\n"
     ]
    }
   ],
   "source": [
    "car_hp = list(car_matrix_dict.values())\n",
    "print(car_hp)"
   ]
  },
  {
   "cell_type": "code",
   "execution_count": 43,
   "metadata": {},
   "outputs": [
    {
     "name": "stdout",
     "output_type": "stream",
     "text": [
      "[('Hennessey venom GT', 1244), ('SSC Ultimate Aero', 1287), ('Zenvo ST1', 1100)]\n"
     ]
    }
   ],
   "source": [
    "# to print complete dict as a list\n",
    "car_names=list(car_matrix_dict.items())\n",
    "print(car_names)"
   ]
  },
  {
   "cell_type": "code",
   "execution_count": null,
   "metadata": {},
   "outputs": [],
   "source": []
  },
  {
   "cell_type": "code",
   "execution_count": null,
   "metadata": {},
   "outputs": [],
   "source": []
  }
 ],
 "metadata": {
  "kernelspec": {
   "display_name": "Python 3",
   "language": "python",
   "name": "python3"
  },
  "language_info": {
   "codemirror_mode": {
    "name": "ipython",
    "version": 3
   },
   "file_extension": ".py",
   "mimetype": "text/x-python",
   "name": "python",
   "nbconvert_exporter": "python",
   "pygments_lexer": "ipython3",
   "version": "3.7.4"
  }
 },
 "nbformat": 4,
 "nbformat_minor": 2
}
