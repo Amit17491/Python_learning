{
 "cells": [
  {
   "cell_type": "code",
   "execution_count": 3,
   "metadata": {},
   "outputs": [],
   "source": [
    "# point to remember while loops runs n+1 times to check condition\n",
    "# loop will run in infinite ways\n",
    "number = 20\n",
    "\n",
    "while number < 20:\n",
    "    print(number)"
   ]
  },
  {
   "cell_type": "code",
   "execution_count": 3,
   "metadata": {},
   "outputs": [
    {
     "name": "stdout",
     "output_type": "stream",
     "text": [
      "20\n"
     ]
    }
   ],
   "source": [
    "number = 20\n",
    "while number <= 25:\n",
    "    print(number)\n",
    "    \n",
    "    number = 26"
   ]
  },
  {
   "cell_type": "code",
   "execution_count": null,
   "metadata": {},
   "outputs": [],
   "source": [
    "# loop will run in infite way\n",
    "number = 20\n",
    "while number < 25:\n",
    "    print(number)\n",
    "    \n",
    "    number = 24"
   ]
  },
  {
   "cell_type": "code",
   "execution_count": 3,
   "metadata": {},
   "outputs": [
    {
     "name": "stdout",
     "output_type": "stream",
     "text": [
      "20\n",
      "21\n",
      "22\n",
      "23\n",
      "24\n"
     ]
    }
   ],
   "source": [
    "number = 20\n",
    "count = 0\n",
    "while number < 25:\n",
    "    print(number)\n",
    "    \n",
    "    number += 1"
   ]
  },
  {
   "cell_type": "code",
   "execution_count": 7,
   "metadata": {},
   "outputs": [
    {
     "name": "stdout",
     "output_type": "stream",
     "text": [
      "20\n",
      "21\n",
      "22\n",
      "23\n",
      "24\n",
      "25\n",
      "26\n",
      "27\n",
      "28\n",
      "29\n",
      "30\n"
     ]
    }
   ],
   "source": [
    "number = 20\n",
    "while number <= (25 + 5):\n",
    "    print(number)\n",
    "    \n",
    "    number += 1"
   ]
  },
  {
   "cell_type": "code",
   "execution_count": 8,
   "metadata": {},
   "outputs": [
    {
     "name": "stdout",
     "output_type": "stream",
     "text": [
      "Value of num is 5\n",
      "Value of num is 4\n",
      "Value of num is 3\n",
      "Value of num is 2\n",
      "Value of num is 1\n",
      "Good bye!\n"
     ]
    }
   ],
   "source": [
    "num = 5\n",
    "while num:\n",
    "    print(\"Value of num is\", num)\n",
    "    \n",
    "    num = num - 1\n",
    "print(\"Good bye!\")"
   ]
  },
  {
   "cell_type": "code",
   "execution_count": 9,
   "metadata": {},
   "outputs": [
    {
     "name": "stdout",
     "output_type": "stream",
     "text": [
      "Thomas is an amazing soccer player\n"
     ]
    }
   ],
   "source": [
    "name = \"Thomas\"\n",
    "while name == \"Thomas\":\n",
    "    print(\"%s is an amazing soccer player\" % name)\n",
    "    \n",
    "    name = \"Kingsley\""
   ]
  },
  {
   "cell_type": "code",
   "execution_count": 13,
   "metadata": {},
   "outputs": [
    {
     "name": "stdout",
     "output_type": "stream",
     "text": [
      "password: fushf\n",
      "password: Ron@95\n",
      "\n",
      "Access Granted\n"
     ]
    }
   ],
   "source": [
    "user_password = \" \"\n",
    "while user_password != \"Ron@95\": # untill the user enter the password as Ron@95 the loop will be asking for the password.\n",
    "    user_password = input(\"password: \")\n",
    "print(\"\\nAccess Granted\")"
   ]
  },
  {
   "cell_type": "code",
   "execution_count": 14,
   "metadata": {},
   "outputs": [
    {
     "name": "stdout",
     "output_type": "stream",
     "text": [
      "1\n",
      "4\n",
      "9\n",
      "16\n",
      "25\n",
      "36\n",
      "49\n",
      "64\n",
      "81\n",
      "100\n"
     ]
    }
   ],
   "source": [
    "num = 1\n",
    "while num <= 10:\n",
    "    print(num ** 2)\n",
    "    num += 1"
   ]
  },
  {
   "cell_type": "code",
   "execution_count": 3,
   "metadata": {},
   "outputs": [
    {
     "name": "stdout",
     "output_type": "stream",
     "text": [
      "Enter a number: 5\n",
      "enter a name: amit\n",
      "1 : amit\n",
      "2 : amit\n",
      "3 : amit\n",
      "4 : amit\n",
      "5 : amit\n"
     ]
    }
   ],
   "source": [
    "num_value = int(input(\"Enter a number: \"))\n",
    "name = input(\"enter a name: \")\n",
    "count = 1\n",
    "while count <= num_value:\n",
    "    print(count, \":\", name)\n",
    "    \n",
    "    count = count + 1"
   ]
  },
  {
   "cell_type": "code",
   "execution_count": 4,
   "metadata": {},
   "outputs": [
    {
     "name": "stdout",
     "output_type": "stream",
     "text": [
      "0\n",
      "1\n",
      "2\n",
      "3\n",
      "4\n",
      "5\n",
      "6\n",
      "7\n",
      "8\n",
      "9\n"
     ]
    }
   ],
   "source": [
    "num = 0\n",
    "while num in range(0, 10):\n",
    "    print(num)\n",
    "    \n",
    "    num = num + 1"
   ]
  },
  {
   "cell_type": "code",
   "execution_count": 5,
   "metadata": {},
   "outputs": [
    {
     "name": "stdout",
     "output_type": "stream",
     "text": [
      "even number:  0\n",
      "even number:  2\n",
      "even number:  4\n",
      "even number:  6\n",
      "even number:  8\n"
     ]
    }
   ],
   "source": [
    "num = 0\n",
    "while num in range(0, 10):\n",
    "    if num % 2 == 0:\n",
    "        print(\"even number: \", num)\n",
    "    num = num + 1"
   ]
  },
  {
   "cell_type": "code",
   "execution_count": null,
   "metadata": {},
   "outputs": [],
   "source": [
    "value_int = int(input(\"enter an integer: \"))\n",
    "length = 0\n",
    "while value_int > 0:\n",
    "    value_int //= 10\n",
    "    length += 1\n",
    "print(\"number of digits: \", length)"
   ]
  },
  {
   "cell_type": "code",
   "execution_count": null,
   "metadata": {},
   "outputs": [],
   "source": []
  },
  {
   "cell_type": "code",
   "execution_count": null,
   "metadata": {},
   "outputs": [],
   "source": []
  },
  {
   "cell_type": "code",
   "execution_count": null,
   "metadata": {},
   "outputs": [],
   "source": []
  },
  {
   "cell_type": "code",
   "execution_count": null,
   "metadata": {},
   "outputs": [],
   "source": []
  },
  {
   "cell_type": "code",
   "execution_count": null,
   "metadata": {},
   "outputs": [],
   "source": []
  }
 ],
 "metadata": {
  "kernelspec": {
   "display_name": "Python 3",
   "language": "python",
   "name": "python3"
  },
  "language_info": {
   "codemirror_mode": {
    "name": "ipython",
    "version": 3
   },
   "file_extension": ".py",
   "mimetype": "text/x-python",
   "name": "python",
   "nbconvert_exporter": "python",
   "pygments_lexer": "ipython3",
   "version": "3.7.4"
  }
 },
 "nbformat": 4,
 "nbformat_minor": 2
}
