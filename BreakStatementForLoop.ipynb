{
 "cells": [
  {
   "cell_type": "code",
   "execution_count": null,
   "metadata": {},
   "outputs": [],
   "source": [
    "# break statement terminate the loop completely and continue only skip the condition"
   ]
  },
  {
   "cell_type": "code",
   "execution_count": 2,
   "metadata": {},
   "outputs": [
    {
     "name": "stdout",
     "output_type": "stream",
     "text": [
      "p\n",
      "y\n",
      "t\n",
      "h\n"
     ]
    }
   ],
   "source": [
    "for letter in \"python\":\n",
    "    if letter == \"o\": # checking the condition before printing it\n",
    "        break         # loop gets terminated as letter is 0 \n",
    "    print(letter)"
   ]
  },
  {
   "cell_type": "code",
   "execution_count": 4,
   "metadata": {},
   "outputs": [
    {
     "name": "stdout",
     "output_type": "stream",
     "text": [
      "p\n",
      "y\n",
      "t\n",
      "h\n",
      "o\n"
     ]
    }
   ],
   "source": [
    "for letter in \"python\":\n",
    "    print(letter)\n",
    "    if letter == \"o\": # checking the condition after printing it\n",
    "        break         # loop gets terminated as letter is 0 \n",
    "    "
   ]
  },
  {
   "cell_type": "code",
   "execution_count": 10,
   "metadata": {},
   "outputs": [
    {
     "name": "stdout",
     "output_type": "stream",
     "text": [
      "The letter c was found in the string\n"
     ]
    }
   ],
   "source": [
    "for char in \"icecream\":\n",
    "    if char == 'c':\n",
    "        print('The letter %s was found in the string' %char)\n",
    "        break\n",
    "else:\n",
    "    print('The letter %s does not exist in the string' %char)"
   ]
  },
  {
   "cell_type": "code",
   "execution_count": 16,
   "metadata": {},
   "outputs": [
    {
     "name": "stdout",
     "output_type": "stream",
     "text": [
      "The letter i does not exist in the string\n",
      "The letter c was found in the string\n"
     ]
    }
   ],
   "source": [
    "for char in \"icecream\":\n",
    "    if char == 'c':\n",
    "        print('The letter %s was found in the string' %char)\n",
    "        break\n",
    "    else:\n",
    "        print('The letter %s does not exist in the string' %char)"
   ]
  },
  {
   "cell_type": "code",
   "execution_count": 12,
   "metadata": {},
   "outputs": [
    {
     "name": "stdout",
     "output_type": "stream",
     "text": [
      "The letter i does not exist in the string\n",
      "The letter c does not exist in the string\n",
      "The letter e does not exist in the string\n",
      "The letter c does not exist in the string\n",
      "The letter r does not exist in the string\n",
      "The letter e does not exist in the string\n",
      "The letter a does not exist in the string\n",
      "The letter m does not exist in the string\n"
     ]
    }
   ],
   "source": [
    "for char in \"icecream\":\n",
    "    if char == 'x':\n",
    "        print('The letter %s was found in the string' %char)\n",
    "        break\n",
    "    else:\n",
    "        print('The letter %s does not exist in the string' %char)"
   ]
  },
  {
   "cell_type": "code",
   "execution_count": 17,
   "metadata": {},
   "outputs": [
    {
     "name": "stdout",
     "output_type": "stream",
     "text": [
      "3\n",
      "11\n",
      "22\n",
      "The number 22 has been found\n",
      "Terminating the loop.....\n"
     ]
    }
   ],
   "source": [
    "for num in [3,11,22,35,90]:\n",
    "    print(num)\n",
    "    if (num == 22):\n",
    "        print(\"The number %d has been found\" %num)\n",
    "        print(\"Terminating the loop.....\")\n",
    "        break"
   ]
  },
  {
   "cell_type": "code",
   "execution_count": 19,
   "metadata": {},
   "outputs": [
    {
     "name": "stdout",
     "output_type": "stream",
     "text": [
      "0\n",
      "1\n",
      "2\n",
      "3\n"
     ]
    }
   ],
   "source": [
    "for i in range (5):\n",
    "    if i == 4:\n",
    "        break\n",
    "    print(i)"
   ]
  },
  {
   "cell_type": "code",
   "execution_count": 20,
   "metadata": {},
   "outputs": [
    {
     "name": "stdout",
     "output_type": "stream",
     "text": [
      "1 is less than 5\n",
      "2 is less than 5\n",
      "3 is less than 5\n",
      "4 is less than 5\n"
     ]
    }
   ],
   "source": [
    "for i in range(1, 10):\n",
    "    if i >=5:\n",
    "        break\n",
    "    print(i, \"is less than 5\")"
   ]
  },
  {
   "cell_type": "code",
   "execution_count": 21,
   "metadata": {},
   "outputs": [
    {
     "name": "stdout",
     "output_type": "stream",
     "text": [
      "0 square 0\n",
      "1 square 1\n",
      "2 square 4\n",
      "3 square 9\n",
      "4 square 16\n"
     ]
    }
   ],
   "source": [
    "my_list = range(10)\n",
    "for num in my_list:\n",
    "    if num ** 2 > 20:\n",
    "        break\n",
    "    print(num, \"square\", num ** 2)"
   ]
  },
  {
   "cell_type": "code",
   "execution_count": 24,
   "metadata": {},
   "outputs": [
    {
     "name": "stdout",
     "output_type": "stream",
     "text": [
      "The villain got away :(\n"
     ]
    }
   ],
   "source": [
    "places = [\"New Zealand\", \"Norway\", \"Botswana\", \"Zimbabwe\", \"Uzbekistan\", \"Paraguay\"]\n",
    "villain_at = \"Mali\"\n",
    "\n",
    "for place in places:\n",
    "    if place == villain_at:\n",
    "        print(\"The Villain has beem captured!\")\n",
    "else:\n",
    "    print(\"The villain got away :(\")"
   ]
  },
  {
   "cell_type": "code",
   "execution_count": 39,
   "metadata": {},
   "outputs": [
    {
     "name": "stdout",
     "output_type": "stream",
     "text": [
      "2\n",
      "1.0\n"
     ]
    }
   ],
   "source": [
    "print(5//2)  \n",
    "print(2/2)"
   ]
  },
  {
   "cell_type": "code",
   "execution_count": 41,
   "metadata": {},
   "outputs": [
    {
     "name": "stdout",
     "output_type": "stream",
     "text": [
      "Enter a number: 7\n",
      "7 is a prime number\n"
     ]
    }
   ],
   "source": [
    "num = int(input(\"Enter a number: \"))\n",
    "for i in range(2, num//2): #dividing the number from 2 untill half the value of the number\n",
    "    if num % i == 0:\n",
    "        print(\"It is not a prime number\")\n",
    "        break\n",
    "else:\n",
    "    print(num,\"is a prime number\")"
   ]
  },
  {
   "cell_type": "code",
   "execution_count": 43,
   "metadata": {},
   "outputs": [
    {
     "name": "stdout",
     "output_type": "stream",
     "text": [
      "Enter a password: secret\n",
      "you guessed the password :)\n"
     ]
    }
   ],
   "source": [
    "for i in range(3):\n",
    "    password = str(input(\"Enter a password: \"))\n",
    "    if password == \"secret\":\n",
    "        print(\"you guessed the password :)\")\n",
    "        break\n",
    "else:\n",
    "    print(\"3 incorrect password attempts\")"
   ]
  },
  {
   "cell_type": "code",
   "execution_count": null,
   "metadata": {},
   "outputs": [],
   "source": []
  }
 ],
 "metadata": {
  "kernelspec": {
   "display_name": "Python 3",
   "language": "python",
   "name": "python3"
  },
  "language_info": {
   "codemirror_mode": {
    "name": "ipython",
    "version": 3
   },
   "file_extension": ".py",
   "mimetype": "text/x-python",
   "name": "python",
   "nbconvert_exporter": "python",
   "pygments_lexer": "ipython3",
   "version": "3.7.4"
  }
 },
 "nbformat": 4,
 "nbformat_minor": 2
}
