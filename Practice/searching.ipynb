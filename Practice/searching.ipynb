{
 "cells": [
  {
   "cell_type": "code",
   "execution_count": 6,
   "metadata": {},
   "outputs": [
    {
     "name": "stdout",
     "output_type": "stream",
     "text": [
      "2\n"
     ]
    }
   ],
   "source": [
    "# linear search.\n",
    "\n",
    "def linear_search(val, y):\n",
    "    m = len(val)\n",
    "    for i in range(m):\n",
    "        if val[i]==y:\n",
    "            return i\n",
    "    retun -1\n",
    "\n",
    "\n",
    "num = [1,2,8,4,3,6,7,3,9]\n",
    "x = 8\n",
    "ans = linear_search(num, x)\n",
    "print(ans)\n"
   ]
  },
  {
   "cell_type": "code",
   "execution_count": 14,
   "metadata": {},
   "outputs": [
    {
     "name": "stdout",
     "output_type": "stream",
     "text": [
      "[1, 2, 8, 4, 3, 6, 7, 3, 9] 8 9\n",
      "[1, 2, 8, 4, 3, 6, 7, 3, 9] 8 8\n",
      "[1, 2, 8, 4, 3, 6, 7, 3, 9] 8 7\n",
      "[1, 2, 8, 4, 3, 6, 7, 3, 9] 8 6\n",
      "[1, 2, 8, 4, 3, 6, 7, 3, 9] 8 5\n",
      "[1, 2, 8, 4, 3, 6, 7, 3, 9] 8 4\n",
      "[1, 2, 8, 4, 3, 6, 7, 3, 9] 8 3\n",
      "[1, 2, 8, 4, 3, 6, 7, 3, 9] 8 2\n",
      "[1, 2, 8, 4, 3, 6, 7, 3, 9] 8 1\n",
      "[1, 2, 8, 4, 3, 6, 7, 3, 9] 8 0\n",
      "-1\n"
     ]
    }
   ],
   "source": [
    "# linear search using recusri\n",
    "def linear_search(arr, x, n):\n",
    "    print(arr, x, n)\n",
    "    if n == 0:\n",
    "        return -1\n",
    "    elif arr[0] == x:\n",
    "        return arr[0]\n",
    "    else:\n",
    "        remaining_part = linear_search(arr, x, n-1)\n",
    "        return remaining_part\n",
    "    \n",
    "num = [1,2,8,4,3,6,7,3,9]\n",
    "x = 8\n",
    "m = len(num)\n",
    "ans = linear_search(num, x, m)\n",
    "print(ans)"
   ]
  },
  {
   "cell_type": "code",
   "execution_count": 26,
   "metadata": {},
   "outputs": [
    {
     "name": "stdout",
     "output_type": "stream",
     "text": [
      "[1, 2, 3, 4, 5, 6, 7, 8, 9, 10] 0 9 7\n",
      "[1, 2, 3, 4, 5, 6, 7, 8, 9, 10] 0 8 7\n",
      "[1, 2, 3, 4, 5, 6, 7, 8, 9, 10] 0 7 7\n",
      "[1, 2, 3, 4, 5, 6, 7, 8, 9, 10] 0 6 7\n",
      "6\n"
     ]
    }
   ],
   "source": [
    "# binary search using recursion:\n",
    "def bin_sear(arr, low, high, m):\n",
    "    print(arr, low, high, m)\n",
    "    if high >= low:\n",
    "        mid = high + low  // 2\n",
    "        \n",
    "        if arr[mid] == m:\n",
    "            return mid\n",
    "        elif arr[mid] > m:\n",
    "            return bin_sear(arr, low, mid-1, m)\n",
    "        else:\n",
    "            return bin_sear(arr, mid+1, high, m)\n",
    "    else:\n",
    "        return -1\n",
    "num = [1,2,3,4,5,6,7,8,9,10]\n",
    "x = len(num)\n",
    "key = 7\n",
    "ans = bin_sear(num, 0, x-1, key)\n",
    "print(ans)"
   ]
  },
  {
   "cell_type": "code",
   "execution_count": null,
   "metadata": {},
   "outputs": [],
   "source": []
  }
 ],
 "metadata": {
  "kernelspec": {
   "display_name": "Python 3",
   "language": "python",
   "name": "python3"
  },
  "language_info": {
   "codemirror_mode": {
    "name": "ipython",
    "version": 3
   },
   "file_extension": ".py",
   "mimetype": "text/x-python",
   "name": "python",
   "nbconvert_exporter": "python",
   "pygments_lexer": "ipython3",
   "version": "3.7.4"
  }
 },
 "nbformat": 4,
 "nbformat_minor": 2
}
