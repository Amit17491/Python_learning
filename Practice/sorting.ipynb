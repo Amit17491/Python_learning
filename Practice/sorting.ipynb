{
 "cells": [
  {
   "cell_type": "code",
   "execution_count": 26,
   "metadata": {},
   "outputs": [
    {
     "name": "stdout",
     "output_type": "stream",
     "text": [
      "[1, 2, 4, 5, 8]\n"
     ]
    }
   ],
   "source": [
    "# bubble sort:\n",
    "def sort(num):\n",
    "    for i in range(len(num)):\n",
    "        for j in range(i, len(num)-1):\n",
    "            if num[j] > num[j+1]:\n",
    "                num[j], num[j+1] = num[j+1], num[j]\n",
    "    return num\n",
    "                \n",
    "num = [5, 1, 4, 2,8]\n",
    "ans = sort(num)\n",
    "print(ans)"
   ]
  },
  {
   "cell_type": "code",
   "execution_count": 29,
   "metadata": {},
   "outputs": [
    {
     "name": "stdout",
     "output_type": "stream",
     "text": [
      "[11, 22, 12, 25, 64]\n"
     ]
    }
   ],
   "source": [
    "# seletion sort\n",
    "def sort(num):\n",
    "    for i in range(len(num)):\n",
    "        min_index = i\n",
    "        for j in range(i+1,len(num)):\n",
    "            if num[min_index] > num[j]:\n",
    "                min_index = j\n",
    "            num[i], num[min_index] = num[min_index], num[i]\n",
    "    return num\n",
    "                \n",
    "A = [64, 25, 12, 22, 11]\n",
    "ans = sort(A)\n",
    "print(ans)"
   ]
  },
  {
   "cell_type": "code",
   "execution_count": null,
   "metadata": {},
   "outputs": [],
   "source": []
  },
  {
   "cell_type": "code",
   "execution_count": null,
   "metadata": {},
   "outputs": [],
   "source": []
  },
  {
   "cell_type": "code",
   "execution_count": null,
   "metadata": {},
   "outputs": [],
   "source": []
  },
  {
   "cell_type": "code",
   "execution_count": null,
   "metadata": {},
   "outputs": [],
   "source": []
  },
  {
   "cell_type": "code",
   "execution_count": null,
   "metadata": {},
   "outputs": [],
   "source": []
  },
  {
   "cell_type": "code",
   "execution_count": null,
   "metadata": {},
   "outputs": [],
   "source": []
  },
  {
   "cell_type": "code",
   "execution_count": null,
   "metadata": {},
   "outputs": [],
   "source": []
  },
  {
   "cell_type": "code",
   "execution_count": null,
   "metadata": {},
   "outputs": [],
   "source": []
  }
 ],
 "metadata": {
  "kernelspec": {
   "display_name": "Python 3",
   "language": "python",
   "name": "python3"
  },
  "language_info": {
   "codemirror_mode": {
    "name": "ipython",
    "version": 3
   },
   "file_extension": ".py",
   "mimetype": "text/x-python",
   "name": "python",
   "nbconvert_exporter": "python",
   "pygments_lexer": "ipython3",
   "version": "3.7.4"
  }
 },
 "nbformat": 4,
 "nbformat_minor": 2
}
