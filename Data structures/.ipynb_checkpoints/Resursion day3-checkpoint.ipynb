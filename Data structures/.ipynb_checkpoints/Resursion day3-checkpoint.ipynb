{
 "cells": [
  {
   "cell_type": "code",
   "execution_count": 67,
   "metadata": {},
   "outputs": [
    {
     "name": "stdout",
     "output_type": "stream",
     "text": [
      "Array is sorted\n"
     ]
    }
   ],
   "source": [
    "def sort(arr, size):\n",
    "    if size == 0 | size == 1:\n",
    "        return True\n",
    "    \n",
    "    if arr[0] > arr[1]:\n",
    "        return False\n",
    "    else:\n",
    "        remaining_part = sort(arr, size-1)\n",
    "        return remaining_part\n",
    "\n",
    "arr = [2,4,6,8,9,7]\n",
    "size = 6\n",
    "ans = sort(arr, size)\n",
    "if(ans == True):\n",
    "        print(\"Array is sorted\")\n",
    "else:\n",
    "    print(\"Arrya is not sorted\")"
   ]
  },
  {
   "cell_type": "code",
   "execution_count": 6,
   "metadata": {},
   "outputs": [
    {
     "name": "stdout",
     "output_type": "stream",
     "text": [
      "6\n",
      "12\n",
      "20\n",
      "29\n",
      "29\n"
     ]
    }
   ],
   "source": [
    "# returning the sum of the array using recursion.\n",
    "def sums(arr, size):\n",
    "    if size == 0 :\n",
    "        return True\n",
    "    \n",
    "    if size == 1:\n",
    "        return arr[0]\n",
    "    else:\n",
    "        remaining_part = sums(arr, size-1) + arr[size - 1]\n",
    "        print(remaining_part)\n",
    "        return remaining_part\n",
    "\n",
    "arr = [2,4,6,8,9]\n",
    "size = 5\n",
    "ans = sums(arr, size)\n",
    "print(ans)"
   ]
  },
  {
   "cell_type": "code",
   "execution_count": 7,
   "metadata": {},
   "outputs": [
    {
     "name": "stdout",
     "output_type": "stream",
     "text": [
      "31\n"
     ]
    }
   ],
   "source": [
    "# sum of array using loop\n",
    "num = [1,9,3,7,5,6]\n",
    "sum = 0\n",
    "for i in num:\n",
    "    sum = sum + i\n",
    "print(sum)"
   ]
  },
  {
   "cell_type": "code",
   "execution_count": 8,
   "metadata": {},
   "outputs": [
    {
     "name": "stdout",
     "output_type": "stream",
     "text": [
      "9\n"
     ]
    }
   ],
   "source": [
    "#Linear search using recursion\n",
    "def linear_search(arr, value):\n",
    "    for i in range(len(arr)):\n",
    "        if arr[i] == value:\n",
    "            return i  # return the index at which the element is there.\n",
    "\n",
    "num = [9,7,2,6,4,5,8,25,36,24]\n",
    "key = 24 \n",
    "ans = linear_search(num, key)\n",
    "print(ans)"
   ]
  },
  {
   "cell_type": "code",
   "execution_count": 42,
   "metadata": {},
   "outputs": [
    {
     "name": "stdout",
     "output_type": "stream",
     "text": [
      "[9, 7, 2, 6, 4, 5, 24] 7 9\n",
      "[9, 7, 2, 6, 4, 5, 24] 6 9\n",
      "[9, 7, 2, 6, 4, 5, 24] 5 9\n",
      "[9, 7, 2, 6, 4, 5, 24] 4 9\n",
      "[9, 7, 2, 6, 4, 5, 24] 3 9\n",
      "[9, 7, 2, 6, 4, 5, 24] 2 9\n",
      "[9, 7, 2, 6, 4, 5, 24] 1 9\n",
      "[9, 7, 2, 6, 4, 5, 24] 0 9\n",
      "False\n"
     ]
    }
   ],
   "source": [
    "# using recursion\n",
    "\n",
    "def linear_search(arr, size, k):\n",
    "    print(arr, size, k)\n",
    "    if size == 0:\n",
    "        return False\n",
    "    \n",
    "    if(arr[i] == k):\n",
    "            return True\n",
    "    else:\n",
    "        remaining_part = linear_search(arr, size-1, k)\n",
    "        return remaining_part\n",
    "    \n",
    "num = [9,7,2,6,4,5,24]\n",
    "key = 9\n",
    "size = len(num)\n",
    "ans = linear_search(num, size, key)\n",
    "print(ans)"
   ]
  },
  {
   "cell_type": "code",
   "execution_count": 63,
   "metadata": {},
   "outputs": [
    {
     "name": "stdout",
     "output_type": "stream",
     "text": [
      "None\n"
     ]
    }
   ],
   "source": [
    "# binary search using loop\n",
    "def binary_search(arr, s, e, k):\n",
    "    if e >= s:\n",
    "        mid = (e + s) // 2\n",
    "\n",
    "\t\t# If element is present at the middle itself\n",
    "\t\tif arr[mid] == x:\n",
    "\t\t\treturn mid\n",
    "\n",
    "\t\t# If element is smaller than mid, then it can only\n",
    "\t\t# be present in left subarray\n",
    "\t\telif arr[mid] > x:\n",
    "\t\t\treturn binary_search(arr, s, mid - 1, x)\n",
    "\n",
    "\t\t# Else the element can only be present in right subarray\n",
    "\t\telse:\n",
    "\t\t\treturn binary_search(arr, mid + 1, e, x)\n",
    "    else:\n",
    "        return -1 \n",
    "            \n",
    "num = [1,2,3,4,5,6,7,8,9]\n",
    "key = 8\n",
    "size = len(arr)\n",
    "ans = binary_search(num, 0, size-1, key)\n",
    "print(ans)"
   ]
  },
  {
   "cell_type": "code",
   "execution_count": null,
   "metadata": {},
   "outputs": [],
   "source": []
  },
  {
   "cell_type": "code",
   "execution_count": null,
   "metadata": {},
   "outputs": [],
   "source": []
  },
  {
   "cell_type": "code",
   "execution_count": null,
   "metadata": {},
   "outputs": [],
   "source": []
  },
  {
   "cell_type": "code",
   "execution_count": null,
   "metadata": {},
   "outputs": [],
   "source": []
  },
  {
   "cell_type": "code",
   "execution_count": null,
   "metadata": {},
   "outputs": [],
   "source": []
  },
  {
   "cell_type": "code",
   "execution_count": null,
   "metadata": {},
   "outputs": [],
   "source": []
  }
 ],
 "metadata": {
  "kernelspec": {
   "display_name": "Python 3",
   "language": "python",
   "name": "python3"
  },
  "language_info": {
   "codemirror_mode": {
    "name": "ipython",
    "version": 3
   },
   "file_extension": ".py",
   "mimetype": "text/x-python",
   "name": "python",
   "nbconvert_exporter": "python",
   "pygments_lexer": "ipython3",
   "version": "3.7.4"
  }
 },
 "nbformat": 4,
 "nbformat_minor": 2
}
