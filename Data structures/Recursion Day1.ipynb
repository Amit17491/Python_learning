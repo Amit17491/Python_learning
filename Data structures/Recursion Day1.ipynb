{
 "cells": [
  {
   "cell_type": "code",
   "execution_count": 35,
   "metadata": {},
   "outputs": [
    {
     "name": "stdout",
     "output_type": "stream",
     "text": [
      "5\n",
      "base condition failed.\n",
      "120\n"
     ]
    }
   ],
   "source": [
    "# calculate the factorial using the recursion.\n",
    "def fact(n):\n",
    "    # base condition as needed.\n",
    "    if (n == 0 or n == 1): # if base case is not implemented segmentation fault will be raised.\n",
    "        print(\"base condition failed.\")\n",
    "        return 1\n",
    "    else:\n",
    "        small_problem = fact(n-1)#recursive relation.\n",
    "        big_problem = n * small_problem  # solving the remaining case.\n",
    "        #print(big_problem)\n",
    "        return big_problem\n",
    "num = int(input())\n",
    "fact_answer = fact(num)\n",
    "print(fact_answer)"
   ]
  },
  {
   "cell_type": "code",
   "execution_count": 70,
   "metadata": {},
   "outputs": [
    {
     "name": "stdout",
     "output_type": "stream",
     "text": [
      "2\n",
      "4\n",
      "16\n"
     ]
    }
   ],
   "source": [
    "# calculate the power using the recursion.\n",
    "def power(n,p):\n",
    "    # base condition as needed.\n",
    "    if (p == 0): # if base case is not implemented segmentation fault will be raised.\n",
    "        return 1\n",
    "\n",
    "    else:\n",
    "        small_problem = power(n, p-1)#recursive relation.\n",
    "        big_problem = n * small_problem  # solving the remaining case.\n",
    "        #print(big_problem)\n",
    "        return big_problem\n",
    "num = int(input())\n",
    "powe = int(input())\n",
    "power_answer = power(num, powe)\n",
    "print(power_answer)"
   ]
  },
  {
   "cell_type": "code",
   "execution_count": 69,
   "metadata": {},
   "outputs": [
    {
     "name": "stdout",
     "output_type": "stream",
     "text": [
      "10\n",
      "1\n",
      "The source is 10 : the dst is 1\n",
      "The source is 9 : the dst is 1\n",
      "The source is 8 : the dst is 1\n",
      "The source is 7 : the dst is 1\n",
      "The source is 6 : the dst is 1\n",
      "The source is 5 : the dst is 1\n",
      "The source is 4 : the dst is 1\n",
      "The source is 3 : the dst is 1\n",
      "The source is 2 : the dst is 1\n",
      "The source is 1 : the dst is 1\n",
      "0\n",
      "None\n",
      "None\n",
      "None\n",
      "None\n",
      "None\n",
      "None\n",
      "None\n",
      "None\n",
      "None\n"
     ]
    }
   ],
   "source": [
    "# printing the number using head recursion.\n",
    "def count(a, b):\n",
    "    # base condition as needed.\n",
    "    print(\"The source is\", a, \":\", \"the dst is\", b)\n",
    "    if (a == b): # if base case is not implemented segmentation fault will be raised.\n",
    "        return 0\n",
    "\n",
    "    else:\n",
    "        \n",
    "        small_problem = count(a-1, b)#recursive relation.\n",
    "        print(small_problem)\n",
    "        #return small_problem # solving the remaining case.\n",
    "\n",
    "src = int(input())\n",
    "dst = int(input())\n",
    "count_answer = count(src, dst)\n",
    "print(count_answer)"
   ]
  },
  {
   "cell_type": "code",
   "execution_count": 68,
   "metadata": {},
   "outputs": [
    {
     "name": "stdout",
     "output_type": "stream",
     "text": [
      "10\n",
      "1\n",
      "2\n",
      "3\n",
      "4\n",
      "5\n",
      "6\n",
      "7\n",
      "8\n",
      "9\n",
      "10\n",
      "0\n"
     ]
    }
   ],
   "source": [
    "# printing the number using tail recursion.\n",
    "def count(a):\n",
    "    # base condition as needed.\n",
    "    if (a == 0): # if base case is not implemented segmentation fault will be raised.\n",
    "        return 0\n",
    "    else:\n",
    "        small_problem = count(a-1)#recursive relation.\n",
    "        print(a)\n",
    "        return small_problem # solving the remaining case.\n",
    "\n",
    "src = int(input())\n",
    "count_answer = count(src)\n",
    "print(count_answer)"
   ]
  },
  {
   "cell_type": "code",
   "execution_count": null,
   "metadata": {},
   "outputs": [],
   "source": []
  }
 ],
 "metadata": {
  "kernelspec": {
   "display_name": "Python 3",
   "language": "python",
   "name": "python3"
  },
  "language_info": {
   "codemirror_mode": {
    "name": "ipython",
    "version": 3
   },
   "file_extension": ".py",
   "mimetype": "text/x-python",
   "name": "python",
   "nbconvert_exporter": "python",
   "pygments_lexer": "ipython3",
   "version": "3.7.4"
  }
 },
 "nbformat": 4,
 "nbformat_minor": 2
}
