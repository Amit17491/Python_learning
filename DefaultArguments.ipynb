{
 "cells": [
  {
   "cell_type": "code",
   "execution_count": 1,
   "metadata": {},
   "outputs": [],
   "source": [
    "def print_student_details(name, school, math, physics, chemistry, biology, enrolled):\n",
    "    \n",
    "    total = math + physics + chemistry + biology\n",
    "    \n",
    "    print(\"Name:\", name)\n",
    "    print(\"School:\", school, \"Enrolled:\", enrolled)\n",
    "    print(\"Score:\", total) "
   ]
  },
  {
   "cell_type": "code",
   "execution_count": 2,
   "metadata": {},
   "outputs": [
    {
     "name": "stdout",
     "output_type": "stream",
     "text": [
      "Name: Alice\n",
      "School: Columbia Enrolled: True\n",
      "Score: 339\n"
     ]
    }
   ],
   "source": [
    "print_student_details(\"Alice\", \"Columbia\", math=100, physics=76, chemistry=64, biology=99, enrolled=True)"
   ]
  },
  {
   "cell_type": "code",
   "execution_count": 3,
   "metadata": {},
   "outputs": [],
   "source": [
    "def print_student_details(name, school, math, physics, chemistry, biology, enrolled=False):\n",
    "    # here we have declared enrolled by default as false.\n",
    "    \n",
    "    total = math + physics + chemistry + biology\n",
    "    \n",
    "    print(\"Name:\", name)\n",
    "    print(\"School:\", school, \"Enrolled:\", enrolled)\n",
    "    print(\"Score:\", total) "
   ]
  },
  {
   "cell_type": "code",
   "execution_count": 4,
   "metadata": {},
   "outputs": [
    {
     "name": "stdout",
     "output_type": "stream",
     "text": [
      "Name: Alice\n",
      "School: Columbia Enrolled: True\n",
      "Score: 339\n"
     ]
    }
   ],
   "source": [
    "print_student_details(\"Alice\", \"Columbia\", math=100, physics=76, chemistry=64, biology=99, enrolled=True)\n",
    "# here we have declared the enrolled value as True.\n",
    "# it will take the argument value not the default value."
   ]
  },
  {
   "cell_type": "code",
   "execution_count": 5,
   "metadata": {},
   "outputs": [
    {
     "name": "stdout",
     "output_type": "stream",
     "text": [
      "Name: Alice\n",
      "School: Columbia Enrolled: False\n",
      "Score: 339\n"
     ]
    }
   ],
   "source": [
    "print_student_details(\"Alice\", \"Columbia\", math=100, physics=76, chemistry=64, biology=99, enrolled=False)"
   ]
  },
  {
   "cell_type": "code",
   "execution_count": 8,
   "metadata": {},
   "outputs": [
    {
     "name": "stdout",
     "output_type": "stream",
     "text": [
      "Name: Alice\n",
      "School: Columbia Enrolled: False\n",
      "Score: 339\n"
     ]
    }
   ],
   "source": [
    "# now we are invoking the function without enrolled keyword.\n",
    "# it will take the default value from the fucntion.\n",
    "print_student_details(\"Alice\", \"Columbia\", math=100, physics=76, chemistry=64, biology=99)"
   ]
  },
  {
   "cell_type": "code",
   "execution_count": 9,
   "metadata": {},
   "outputs": [],
   "source": [
    "# here we have to default  arguments, \n",
    "def print_student_details(name, school, math, physics, chemistry, biology=50, enrolled=False):\n",
    "    total = math + physics + chemistry + biology\n",
    "    \n",
    "    print(\"Name:\", name)\n",
    "    print(\"school:\", school, \"Enrolled:\", enrolled)\n",
    "    print(\"Biology:\", biology)\n",
    "    print(\"Score:\", total)"
   ]
  },
  {
   "cell_type": "code",
   "execution_count": 10,
   "metadata": {},
   "outputs": [
    {
     "name": "stdout",
     "output_type": "stream",
     "text": [
      "Name: Alice\n",
      "school: Columbia Enrolled: False\n",
      "Biology: 99\n",
      "Score: 339\n"
     ]
    }
   ],
   "source": [
    "# it will take the default value for enrolled  and value for biology will be taken form the specified argument.\n",
    "print_student_details(\"Alice\", \"Columbia\", math=100, physics=76, chemistry=64, biology=99)"
   ]
  },
  {
   "cell_type": "code",
   "execution_count": 12,
   "metadata": {},
   "outputs": [
    {
     "name": "stdout",
     "output_type": "stream",
     "text": [
      "Name: Alice\n",
      "school: Columbia Enrolled: False\n",
      "Biology: 50\n",
      "Score: 290\n"
     ]
    }
   ],
   "source": [
    "# now we will entirly depend on the default value:\n",
    "# the default value for the biology is 50 and for the enrolled is False.\n",
    "print_student_details(\"Alice\", \"Columbia\", math=100, physics=76, chemistry=64)"
   ]
  },
  {
   "cell_type": "code",
   "execution_count": 13,
   "metadata": {},
   "outputs": [
    {
     "ename": "TypeError",
     "evalue": "print_student_details() missing 1 required positional argument: 'chemistry'",
     "output_type": "error",
     "traceback": [
      "\u001b[1;31m---------------------------------------------------------------------------\u001b[0m",
      "\u001b[1;31mTypeError\u001b[0m                                 Traceback (most recent call last)",
      "\u001b[1;32m<ipython-input-13-d5167f436b56>\u001b[0m in \u001b[0;36m<module>\u001b[1;34m\u001b[0m\n\u001b[1;32m----> 1\u001b[1;33m \u001b[0mprint_student_details\u001b[0m\u001b[1;33m(\u001b[0m\u001b[1;34m\"Alice\"\u001b[0m\u001b[1;33m,\u001b[0m \u001b[1;34m\"Colmbia\"\u001b[0m\u001b[1;33m,\u001b[0m \u001b[0mmath\u001b[0m\u001b[1;33m=\u001b[0m\u001b[1;36m100\u001b[0m\u001b[1;33m,\u001b[0m \u001b[0mphysics\u001b[0m\u001b[1;33m=\u001b[0m\u001b[1;36m76\u001b[0m\u001b[1;33m)\u001b[0m\u001b[1;33m\u001b[0m\u001b[1;33m\u001b[0m\u001b[0m\n\u001b[0m",
      "\u001b[1;31mTypeError\u001b[0m: print_student_details() missing 1 required positional argument: 'chemistry'"
     ]
    }
   ],
   "source": [
    "print_student_details(\"Alice\", \"Colmbia\", math=100, physics=76) # it will give error because we have not given value for \n",
    "# chemistry."
   ]
  },
  {
   "cell_type": "code",
   "execution_count": 14,
   "metadata": {},
   "outputs": [],
   "source": [
    "# here we have to default  arguments, \n",
    "def print_student_details(name, school, math, physics, chemistry=50, biology=50, enrolled=False):\n",
    "    total = math + physics + chemistry + biology\n",
    "    \n",
    "    print(\"Name:\", name)\n",
    "    print(\"school:\", school, \"Enrolled:\", enrolled)\n",
    "    print(\"Biology:\", biology)\n",
    "    print(\"Chemistry:\", chemistry)\n",
    "    print(\"Score:\", total)"
   ]
  },
  {
   "cell_type": "code",
   "execution_count": 15,
   "metadata": {},
   "outputs": [
    {
     "name": "stdout",
     "output_type": "stream",
     "text": [
      "Name: Alice\n",
      "school: Columbia Enrolled: False\n",
      "Biology: 50\n",
      "Chemistry: 64\n",
      "Score: 290\n"
     ]
    }
   ],
   "source": [
    "print_student_details(\"Alice\", \"Columbia\", math=100, physics=76, chemistry=64)"
   ]
  },
  {
   "cell_type": "code",
   "execution_count": 16,
   "metadata": {},
   "outputs": [
    {
     "name": "stdout",
     "output_type": "stream",
     "text": [
      "Name: Alice\n",
      "school: Columbia Enrolled: False\n",
      "Biology: 50\n",
      "Chemistry: 50\n",
      "Score: 276\n"
     ]
    }
   ],
   "source": [
    "# now invoking a fucntion with default value of chemistry and default value of enrolled.\n",
    "print_student_details(\"Alice\", \"Columbia\", math=100, physics=76)"
   ]
  },
  {
   "cell_type": "code",
   "execution_count": 17,
   "metadata": {},
   "outputs": [
    {
     "ename": "SyntaxError",
     "evalue": "non-default argument follows default argument (<ipython-input-17-8df09ce81daa>, line 2)",
     "output_type": "error",
     "traceback": [
      "\u001b[1;36m  File \u001b[1;32m\"<ipython-input-17-8df09ce81daa>\"\u001b[1;36m, line \u001b[1;32m2\u001b[0m\n\u001b[1;33m    def print_student_details(name, school, math=50, physics, chemistry=50, biology=50, enrolled=False):\u001b[0m\n\u001b[1;37m                             ^\u001b[0m\n\u001b[1;31mSyntaxError\u001b[0m\u001b[1;31m:\u001b[0m non-default argument follows default argument\n"
     ]
    }
   ],
   "source": [
    "# here we have to default  arguments, \n",
    "def print_student_details(name, school, math=50, physics, chemistry=50, biology=50, enrolled=False):\n",
    "    total = math + physics + chemistry + biology\n",
    "    \n",
    "    print(\"Name:\", name)\n",
    "    print(\"school:\", school, \"Enrolled:\", enrolled)\n",
    "    print(\"Biology:\", biology)\n",
    "    print(\"Chemistry:\", chemistry)\n",
    "    print(\"Score:\", total)\n",
    "# here it will throw error because for math we have defined the value and not for physics.\n",
    "# means non-default arguments follows default argument. this cannot be done."
   ]
  },
  {
   "cell_type": "code",
   "execution_count": 19,
   "metadata": {},
   "outputs": [
    {
     "ename": "SyntaxError",
     "evalue": "non-default argument follows default argument (<ipython-input-19-9768d3d92b4c>, line 2)",
     "output_type": "error",
     "traceback": [
      "\u001b[1;36m  File \u001b[1;32m\"<ipython-input-19-9768d3d92b4c>\"\u001b[1;36m, line \u001b[1;32m2\u001b[0m\n\u001b[1;33m    def print_student_details(name, school=\"Hravard\", math, physics, chemistry=50, biology=50, enrolled=False):\u001b[0m\n\u001b[1;37m                             ^\u001b[0m\n\u001b[1;31mSyntaxError\u001b[0m\u001b[1;31m:\u001b[0m non-default argument follows default argument\n"
     ]
    }
   ],
   "source": [
    "# here we have to default  arguments, \n",
    "def print_student_details(name, school=\"Hravard\", math, physics, chemistry=50, biology=50, enrolled=False):\n",
    "    total = math + physics + chemistry + biology\n",
    "    \n",
    "    print(\"Name:\", name)\n",
    "    print(\"school:\", school, \"Enrolled:\", enrolled)\n",
    "    print(\"Biology:\", biology)\n",
    "    print(\"Chemistry:\", chemistry)\n",
    "    print(\"Score:\", total)\n",
    "# this type of declaration is also not allowed it will gives error."
   ]
  },
  {
   "cell_type": "code",
   "execution_count": 20,
   "metadata": {},
   "outputs": [
    {
     "ename": "SyntaxError",
     "evalue": "non-default argument follows default argument (<ipython-input-20-94b94a0ee7b5>, line 2)",
     "output_type": "error",
     "traceback": [
      "\u001b[1;36m  File \u001b[1;32m\"<ipython-input-20-94b94a0ee7b5>\"\u001b[1;36m, line \u001b[1;32m2\u001b[0m\n\u001b[1;33m    def print_student_details(name=\"Mark\", school, math, physics, chemistry=50, biology=50, enrolled=False):\u001b[0m\n\u001b[1;37m                             ^\u001b[0m\n\u001b[1;31mSyntaxError\u001b[0m\u001b[1;31m:\u001b[0m non-default argument follows default argument\n"
     ]
    }
   ],
   "source": [
    "# here we have to default  arguments, \n",
    "def print_student_details(name=\"Mark\", school, math, physics, chemistry=50, biology=50, enrolled=False):\n",
    "    total = math + physics + chemistry + biology\n",
    "    \n",
    "    print(\"Name:\", name)\n",
    "    print(\"school:\", school, \"Enrolled:\", enrolled)\n",
    "    print(\"Biology:\", biology)\n",
    "    print(\"Chemistry:\", chemistry)\n",
    "    print(\"Score:\", total)\n",
    "# this combination of declartion is also not allowed."
   ]
  },
  {
   "cell_type": "code",
   "execution_count": 24,
   "metadata": {},
   "outputs": [],
   "source": [
    "# now defining all the value for the keyword.\n",
    "def print_student_details(name=\"Marks\", school=\"Harvard\", math=50, physics=50, chemistry=50, biology=50, enrolled=False):\n",
    "    total = math + physics + chemistry + biology\n",
    "    \n",
    "    print(\"Name:\", name)\n",
    "    print(\"school:\", school, \"Enrolled:\", enrolled)\n",
    "    print(\"math:\", math)\n",
    "    print(\"physics:\", physics)\n",
    "    print(\"Biology:\", biology)\n",
    "    print(\"Chemistry:\", chemistry)\n",
    "    print(\"Score:\", total)\n",
    "    "
   ]
  },
  {
   "cell_type": "code",
   "execution_count": 25,
   "metadata": {},
   "outputs": [
    {
     "name": "stdout",
     "output_type": "stream",
     "text": [
      "Name: Marks\n",
      "school: Harvard Enrolled: False\n",
      "math: 50\n",
      "physics: 50\n",
      "Biology: 50\n",
      "Chemistry: 50\n",
      "Score: 200\n"
     ]
    }
   ],
   "source": [
    "print_student_details()"
   ]
  },
  {
   "cell_type": "code",
   "execution_count": null,
   "metadata": {},
   "outputs": [],
   "source": []
  }
 ],
 "metadata": {
  "kernelspec": {
   "display_name": "Python 3",
   "language": "python",
   "name": "python3"
  },
  "language_info": {
   "codemirror_mode": {
    "name": "ipython",
    "version": 3
   },
   "file_extension": ".py",
   "mimetype": "text/x-python",
   "name": "python",
   "nbconvert_exporter": "python",
   "pygments_lexer": "ipython3",
   "version": "3.7.4"
  }
 },
 "nbformat": 4,
 "nbformat_minor": 2
}
