{
 "cells": [
  {
   "cell_type": "code",
   "execution_count": 4,
   "metadata": {},
   "outputs": [],
   "source": [
    "num_list = [20,30,40,50,60]"
   ]
  },
  {
   "cell_type": "code",
   "execution_count": 5,
   "metadata": {},
   "outputs": [
    {
     "name": "stdout",
     "output_type": "stream",
     "text": [
      "20\n",
      "30\n",
      "40\n",
      "50\n",
      "60\n",
      "There are 5 element in the list \n"
     ]
    }
   ],
   "source": [
    "count = 0\n",
    "while count < len(num_list):\n",
    "    print(num_list[count])\n",
    "    \n",
    "    count = count + 1 # count will be equal to the length of the list.\n",
    "print(\"There are %d element in the list \" % count)"
   ]
  },
  {
   "cell_type": "code",
   "execution_count": 6,
   "metadata": {},
   "outputs": [
    {
     "name": "stdout",
     "output_type": "stream",
     "text": [
      "20\n",
      "50\n",
      "90\n",
      "140\n",
      "200\n",
      "sum of all element in the list : 200\n"
     ]
    }
   ],
   "source": [
    "total = 0\n",
    "element = 0\n",
    "while element < len(num_list):\n",
    "    total = total + num_list[element]\n",
    "    print(total)\n",
    "    \n",
    "    element = element + 1\n",
    "    \n",
    "print(\"sum of all element in the list :\",total)"
   ]
  },
  {
   "cell_type": "code",
   "execution_count": 8,
   "metadata": {},
   "outputs": [
    {
     "name": "stdout",
     "output_type": "stream",
     "text": [
      "20\n",
      "50\n",
      "90\n",
      "140\n",
      "200\n",
      "sum of all elements in the list : 200\n"
     ]
    }
   ],
   "source": [
    "# to traverse over list using for loop\n",
    "# the diff between while loop and for loop working\n",
    "total = 0\n",
    "element = 0\n",
    "for element in num_list:\n",
    "    total += element\n",
    "    print(total)\n",
    "print(\"sum of all elements in the list :\", total)\n",
    "# The difference in the code is that we dont have to maintain the index of the element."
   ]
  },
  {
   "cell_type": "code",
   "execution_count": 11,
   "metadata": {},
   "outputs": [
    {
     "name": "stdout",
     "output_type": "stream",
     "text": [
      "enter the number of element: 7\n",
      "Enter the brand name: samsung\n",
      "Enter the brand name: huawei\n",
      "Enter the brand name: apple\n",
      "Enter the brand name: nokia\n",
      "Enter the brand name: oneplus\n",
      "Enter the brand name: vivo\n",
      "Enter the brand name: sony\n",
      "['samsung', 'huawei', 'apple', 'nokia', 'oneplus', 'vivo', 'sony']\n"
     ]
    }
   ],
   "source": [
    "smartphone_brands = []\n",
    "name = int(input(\"enter the number of element: \"))\n",
    "for i in range(name):\n",
    "    brand_name = input(\"Enter the brand name: \")\n",
    "    smartphone_brands.append(brand_name)\n",
    "print(smartphone_brands)"
   ]
  },
  {
   "cell_type": "code",
   "execution_count": 17,
   "metadata": {},
   "outputs": [
    {
     "name": "stdout",
     "output_type": "stream",
     "text": [
      "samsung\n",
      "huawei\n",
      "apple\n",
      "nokia\n",
      "oneplus\n",
      "vivo\n",
      "sony\n"
     ]
    },
    {
     "ename": "IndexError",
     "evalue": "list index out of range",
     "output_type": "error",
     "traceback": [
      "\u001b[1;31m---------------------------------------------------------------------------\u001b[0m",
      "\u001b[1;31mIndexError\u001b[0m                                Traceback (most recent call last)",
      "\u001b[1;32m<ipython-input-17-aaf9da3a009b>\u001b[0m in \u001b[0;36m<module>\u001b[1;34m\u001b[0m\n\u001b[0;32m      1\u001b[0m \u001b[0mcount\u001b[0m \u001b[1;33m=\u001b[0m \u001b[1;36m0\u001b[0m\u001b[1;33m\u001b[0m\u001b[1;33m\u001b[0m\u001b[0m\n\u001b[0;32m      2\u001b[0m \u001b[1;32mwhile\u001b[0m \u001b[0mcount\u001b[0m \u001b[1;33m<=\u001b[0m \u001b[0mlen\u001b[0m\u001b[1;33m(\u001b[0m\u001b[0msmartphone_brands\u001b[0m\u001b[1;33m)\u001b[0m\u001b[1;33m:\u001b[0m\u001b[1;33m\u001b[0m\u001b[1;33m\u001b[0m\u001b[0m\n\u001b[1;32m----> 3\u001b[1;33m     \u001b[0mprint\u001b[0m\u001b[1;33m(\u001b[0m\u001b[0msmartphone_brands\u001b[0m\u001b[1;33m[\u001b[0m\u001b[0mcount\u001b[0m\u001b[1;33m]\u001b[0m\u001b[1;33m)\u001b[0m\u001b[1;33m\u001b[0m\u001b[1;33m\u001b[0m\u001b[0m\n\u001b[0m\u001b[0;32m      4\u001b[0m \u001b[1;33m\u001b[0m\u001b[0m\n\u001b[0;32m      5\u001b[0m     \u001b[0mcount\u001b[0m \u001b[1;33m=\u001b[0m \u001b[0mcount\u001b[0m \u001b[1;33m+\u001b[0m \u001b[1;36m1\u001b[0m\u001b[1;33m\u001b[0m\u001b[1;33m\u001b[0m\u001b[0m\n",
      "\u001b[1;31mIndexError\u001b[0m: list index out of range"
     ]
    }
   ],
   "source": [
    "count = 0\n",
    "while count <= len(smartphone_brands): # because the while loop iterate over n+1 times.\n",
    "    print(smartphone_brands[count])\n",
    "    \n",
    "    count = count + 1"
   ]
  },
  {
   "cell_type": "code",
   "execution_count": 18,
   "metadata": {},
   "outputs": [
    {
     "name": "stdout",
     "output_type": "stream",
     "text": [
      "samsung\n",
      "apple\n",
      "oneplus\n",
      "sony\n"
     ]
    }
   ],
   "source": [
    "# how to print alternate element using while loop\n",
    "count = 0\n",
    "while count < len(smartphone_brands):\n",
    "    print(smartphone_brands[count])\n",
    "    count = count + 2"
   ]
  },
  {
   "cell_type": "code",
   "execution_count": 24,
   "metadata": {},
   "outputs": [
    {
     "name": "stdout",
     "output_type": "stream",
     "text": [
      "[0, 2, 4, 6, 8, 10, 12, 14, 16, 18, 20, 22, 24, 26, 28, 30, 32, 34, 36, 38, 40, 42, 44, 46, 48, 50] 26\n",
      "[1, 3, 5, 7, 9, 11, 13, 15, 17, 19, 21, 23, 25, 27, 29, 31, 33, 35, 37, 39, 41, 43, 45, 47, 49] 25\n",
      "51\n"
     ]
    }
   ],
   "source": [
    "even_list = []\n",
    "odd_list = []\n",
    "num = 0\n",
    "while num <=50:\n",
    "    if num % 2 == 0:\n",
    "        even_list.append(num)\n",
    "    else:\n",
    "        odd_list.append(num)\n",
    "    num += 1\n",
    "print(even_list,len(even_list))\n",
    "print(odd_list,len(odd_list))\n",
    "print(num)"
   ]
  },
  {
   "cell_type": "code",
   "execution_count": 35,
   "metadata": {},
   "outputs": [
    {
     "name": "stdout",
     "output_type": "stream",
     "text": [
      " C  F\n",
      "  -20  -4.0\n",
      "  -15   5.0\n",
      "  -10  14.0\n",
      "   -5  23.0\n",
      "    0  32.0\n",
      "   -5  23.0\n",
      "   10  50.0\n",
      "   15  59.0\n",
      "   20  68.0\n",
      "   25  77.0\n",
      "   30  86.0\n",
      "   35  95.0\n",
      "   36  96.8\n",
      "   37  98.6\n",
      "   38 100.4\n",
      "   39 102.2\n",
      "   40 104.0\n"
     ]
    }
   ],
   "source": [
    "c_degrees = [-20, -15, -10, -5, 0, -5, 10, 15, 20, 25, 30, 35, 36, 37, 38, 39, 40]\n",
    "index = 0\n",
    "print(' C  F')\n",
    "while index < len(c_degrees):\n",
    "    C = c_degrees[index]\n",
    "    F = (9.0/5)*C + 32\n",
    "    print('%5d %5.1f' %(C, F)) # celsius value will take 5 character of space that is of integer type.\n",
    "    #fahrenheit value will take 5 digit before the decimal point and 1 digit after the point.\n",
    "    index += 1"
   ]
  },
  {
   "cell_type": "code",
   "execution_count": 37,
   "metadata": {},
   "outputs": [
    {
     "name": "stdout",
     "output_type": "stream",
     "text": [
      "william is 22 year old\n",
      "james is 26 year old\n",
      "olive is 24 year old\n",
      "jessie is 28 year old\n",
      "liam is 21 year old\n"
     ]
    }
   ],
   "source": [
    "name_list  = [\"william\", \"james\", \"olive\", \"jessie\", \"liam\"]\n",
    "age_list = [22, 26, 24, 28, 21]\n",
    "index = 0\n",
    "while index < len(name_list):\n",
    "    print(name_list[index],\"is\",age_list[index], \"year old\")\n",
    "    index = index + 1"
   ]
  },
  {
   "cell_type": "code",
   "execution_count": 40,
   "metadata": {},
   "outputs": [
    {
     "name": "stdout",
     "output_type": "stream",
     "text": [
      "a 0\n",
      "b 1\n",
      "c 2\n",
      "d 3\n",
      "e 4\n",
      "f 5\n",
      "g 6\n",
      "h 7\n"
     ]
    }
   ],
   "source": [
    "alpha_tuple = (\"a\", \"b\" ,\"c\" ,\"d\" , \"e\", \"f\", \"g\", \"h\")\n",
    "count = 0\n",
    "while count < len(alpha_tuple):\n",
    "    print(alpha_tuple[count],count)\n",
    "    count += 1"
   ]
  },
  {
   "cell_type": "code",
   "execution_count": 46,
   "metadata": {},
   "outputs": [],
   "source": [
    "character_name = (\"missandei\", \"samwell\", \"jorah\", \"Breiene\", \"margaery\", \"amitshukla\")"
   ]
  },
  {
   "cell_type": "code",
   "execution_count": 48,
   "metadata": {},
   "outputs": [
    {
     "name": "stdout",
     "output_type": "stream",
     "text": [
      "The longest name is in the tuple is :  amitshukla\n"
     ]
    }
   ],
   "source": [
    "long_name = character_name[0]\n",
    "index = 0\n",
    "while index < len(character_name):\n",
    "    if len(long_name) < len(character_name[index]):\n",
    "        long_name = character_name[index]\n",
    "    index = index + 1\n",
    "print(\"The longest name is in the tuple is : \", long_name)"
   ]
  },
  {
   "cell_type": "code",
   "execution_count": 49,
   "metadata": {},
   "outputs": [],
   "source": [
    "# while lopp can be used to perform a certain set of operations repeatedly until a specific condition is met."
   ]
  },
  {
   "cell_type": "code",
   "execution_count": null,
   "metadata": {},
   "outputs": [],
   "source": []
  }
 ],
 "metadata": {
  "kernelspec": {
   "display_name": "Python 3",
   "language": "python",
   "name": "python3"
  },
  "language_info": {
   "codemirror_mode": {
    "name": "ipython",
    "version": 3
   },
   "file_extension": ".py",
   "mimetype": "text/x-python",
   "name": "python",
   "nbconvert_exporter": "python",
   "pygments_lexer": "ipython3",
   "version": "3.7.4"
  }
 },
 "nbformat": 4,
 "nbformat_minor": 2
}
