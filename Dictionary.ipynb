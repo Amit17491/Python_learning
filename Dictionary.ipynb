{
 "cells": [
  {
   "cell_type": "code",
   "execution_count": 2,
   "metadata": {},
   "outputs": [
    {
     "data": {
      "text/plain": [
       "{}"
      ]
     },
     "execution_count": 2,
     "metadata": {},
     "output_type": "execute_result"
    }
   ],
   "source": [
    "empty_dict = {}\n",
    "empty_dict"
   ]
  },
  {
   "cell_type": "code",
   "execution_count": 97,
   "metadata": {},
   "outputs": [
    {
     "data": {
      "text/plain": [
       "{'James': 'Ducati Monster 1200',\n",
       " 'Jacob': 'Ducati Scrambler 1100',\n",
       " 'William': 'BMW S 1000 RR',\n",
       " 'Aiden': 'Harley Davidson'}"
      ]
     },
     "execution_count": 97,
     "metadata": {},
     "output_type": "execute_result"
    }
   ],
   "source": [
    "# dict in the form of {key,value}\n",
    "bike_owners = {\"James\" : \"Ducati Monster 1200\",\n",
    "               \"Jacob\" : \"Ducati Scrambler 1100\",\n",
    "               \"William\" : \"BMW S 1000 RR\",\n",
    "               \"Aiden\" : \"Harley Davidson\"}\n",
    "bike_owners"
   ]
  },
  {
   "cell_type": "code",
   "execution_count": 6,
   "metadata": {},
   "outputs": [
    {
     "name": "stdout",
     "output_type": "stream",
     "text": [
      "Ducati Monster 1200\n",
      "Harley Davidson\n"
     ]
    }
   ],
   "source": [
    "# access the value by using but vice versa not possible\n",
    "bike_1 = bike_owners[\"James\"]\n",
    "print(bike_1)\n",
    "bike_2 = bike_owners['Aiden']\n",
    "print(bike_2)"
   ]
  },
  {
   "cell_type": "code",
   "execution_count": 7,
   "metadata": {},
   "outputs": [
    {
     "ename": "KeyError",
     "evalue": "'BMW S 1000 RR'",
     "output_type": "error",
     "traceback": [
      "\u001b[1;31m---------------------------------------------------------------------------\u001b[0m",
      "\u001b[1;31mKeyError\u001b[0m                                  Traceback (most recent call last)",
      "\u001b[1;32m<ipython-input-7-a709b3f466ee>\u001b[0m in \u001b[0;36m<module>\u001b[1;34m\u001b[0m\n\u001b[0;32m      1\u001b[0m \u001b[1;31m# when trying to access the key from value\u001b[0m\u001b[1;33m\u001b[0m\u001b[1;33m\u001b[0m\u001b[1;33m\u001b[0m\u001b[0m\n\u001b[1;32m----> 2\u001b[1;33m \u001b[0mbike_owners\u001b[0m\u001b[1;33m[\u001b[0m\u001b[1;34m'BMW S 1000 RR'\u001b[0m\u001b[1;33m]\u001b[0m\u001b[1;33m\u001b[0m\u001b[1;33m\u001b[0m\u001b[0m\n\u001b[0m",
      "\u001b[1;31mKeyError\u001b[0m: 'BMW S 1000 RR'"
     ]
    }
   ],
   "source": [
    "# when trying to access the key from value\n",
    "bike_owners['BMW S 1000 RR']"
   ]
  },
  {
   "cell_type": "code",
   "execution_count": 75,
   "metadata": {},
   "outputs": [
    {
     "name": "stdout",
     "output_type": "stream",
     "text": [
      "{1: 25, 2: 55, 3: 65}\n",
      "{'a': 'amit', 'b': 'sarthak', 'c': 'Adarsh', 'd': 'dhamale'}\n",
      "{1: 25, 2: 55, 3: 65} {'a': 'amit', 'b': 'sarthak', 'c': 'Adarsh', 'd': 'dhamale'}\n"
     ]
    },
    {
     "ename": "TypeError",
     "evalue": "unsupported operand type(s) for +: 'dict' and 'dict'",
     "output_type": "error",
     "traceback": [
      "\u001b[1;31m---------------------------------------------------------------------------\u001b[0m",
      "\u001b[1;31mTypeError\u001b[0m                                 Traceback (most recent call last)",
      "\u001b[1;32m<ipython-input-75-61875e6d9b50>\u001b[0m in \u001b[0;36m<module>\u001b[1;34m\u001b[0m\n\u001b[0;32m      5\u001b[0m \u001b[0mprint\u001b[0m\u001b[1;33m(\u001b[0m\u001b[0mstr_dict\u001b[0m\u001b[1;33m)\u001b[0m\u001b[1;33m\u001b[0m\u001b[1;33m\u001b[0m\u001b[0m\n\u001b[0;32m      6\u001b[0m \u001b[0mprint\u001b[0m\u001b[1;33m(\u001b[0m\u001b[0mint_dict\u001b[0m\u001b[1;33m,\u001b[0m\u001b[0mstr_dict\u001b[0m\u001b[1;33m)\u001b[0m\u001b[1;33m\u001b[0m\u001b[1;33m\u001b[0m\u001b[0m\n\u001b[1;32m----> 7\u001b[1;33m \u001b[0mprint\u001b[0m\u001b[1;33m(\u001b[0m\u001b[0mint_dict\u001b[0m \u001b[1;33m+\u001b[0m \u001b[0mstr_dict\u001b[0m\u001b[1;33m)\u001b[0m \u001b[1;31m# two dict cannot be concatenated\u001b[0m\u001b[1;33m\u001b[0m\u001b[1;33m\u001b[0m\u001b[0m\n\u001b[0m",
      "\u001b[1;31mTypeError\u001b[0m: unsupported operand type(s) for +: 'dict' and 'dict'"
     ]
    }
   ],
   "source": [
    "# strings are the most common value for key but can use integer\n",
    "int_dict = { 1 : 25, 2 : 55, 3 : 65}\n",
    "print(int_dict)\n",
    "str_dict = { \"a\" : \"amit\", \"b\" : \"sarthak\", \"c\" : \"Adarsh\", \"d\" : \"dhamale\"}\n",
    "print(str_dict)\n",
    "print(int_dict,str_dict)\n",
    "print(int_dict + str_dict) # two dict cannot be concatenated"
   ]
  },
  {
   "cell_type": "code",
   "execution_count": 20,
   "metadata": {},
   "outputs": [
    {
     "name": "stdout",
     "output_type": "stream",
     "text": [
      "dict_keys([1, 2, 3])\n",
      "dict_values(['amit', 'sarthak', 'Adarsh', 'dhamale'])\n"
     ]
    }
   ],
   "source": [
    "# print the keys and values of dict by using keyword keys and values\n",
    "print(int_dict.keys())\n",
    "print(str_dict.values())"
   ]
  },
  {
   "cell_type": "code",
   "execution_count": 24,
   "metadata": {},
   "outputs": [
    {
     "name": "stdout",
     "output_type": "stream",
     "text": [
      "{1: 25, 2: 55, 3: 65, 4: 25, 5: 55, 6: 75}\n",
      "\n",
      "{1: 25, 2: 55, 3: 55, 4: 25, 6: 75}\n"
     ]
    }
   ],
   "source": [
    "# multiple values can be present with unique key\n",
    "new_dict = { 1 : 25, 2 : 55, 3 : 65, 4 : 25 , 5: 55 , 6 : 75}\n",
    "print(new_dict)\n",
    "print()\n",
    "\n",
    "# but same key cannot have 2 diff value\n",
    "new_dict = { 1 : 25, 2 : 55, 3 : 65, 4 : 25 , 3 : 55 , 6 : 75}\n",
    "print(new_dict) # here it skips the  3 : 65 and prints the last value"
   ]
  },
  {
   "cell_type": "code",
   "execution_count": 77,
   "metadata": {},
   "outputs": [
    {
     "name": "stdout",
     "output_type": "stream",
     "text": [
      "['sonali', 'shukla']\n",
      "sonali\n",
      "shukla\n",
      "{'a': ['sonali', 'shukla'], 'b': ['ratna', 'shukla'], 'c': ['anil', 'shukla'], 'd': ['amit', 'baba']}\n"
     ]
    }
   ],
   "source": [
    "# dict key having multiple value and access them\n",
    "fam_dict = { \"a\" : [\"sonali\",\"shukla\"], \"b\" : [\"ratna\",\"shukla\"], \"c\" : [\"anil\",\"shukla\"], \"d\" : [\"amit\",\"shukla\"]}\n",
    "print(fam_dict[\"a\"])\n",
    "print(fam_dict[\"a\"][0])\n",
    "print(fam_dict[\"a\"][1])\n",
    "fam_dict[\"d\"][1] = \"baba\"\n",
    "print(fam_dict)"
   ]
  },
  {
   "cell_type": "code",
   "execution_count": 54,
   "metadata": {},
   "outputs": [
    {
     "name": "stdout",
     "output_type": "stream",
     "text": [
      "{'a': 'amit', 'b': 'sarthak', 'c': 'Adarsh', 'd': 'dhamale', 'James': 'Ducati Monster 1200', 'Jacob': 'Ducati Scrambler 1100', 'William': 'BMW S 1000 RR', 'Aiden': 'Harley Davidson'}\n",
      "\n",
      "{'a': 'amit', 'b': 'sarthak', 'c': 'Adarsh', 'd': 'dhamale', 'James': 'Ducati Monster 1200', 'Jacob': 'Ducati Scrambler 1100', 'William': 'BMW S 1000 RR', 'Aiden': 'Harley Davidson'}\n",
      "{1: 25, 2: 55, 3: 65, 'a': 'amit', 'b': 'sarthak', 'c': 'Adarsh', 'd': 'dhamale', 'James': 'Ducati Monster 1200', 'Jacob': 'Ducati Scrambler 1100', 'William': 'BMW S 1000 RR', 'Aiden': 'Harley Davidson'}\n"
     ]
    }
   ],
   "source": [
    "#  ways to merge or concatenate two dict\n",
    "# update method\n",
    "d1 = bike_owners.copy()\n",
    "d2 = str_dict.copy()\n",
    "d2.update(d1)\n",
    "print(d2)\n",
    "print()\n",
    "\n",
    "# using unpacking\n",
    "d3 = {**d2,**d1}\n",
    "print(d3)\n",
    "\n",
    "# 2nd method import chainmap method\n",
    "# 3rd method unpack only one dict\n",
    "d4 = dict(int_dict, **d2) # it works only when one dict having int key and one with string key\n",
    "print(d4)"
   ]
  },
  {
   "cell_type": "code",
   "execution_count": 63,
   "metadata": {},
   "outputs": [
    {
     "name": "stdout",
     "output_type": "stream",
     "text": [
      "True\n",
      "True\n",
      "False\n",
      "False\n"
     ]
    }
   ],
   "source": [
    "# in and not in dict\n",
    "print(\"c\" in fam_dict.keys())\n",
    "print(\"Adarsh\" in str_dict.values())\n",
    "print(\"Adarsh\" not in str_dict.values())\n",
    "print(\"sonali\" in fam_dict.values()) ###??? review later"
   ]
  },
  {
   "cell_type": "code",
   "execution_count": 76,
   "metadata": {},
   "outputs": [
    {
     "name": "stdout",
     "output_type": "stream",
     "text": [
      "{'a': ['shukla', 'sonali'], 'b': ['ratna', 'shukla'], 'c': ['anil', 'shukla'], 'd': ['amit', 'shukla'], 'e': ['govind', 'shukla']}\n",
      "{'a': ['shukla', 'sonali'], 'b': ['ratna', 'shukla'], 'c': ['anil', 'shukla'], 'd': ['amit', 'shukla'], 'e': ['govind', 'shukla']}\n",
      "{'a': ['shukla', 'sonali'], 'b': ['ratna', 'shukla'], 'c': ['anil', 'shukla'], 'd': ['amit', 'shukla'], 'e': ['govind', 'shukla']}\n",
      "['anil', 'shukla']\n",
      "\n",
      "{'b': 'sarthak', 'c': 'Adarsh', 'd': 'dhamale'}\n"
     ]
    }
   ],
   "source": [
    "print(fam_dict)\n",
    "fam_dict [\"e\"] = [\"govind\",\"shukla\"]\n",
    "print(fam_dict)# updated with new value of\n",
    "fam_dict [\"a\"] = [\"shukla\",\"sonali\"]\n",
    "print(fam_dict)\n",
    " # print using .get(keys)\n",
    "print(fam_dict.get(\"c\"))\n",
    "print()\n",
    "# del particular key,value\n",
    "del str_dict[\"a\"]\n",
    "print(str_dict)"
   ]
  },
  {
   "cell_type": "code",
   "execution_count": 82,
   "metadata": {},
   "outputs": [
    {
     "name": "stdout",
     "output_type": "stream",
     "text": [
      "80\n"
     ]
    }
   ],
   "source": [
    "# dict within dict\n",
    "fruits_qty_consumed ={\n",
    "                 \"banana\" : {\"Fri\" : 70, \"Sat\" : 80, \"Sun\" : 95},\n",
    "                  \"apple\" : {\"Fri\" : 700, \"Sat\" : 800, \"Sun\" : 500}\n",
    " }\n",
    "print(fruits_qty_consumed[\"banana\"][\"Sat\"])"
   ]
  },
  {
   "cell_type": "code",
   "execution_count": 102,
   "metadata": {},
   "outputs": [
    {
     "name": "stdout",
     "output_type": "stream",
     "text": [
      "{'James': 'Ducati Monster 1200', 'Jacob': 'Ducati Scrambler 1100', 'William': 'BMW S 1000 RR', 'Aiden': 'Harley Davidson'}\n",
      "4\n",
      "['Aiden', 'Jacob', 'James', 'William']\n",
      "['William', 'James', 'Jacob', 'Aiden']\n",
      "['Aiden', 'Jacob', 'James', 'William']\n",
      "dict_items([('James', 'Ducati Monster 1200'), ('Jacob', 'Ducati Scrambler 1100'), ('William', 'BMW S 1000 RR'), ('Aiden', 'Harley Davidson')])\n"
     ]
    }
   ],
   "source": [
    "bike_owners = {\"James\" : \"Ducati Monster 1200\",\n",
    "               \"Jacob\" : \"Ducati Scrambler 1100\",\n",
    "               \"William\" : \"BMW S 1000 RR\",\n",
    "               \"Aiden\" : \"Harley Davidson\"\n",
    "              }\n",
    "print(bike_owners)\n",
    "print(len(bike_owners))\n",
    "print(sorted(bike_owners))\n",
    "print(sorted(bike_owners, reverse=True))\n",
    "print(sorted(bike_owners))\n",
    "print(bike_owners.items()) # it returns list of key, values of tuple"
   ]
  },
  {
   "cell_type": "code",
   "execution_count": 93,
   "metadata": {},
   "outputs": [
    {
     "ename": "TypeError",
     "evalue": "'<' not supported between instances of 'int' and 'str'",
     "output_type": "error",
     "traceback": [
      "\u001b[1;31m---------------------------------------------------------------------------\u001b[0m",
      "\u001b[1;31mTypeError\u001b[0m                                 Traceback (most recent call last)",
      "\u001b[1;32m<ipython-input-93-d985d1f8243c>\u001b[0m in \u001b[0;36m<module>\u001b[1;34m\u001b[0m\n\u001b[0;32m      6\u001b[0m }\n\u001b[0;32m      7\u001b[0m \u001b[1;33m\u001b[0m\u001b[0m\n\u001b[1;32m----> 8\u001b[1;33m \u001b[0mprint\u001b[0m\u001b[1;33m(\u001b[0m\u001b[0msorted\u001b[0m\u001b[1;33m(\u001b[0m\u001b[0mbike_details\u001b[0m\u001b[1;33m.\u001b[0m\u001b[0mvalues\u001b[0m\u001b[1;33m(\u001b[0m\u001b[1;33m)\u001b[0m\u001b[1;33m)\u001b[0m\u001b[1;33m)\u001b[0m \u001b[1;31m# this bcos value are made up of string and int so cant compare\u001b[0m\u001b[1;33m\u001b[0m\u001b[1;33m\u001b[0m\u001b[0m\n\u001b[0m",
      "\u001b[1;31mTypeError\u001b[0m: '<' not supported between instances of 'int' and 'str'"
     ]
    }
   ],
   "source": [
    "bike_details = {\n",
    "                \"bike_owner\" : \"james Smith\",\n",
    "                 \"bike model\" : \"Ducati monster 1200\",\n",
    "                  \"bike_price\" : 28140,\n",
    "                  \"engine_displacement\" : 1197 \n",
    "}\n",
    "\n",
    "print(sorted(bike_details.values())) # this bcos value are made up of string and int so cant compare"
   ]
  },
  {
   "cell_type": "code",
   "execution_count": 103,
   "metadata": {},
   "outputs": [
    {
     "name": "stdout",
     "output_type": "stream",
     "text": [
      "Harley Davidson\n",
      "('bike model', 'Ducati monster 1200')\n",
      "{'James': 'Ducati Monster 1200', 'Jacob': 'Ducati Scrambler 1100', 'William': 'BMW S 1000 RR'}\n",
      "{'bike_owner': 'james Smith'}\n"
     ]
    }
   ],
   "source": [
    "# pop will deleted the key and will return the value\n",
    "print(bike_owners.pop(\"Aiden\"))\n",
    "print(bike_details.popitem())\n",
    "print(bike_owners)\n",
    "print(bike_details)"
   ]
  },
  {
   "cell_type": "code",
   "execution_count": null,
   "metadata": {},
   "outputs": [],
   "source": [
    "# clear command will clear data and del will delete entire dictionary"
   ]
  },
  {
   "cell_type": "code",
   "execution_count": 110,
   "metadata": {},
   "outputs": [
    {
     "name": "stdout",
     "output_type": "stream",
     "text": [
      "[(1, 25), (2, 55), (3, 65)]\n",
      "[('James', 'Ducati Monster 1200'), ('Jacob', 'Ducati Scrambler 1100'), ('William', 'BMW S 1000 RR')]\n",
      "((1, 25), (2, 55), (3, 65))\n",
      "(('James', 'Ducati Monster 1200'), ('Jacob', 'Ducati Scrambler 1100'), ('William', 'BMW S 1000 RR'))\n",
      "{(2, 55), (3, 65), (1, 25)}\n",
      "{('James', 'Ducati Monster 1200'), ('Jacob', 'Ducati Scrambler 1100'), ('William', 'BMW S 1000 RR')}\n"
     ]
    }
   ],
   "source": [
    "# converting  dict to tuple set and list\n",
    "new_list = list(int_dict.items())\n",
    "print(new_list)\n",
    "new_list = list(bike_owners.items())\n",
    "print(new_list)\n",
    "new_list = tuple(int_dict.items())\n",
    "print(new_list)\n",
    "new_list = tuple(bike_owners.items())\n",
    "print(new_list)\n",
    "new_list = set(int_dict.items())\n",
    "print(new_list)\n",
    "new_list = set(bike_owners.items())\n",
    "print(new_list)"
   ]
  },
  {
   "cell_type": "code",
   "execution_count": null,
   "metadata": {},
   "outputs": [],
   "source": []
  },
  {
   "cell_type": "code",
   "execution_count": null,
   "metadata": {},
   "outputs": [],
   "source": []
  },
  {
   "cell_type": "code",
   "execution_count": null,
   "metadata": {},
   "outputs": [],
   "source": []
  }
 ],
 "metadata": {
  "kernelspec": {
   "display_name": "Python 3",
   "language": "python",
   "name": "python3"
  },
  "language_info": {
   "codemirror_mode": {
    "name": "ipython",
    "version": 3
   },
   "file_extension": ".py",
   "mimetype": "text/x-python",
   "name": "python",
   "nbconvert_exporter": "python",
   "pygments_lexer": "ipython3",
   "version": "3.7.4"
  }
 },
 "nbformat": 4,
 "nbformat_minor": 2
}
