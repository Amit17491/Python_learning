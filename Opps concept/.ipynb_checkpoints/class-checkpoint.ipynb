{
 "cells": [
  {
   "cell_type": "code",
   "execution_count": 10,
   "metadata": {},
   "outputs": [
    {
     "name": "stdout",
     "output_type": "stream",
     "text": [
      "<__main__.Employee object at 0x000001BF7704BA48>\n",
      "<__main__.Employee object at 0x000001BF7704BA08>\n",
      "Amit\n",
      "shukla24mail.com\n"
     ]
    }
   ],
   "source": [
    "class Employee():\n",
    "    pass\n",
    "\n",
    "emp1 = Employee() #object1\n",
    "emp2 = Employee() #object2\n",
    "\n",
    "print(emp1)#<__main__.Employee object at 0x000001BF75155988>\n",
    "print(emp2)#<__main__.Employee object at 0x000001BF75155988>\n",
    "\n",
    "emp1.first = 'Amit'\n",
    "emp1.last= 'Shukla'\n",
    "emp1.email= 'shukla@gmail.com'\n",
    "emp1.pay = 50000\n",
    "\n",
    "emp2.first= 'sonali'\n",
    "emp2.last= 'Shukla'\n",
    "emp2.email= 'shukla24mail.com'\n",
    "emp2.pay = 5000\n",
    "\n",
    "#calling method.\n",
    "print(emp1.first)  \n",
    "print(emp2.email) # obj.attribute"
   ]
  },
  {
   "cell_type": "code",
   "execution_count": 22,
   "metadata": {},
   "outputs": [
    {
     "name": "stdout",
     "output_type": "stream",
     "text": [
      "<__main__.Employee object at 0x000001BF77074848>\n",
      "<__main__.Employee object at 0x000001BF77074A88>\n",
      "Amit\n",
      "sonali.shukla@gmail.com\n",
      "Amit shukla\n"
     ]
    }
   ],
   "source": [
    "# to reduce the setp and create instance using constructor.\n",
    "\n",
    "class Employee():\n",
    "    \n",
    "    def __init__(self, first, last, pay): # constructor to initialize each instance and assign data.\n",
    "        self.first = first # instance variable\n",
    "        self.last = last\n",
    "        self.email = first + '.' + last + '@gmail.com'\n",
    "        self.pay = pay\n",
    "\n",
    "emp1 = Employee('Amit', 'shukla', 50000) #object1  \n",
    "emp2 = Employee('sonali', 'shukla', 50000) #object2\n",
    "\n",
    "print(emp1)#<__main__.Employee object at 0x000001BF75155988>\n",
    "print(emp2)#<__main__.Employee object at 0x000001BF75155988>\n",
    "\n",
    "#calling method.\n",
    "print(emp1.first)  \n",
    "print(emp2.email) # obj.construtor_attribute\n",
    "\n",
    "print('{} {}'.format(emp1.first, emp1.last)) # print the full name using format."
   ]
  },
  {
   "cell_type": "code",
   "execution_count": 27,
   "metadata": {},
   "outputs": [
    {
     "name": "stdout",
     "output_type": "stream",
     "text": [
      "<__main__.Employee object at 0x000001BF770423C8>\n",
      "<__main__.Employee object at 0x000001BF77042E48>\n",
      "Amit\n",
      "sonali.shukla@gmail.com\n",
      "Amit shukla\n",
      "None\n",
      "sonali shukla\n",
      "None\n",
      "Amit shukla\n",
      "None\n",
      "Amit shukla\n",
      "None\n"
     ]
    }
   ],
   "source": [
    "# to reduce the setp and create instance using constructor.\n",
    "# creating a method. a function inside a class is called as method.\n",
    "\n",
    "class Employee():\n",
    "    \n",
    "    def __init__(self, first, last, pay):\n",
    "        self.first = first\n",
    "        self.last = last\n",
    "        self.email = first + '.' + last + '@gmail.com'\n",
    "        self.pay = pay\n",
    "        \n",
    "    # writing a method to print the full name.\n",
    "    def fullname(self):\n",
    "        print('{} {}'.format(self.first, self.last))\n",
    "\n",
    "emp1 = Employee('Amit', 'shukla', 50000) #object1\n",
    "emp2 = Employee('sonali', 'shukla', 50000) #object2\n",
    "\n",
    "print(emp1)#<__main__.Employee object at 0x000001BF75155988>\n",
    "print(emp2)#<__main__.Employee object at 0x000001BF75155988>\n",
    "\n",
    "#calling method.\n",
    "print(emp1.first)  \n",
    "print(emp2.email) # obj.attribute\n",
    "\n",
    "print(emp1.fullname())\n",
    "print(emp2.fullname())\n",
    "\n",
    "#or\n",
    "print(Employee.fullname(emp1))  # class.method(obj)\n",
    "print(Employee.fullname(emp1))  # class.method(obj)"
   ]
  },
  {
   "cell_type": "code",
   "execution_count": 28,
   "metadata": {},
   "outputs": [
    {
     "ename": "TypeError",
     "evalue": "fullname() takes 0 positional arguments but 1 was given",
     "output_type": "error",
     "traceback": [
      "\u001b[1;31m---------------------------------------------------------------------------\u001b[0m",
      "\u001b[1;31mTypeError\u001b[0m                                 Traceback (most recent call last)",
      "\u001b[1;32m<ipython-input-28-2c66135728f0>\u001b[0m in \u001b[0;36m<module>\u001b[1;34m\u001b[0m\n\u001b[0;32m     17\u001b[0m \u001b[0memp2\u001b[0m \u001b[1;33m=\u001b[0m \u001b[0mEmployee\u001b[0m\u001b[1;33m(\u001b[0m\u001b[1;34m'sonali'\u001b[0m\u001b[1;33m,\u001b[0m \u001b[1;34m'shukla'\u001b[0m\u001b[1;33m,\u001b[0m \u001b[1;36m50000\u001b[0m\u001b[1;33m)\u001b[0m \u001b[1;31m#object2\u001b[0m\u001b[1;33m\u001b[0m\u001b[1;33m\u001b[0m\u001b[0m\n\u001b[0;32m     18\u001b[0m \u001b[1;33m\u001b[0m\u001b[0m\n\u001b[1;32m---> 19\u001b[1;33m \u001b[0mprint\u001b[0m\u001b[1;33m(\u001b[0m\u001b[0mEmployee\u001b[0m\u001b[1;33m.\u001b[0m\u001b[0mfullname\u001b[0m\u001b[1;33m(\u001b[0m\u001b[0memp1\u001b[0m\u001b[1;33m)\u001b[0m\u001b[1;33m)\u001b[0m  \u001b[1;31m# class.method(obj)\u001b[0m\u001b[1;33m\u001b[0m\u001b[1;33m\u001b[0m\u001b[0m\n\u001b[0m\u001b[0;32m     20\u001b[0m \u001b[0mprint\u001b[0m\u001b[1;33m(\u001b[0m\u001b[0mEmployee\u001b[0m\u001b[1;33m.\u001b[0m\u001b[0mfullname\u001b[0m\u001b[1;33m(\u001b[0m\u001b[0memp1\u001b[0m\u001b[1;33m)\u001b[0m\u001b[1;33m)\u001b[0m  \u001b[1;31m# class.method(obj)\u001b[0m\u001b[1;33m\u001b[0m\u001b[1;33m\u001b[0m\u001b[0m\n",
      "\u001b[1;31mTypeError\u001b[0m: fullname() takes 0 positional arguments but 1 was given"
     ]
    }
   ],
   "source": [
    "# to reduce the setp and create instance using constructor.\n",
    "# creating a method. a function inside a class is called as method.\n",
    "\n",
    "class Employee():\n",
    "    \n",
    "    def __init__(self, first, last, pay):\n",
    "        self.first = first\n",
    "        self.last = last\n",
    "        self.email = first + '.' + last + '@gmail.com'\n",
    "        self.pay = pay\n",
    "        \n",
    "    # writing a method to print the full name.\n",
    "    def fullname():   # not passing self will give error something like in the comment.\n",
    "        print('{} {}'.format(self.first, self.last))\n",
    "\n",
    "emp1 = Employee('Amit', 'shukla', 50000) #object1\n",
    "emp2 = Employee('sonali', 'shukla', 50000) #object2\n",
    "\n",
    "print(Employee.fullname(emp1))  # class.method(obj)\n",
    "print(Employee.fullname(emp1))  # class.method(obj)"
   ]
  },
  {
   "cell_type": "code",
   "execution_count": 33,
   "metadata": {},
   "outputs": [
    {
     "name": "stdout",
     "output_type": "stream",
     "text": [
      "50000\n",
      "52000\n"
     ]
    }
   ],
   "source": [
    "# without class variable: want o give raise to the employee by hard coding\n",
    "class Employee():\n",
    "\n",
    "    def __init__(self, first, last, pay):\n",
    "        self.first = first\n",
    "        self.last = last\n",
    "        self.email = first + '.' + last + '@gmail.com'\n",
    "        self.pay = pay\n",
    "        \n",
    "    # writing a method to print the full name.\n",
    "    def fullname(self):   \n",
    "        print('{} {}'.format(self.first, self.last))\n",
    "        \n",
    "    def apply_raise(self):\n",
    "        self.pay = int(self.pay * 1.04)\n",
    "    \n",
    "\n",
    "emp1 = Employee('Amit', 'shukla', 50000) #object1\n",
    "emp2 = Employee('sonali', 'shukla', 60000) #object2\n",
    "\n",
    "\n",
    "print(emp1.pay)\n",
    "emp1.apply_raise()\n",
    "print(emp1.pay)\n",
    "\n",
    "# this is not correct way and if i have to write for 2nd object i have to do the same.\n",
    "# to save time and make only few changes.\n",
    "# we use class variable.\n",
    "\n",
    "# we should be able to get access by\n",
    "# emp1.raise_amount or Employee.raise_amount"
   ]
  },
  {
   "cell_type": "code",
   "execution_count": 56,
   "metadata": {},
   "outputs": [
    {
     "name": "stdout",
     "output_type": "stream",
     "text": [
      "1.04\n",
      "1.04\n",
      "1.04\n",
      "50000\n",
      "52000.0\n",
      "{'first': 'Amit', 'last': 'shukla', 'email': 'Amit.shukla@gmail.com', 'pay': 52000.0}\n",
      "{'first': 'Amit', 'last': 'shukla', 'email': 'Amit.shukla@gmail.com', 'pay': 52000.0}\n",
      "['__class__', '__delattr__', '__dict__', '__dir__', '__doc__', '__eq__', '__format__', '__ge__', '__getattribute__', '__gt__', '__hash__', '__init__', '__init_subclass__', '__le__', '__lt__', '__module__', '__ne__', '__new__', '__reduce__', '__reduce_ex__', '__repr__', '__setattr__', '__sizeof__', '__str__', '__subclasshook__', '__weakref__', 'apply_raise', 'email', 'first', 'fullname', 'last', 'pay', 'raise_amount']\n",
      "['__class__', '__delattr__', '__dict__', '__dir__', '__doc__', '__eq__', '__format__', '__ge__', '__getattribute__', '__gt__', '__hash__', '__init__', '__init_subclass__', '__le__', '__lt__', '__module__', '__ne__', '__new__', '__reduce__', '__reduce_ex__', '__repr__', '__setattr__', '__sizeof__', '__str__', '__subclasshook__', '__weakref__', 'apply_raise', 'fullname', 'raise_amount']\n",
      "{'__module__': '__main__', 'raise_amount': 1.04, '__init__': <function Employee.__init__ at 0x000001BF771505E8>, 'fullname': <function Employee.fullname at 0x000001BF771501F8>, 'apply_raise': <function Employee.apply_raise at 0x000001BF77150CA8>, '__dict__': <attribute '__dict__' of 'Employee' objects>, '__weakref__': <attribute '__weakref__' of 'Employee' objects>, '__doc__': None}\n"
     ]
    }
   ],
   "source": [
    "# class variable\n",
    "class Employee():\n",
    "    \n",
    "    raise_amount = 1.04\n",
    "\n",
    "    def __init__(self, first, last, pay):\n",
    "        self.first = first\n",
    "        self.last = last\n",
    "        self.email = first + '.' + last + '@gmail.com'\n",
    "        self.pay = pay\n",
    "        \n",
    "    # writing a method to print the full name.\n",
    "    def fullname(self):   \n",
    "        print('{} {}'.format(self.first, self.last))\n",
    "        \n",
    "    def apply_raise(self):\n",
    "        self.pay = (self.pay * self.raise_amount)\n",
    "    \n",
    "\n",
    "emp1 = Employee('Amit', 'shukla', 50000) #object1\n",
    "emp2 = Employee('sonali', 'shukla', 60000) #object2\n",
    "\n",
    "print(Employee.raise_amount)\n",
    "print(emp1.raise_amount)\n",
    "print(emp2.raise_amount)\n",
    "\n",
    "#or\n",
    "\n",
    "print(emp1.pay)\n",
    "emp1.apply_raise()\n",
    "print(emp1.pay)\n",
    "\n",
    "# how to print the name space if object. \n",
    "print(emp1.__dict__)\n",
    "print(vars(emp1))\n",
    "print(dir(emp1))\n",
    "print(dir(Employee)) # name space of class\n",
    "print(vars(Employee))"
   ]
  },
  {
   "cell_type": "code",
   "execution_count": 58,
   "metadata": {},
   "outputs": [
    {
     "name": "stdout",
     "output_type": "stream",
     "text": [
      "1.05\n",
      "1.05\n",
      "1.05\n",
      "50000\n",
      "52500.0\n"
     ]
    }
   ],
   "source": [
    "# playing with class variable.\n",
    "# class variable\n",
    "class Employee():\n",
    "    \n",
    "    raise_amount = 1.04\n",
    "\n",
    "    def __init__(self, first, last, pay):\n",
    "        self.first = first\n",
    "        self.last = last\n",
    "        self.email = first + '.' + last + '@gmail.com'\n",
    "        self.pay = pay\n",
    "        \n",
    "    # writing a method to print the full name.\n",
    "    def fullname(self):   \n",
    "        print('{} {}'.format(self.first, self.last))\n",
    "        \n",
    "    def apply_raise(self):\n",
    "        self.pay = (self.pay * self.raise_amount)\n",
    "    \n",
    "\n",
    "emp1 = Employee('Amit', 'shukla', 50000) #object1\n",
    "emp2 = Employee('sonali', 'shukla', 60000) #object2\n",
    "\n",
    "\n",
    "Employee.raise_amount = 1.05\n",
    "\n",
    "print(Employee.raise_amount)\n",
    "print(emp1.raise_amount)\n",
    "print(emp2.raise_amount)\n",
    "\n",
    "#or\n",
    "\n",
    "print(emp1.pay)\n",
    "emp1.apply_raise()\n",
    "print(emp1.pay)\n"
   ]
  },
  {
   "cell_type": "code",
   "execution_count": 60,
   "metadata": {},
   "outputs": [
    {
     "name": "stdout",
     "output_type": "stream",
     "text": [
      "1.04\n",
      "1.05\n",
      "1.04\n",
      "50000\n",
      "52500.0\n",
      "{'first': 'Amit', 'last': 'shukla', 'email': 'Amit.shukla@gmail.com', 'pay': 52500.0, 'raise_amount': 1.05}\n",
      "['__class__', '__delattr__', '__dict__', '__dir__', '__doc__', '__eq__', '__format__', '__ge__', '__getattribute__', '__gt__', '__hash__', '__init__', '__init_subclass__', '__le__', '__lt__', '__module__', '__ne__', '__new__', '__reduce__', '__reduce_ex__', '__repr__', '__setattr__', '__sizeof__', '__str__', '__subclasshook__', '__weakref__', 'apply_raise', 'email', 'first', 'fullname', 'last', 'pay', 'raise_amount']\n"
     ]
    }
   ],
   "source": [
    "# playing with class variable.\n",
    "# class variable\n",
    "class Employee():\n",
    "    \n",
    "    raise_amount = 1.04\n",
    "\n",
    "    def __init__(self, first, last, pay):\n",
    "        self.first = first\n",
    "        self.last = last\n",
    "        self.email = first + '.' + last + '@gmail.com'\n",
    "        self.pay = pay\n",
    "        \n",
    "    # writing a method to print the full name.\n",
    "    def fullname(self):   \n",
    "        print('{} {}'.format(self.first, self.last))\n",
    "        \n",
    "    def apply_raise(self):\n",
    "        self.pay = (self.pay * self.raise_amount)\n",
    "    \n",
    "\n",
    "emp1 = Employee('Amit', 'shukla', 50000) #object1\n",
    "emp2 = Employee('sonali', 'shukla', 60000) #object2\n",
    "\n",
    "\n",
    "emp1.raise_amount = 1.05  # it will only change for object_1.\n",
    "\n",
    "print(Employee.raise_amount)\n",
    "print(emp1.raise_amount)\n",
    "print(emp2.raise_amount)\n",
    "\n",
    "#or\n",
    "\n",
    "print(emp1.pay)\n",
    "emp1.apply_raise()\n",
    "print(emp1.pay)\n",
    "\n",
    "print(vars(emp1))\n",
    "print(dir(emp1))\n"
   ]
  },
  {
   "cell_type": "code",
   "execution_count": 63,
   "metadata": {},
   "outputs": [
    {
     "name": "stdout",
     "output_type": "stream",
     "text": [
      "0\n",
      "2\n"
     ]
    }
   ],
   "source": [
    "# keep track of object.\n",
    "# playing with class variable.\n",
    "# class variable\n",
    "class Employee():\n",
    "    \n",
    "    num_of_emp = 0\n",
    "    raise_amount = 1.04\n",
    "\n",
    "    def __init__(self, first, last, pay):\n",
    "        self.first = first\n",
    "        self.last = last\n",
    "        self.email = first + '.' + last + '@gmail.com'\n",
    "        self.pay = pay\n",
    "        Employee.num_of_emp += 1\n",
    "        \n",
    "    # writing a method to print the full name.\n",
    "    def fullname(self):   \n",
    "        print('{} {}'.format(self.first, self.last))\n",
    "        \n",
    "    def apply_raise(self):\n",
    "        self.pay = (self.pay * self.raise_amount)\n",
    "    \n",
    "print(Employee.num_of_emp)\n",
    "\n",
    "emp1 = Employee('Amit', 'shukla', 50000) #object1\n",
    "emp2 = Employee('sonali', 'shukla', 60000) #object2\n",
    "\n",
    "print(Employee.num_of_emp)"
   ]
  },
  {
   "cell_type": "code",
   "execution_count": null,
   "metadata": {},
   "outputs": [],
   "source": []
  },
  {
   "cell_type": "code",
   "execution_count": null,
   "metadata": {},
   "outputs": [],
   "source": []
  },
  {
   "cell_type": "code",
   "execution_count": null,
   "metadata": {},
   "outputs": [],
   "source": []
  },
  {
   "cell_type": "code",
   "execution_count": null,
   "metadata": {},
   "outputs": [],
   "source": []
  },
  {
   "cell_type": "code",
   "execution_count": null,
   "metadata": {},
   "outputs": [],
   "source": []
  },
  {
   "cell_type": "code",
   "execution_count": null,
   "metadata": {},
   "outputs": [],
   "source": []
  },
  {
   "cell_type": "code",
   "execution_count": null,
   "metadata": {},
   "outputs": [],
   "source": []
  },
  {
   "cell_type": "code",
   "execution_count": null,
   "metadata": {},
   "outputs": [],
   "source": []
  }
 ],
 "metadata": {
  "kernelspec": {
   "display_name": "Python 3",
   "language": "python",
   "name": "python3"
  },
  "language_info": {
   "codemirror_mode": {
    "name": "ipython",
    "version": 3
   },
   "file_extension": ".py",
   "mimetype": "text/x-python",
   "name": "python",
   "nbconvert_exporter": "python",
   "pygments_lexer": "ipython3",
   "version": "3.7.4"
  }
 },
 "nbformat": 4,
 "nbformat_minor": 2
}
