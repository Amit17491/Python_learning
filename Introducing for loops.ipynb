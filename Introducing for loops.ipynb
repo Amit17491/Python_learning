{
 "cells": [
  {
   "cell_type": "code",
   "execution_count": 23,
   "metadata": {},
   "outputs": [
    {
     "name": "stdout",
     "output_type": "stream",
     "text": [
      "['H', 'e', 'l', 'l', 'o']\n",
      "['H', 'e', 'l', 'l', 'o']\n",
      "['H', 'e', 'l', 'l', 'o']\n",
      "['H', 'e', 'l', 'l', 'o']\n",
      "['H', 'e', 'l', 'l', 'o']\n",
      "\n",
      "\n",
      "H\n",
      "e\n",
      "l\n",
      "l\n",
      "o\n"
     ]
    }
   ],
   "source": [
    "letters = ['H','e','l','l','o']\n",
    "for i in letters:\n",
    "    print(letters) # here it is printing the list as per the length of the list\n",
    "print(\"\\n\")\n",
    "letters = ['H','e','l','l','o']\n",
    "for i in letters:\n",
    "    print(i) # here it is printing the element at the respective length."
   ]
  },
  {
   "cell_type": "code",
   "execution_count": 24,
   "metadata": {},
   "outputs": [
    {
     "name": "stdout",
     "output_type": "stream",
     "text": [
      "H\n",
      "e\n",
      "l\n",
      "l\n",
      "o\n"
     ]
    }
   ],
   "source": [
    "for letter in \"Hello\":\n",
    "    print(letter)"
   ]
  },
  {
   "cell_type": "code",
   "execution_count": 25,
   "metadata": {},
   "outputs": [
    {
     "name": "stdout",
     "output_type": "stream",
     "text": [
      "H\n",
      "e\n",
      "l\n",
      "l\n",
      "o\n",
      " \n",
      "W\n",
      "o\n",
      "r\n",
      "l\n",
      "d\n"
     ]
    }
   ],
   "source": [
    "my_string = \"Hello World\"\n",
    "for char in my_string:\n",
    "    print(char)"
   ]
  },
  {
   "cell_type": "code",
   "execution_count": 26,
   "metadata": {},
   "outputs": [
    {
     "name": "stdout",
     "output_type": "stream",
     "text": [
      "1\n",
      "0\n"
     ]
    }
   ],
   "source": [
    "for digit in \"10\":\n",
    "    print(digit) # becos 10 is a string "
   ]
  },
  {
   "cell_type": "code",
   "execution_count": 27,
   "metadata": {},
   "outputs": [
    {
     "ename": "TypeError",
     "evalue": "'int' object is not iterable",
     "output_type": "error",
     "traceback": [
      "\u001b[1;31m---------------------------------------------------------------------------\u001b[0m",
      "\u001b[1;31mTypeError\u001b[0m                                 Traceback (most recent call last)",
      "\u001b[1;32m<ipython-input-27-d8afb4313880>\u001b[0m in \u001b[0;36m<module>\u001b[1;34m\u001b[0m\n\u001b[1;32m----> 1\u001b[1;33m \u001b[1;32mfor\u001b[0m \u001b[0mdigit\u001b[0m \u001b[1;32min\u001b[0m \u001b[1;36m10\u001b[0m\u001b[1;33m:\u001b[0m\u001b[1;33m\u001b[0m\u001b[1;33m\u001b[0m\u001b[0m\n\u001b[0m\u001b[0;32m      2\u001b[0m     \u001b[0mprint\u001b[0m\u001b[1;33m(\u001b[0m\u001b[0mdigit\u001b[0m\u001b[1;33m)\u001b[0m\u001b[1;33m\u001b[0m\u001b[1;33m\u001b[0m\u001b[0m\n",
      "\u001b[1;31mTypeError\u001b[0m: 'int' object is not iterable"
     ]
    }
   ],
   "source": [
    "for digit in 10:\n",
    "    print(digit) # cannot iterate to integer values"
   ]
  },
  {
   "cell_type": "code",
   "execution_count": 29,
   "metadata": {},
   "outputs": [
    {
     "name": "stdout",
     "output_type": "stream",
     "text": [
      "Germany\n",
      "India\n",
      "Israel\n"
     ]
    }
   ],
   "source": [
    "for country in ['Germany', \"India\", \"Israel\"]:\n",
    "    print(country)"
   ]
  },
  {
   "cell_type": "code",
   "execution_count": 34,
   "metadata": {},
   "outputs": [
    {
     "name": "stdout",
     "output_type": "stream",
     "text": [
      "It's a  ('Pug', 'Doberman', 'Golden Retriever')\n",
      "It's a  ('Pug', 'Doberman', 'Golden Retriever')\n",
      "It's a  ('Pug', 'Doberman', 'Golden Retriever')\n",
      "\n",
      "\n",
      "It's a  Pug\n",
      "It's a  Doberman\n",
      "It's a  Golden Retriever\n"
     ]
    }
   ],
   "source": [
    "dogs = (\"Pug\", \"Doberman\", \"Golden Retriever\")\n",
    "for dog in dogs:\n",
    "    print(\"It's a \", dogs)\n",
    "    \n",
    "print(\"\\n\")\n",
    "\n",
    "dogs = (\"Pug\", \"Doberman\", \"Golden Retriever\")\n",
    "for dog in dogs:\n",
    "    print(\"It's a \", dog)"
   ]
  },
  {
   "cell_type": "code",
   "execution_count": 36,
   "metadata": {},
   "outputs": [
    {
     "name": "stdout",
     "output_type": "stream",
     "text": [
      "The dog at index 0 is a Pug and it weighs 20 ponds\n",
      "The dog at index 1 is a Doberman and it weighs 80 ponds\n",
      "The dog at index 2 is a Golden Retriever and it weighs 55 ponds\n"
     ]
    }
   ],
   "source": [
    "# using enumerate\n",
    "dog_weight = ((\"Pug\",20),(\"Doberman\", 80),(\"Golden Retriever\", 55))\n",
    "for i, (dog, weight) in enumerate (dog_weight):\n",
    "    print(\"The dog at index %d is a %s and it weighs %s ponds\" %(i, dog, weight))"
   ]
  },
  {
   "cell_type": "code",
   "execution_count": 48,
   "metadata": {},
   "outputs": [
    {
     "name": "stdout",
     "output_type": "stream",
     "text": [
      "[(0, (0, 'eat')), (1, (1, 'Sleep')), (2, (2, 'Repeat'))]\n",
      "[(0, (0, 'g')), (1, (1, 'e')), (2, (2, 'e')), (3, (3, 'k'))]\n"
     ]
    }
   ],
   "source": [
    "# simple enumerate example\n",
    "l1 = [\"eat\",\"Sleep\",\"Repeat\"]\n",
    "s1 = \"geek\"\n",
    "\n",
    "obj1 = enumerate(l1)\n",
    "obj2 = enumerate(s1)\n",
    "print(list(enumerate(obj1)))\n",
    "print(list(enumerate(obj2)))"
   ]
  },
  {
   "cell_type": "code",
   "execution_count": 56,
   "metadata": {},
   "outputs": [
    {
     "name": "stdout",
     "output_type": "stream",
     "text": [
      "(0, 'eat')\n",
      "(1, 'sleep')\n",
      "(2, 'repeat')\n",
      "\n",
      "100 eat\n",
      "101 sleep\n",
      "102 repeat\n",
      "\n",
      "0\n",
      "eat\n",
      "1\n",
      "sleep\n",
      "2\n",
      "repeat\n"
     ]
    }
   ],
   "source": [
    "# another example\n",
    "l1 = [\"eat\",\"sleep\",\"repeat\"]\n",
    "for ele in enumerate(l1):\n",
    "    print(ele)\n",
    "print()\n",
    "for count,ele in enumerate(l1,100):\n",
    "    print(count,ele)\n",
    "print()\n",
    "\n",
    "for count,ele in enumerate(l1):\n",
    "    print(count)\n",
    "    print(ele)  "
   ]
  },
  {
   "cell_type": "code",
   "execution_count": 57,
   "metadata": {},
   "outputs": [
    {
     "name": "stdout",
     "output_type": "stream",
     "text": [
      "Happy New Year, John\n",
      "Happy New Year, Sam\n",
      "Happy New Year, Jill\n"
     ]
    }
   ],
   "source": [
    "friends = [\"John\", \"Sam\", \"Jill\"]\n",
    "for friend in friends:\n",
    "    print(\"Happy New Year,\",friend)"
   ]
  },
  {
   "cell_type": "code",
   "execution_count": 58,
   "metadata": {},
   "outputs": [
    {
     "data": {
      "text/plain": [
       "{'John': 80, 'sam': 60, 'Jill': 50, 'bob': 96}"
      ]
     },
     "execution_count": 58,
     "metadata": {},
     "output_type": "execute_result"
    }
   ],
   "source": [
    "student_scores = {'John': 80,\n",
    "                  'sam': 60,\n",
    "                 'Jill': 50,\n",
    "                  'bob': 96}\n",
    "student_scores"
   ]
  },
  {
   "cell_type": "code",
   "execution_count": 64,
   "metadata": {},
   "outputs": [
    {
     "name": "stdout",
     "output_type": "stream",
     "text": [
      "John\n",
      "sam\n",
      "Jill\n",
      "bob\n"
     ]
    }
   ],
   "source": [
    "for student in student_scores:\n",
    "    print(student)"
   ]
  },
  {
   "cell_type": "code",
   "execution_count": 65,
   "metadata": {},
   "outputs": [
    {
     "name": "stdout",
     "output_type": "stream",
     "text": [
      "dict_keys(['John', 'sam', 'Jill', 'bob'])\n"
     ]
    }
   ],
   "source": [
    "print(student_scores.keys())"
   ]
  },
  {
   "cell_type": "code",
   "execution_count": 66,
   "metadata": {},
   "outputs": [
    {
     "name": "stdout",
     "output_type": "stream",
     "text": [
      "dict_values([80, 60, 50, 96])\n"
     ]
    }
   ],
   "source": [
    "print(student_scores.values())"
   ]
  },
  {
   "cell_type": "code",
   "execution_count": 67,
   "metadata": {},
   "outputs": [
    {
     "name": "stdout",
     "output_type": "stream",
     "text": [
      "dict_items([('John', 80), ('sam', 60), ('Jill', 50), ('bob', 96)])\n"
     ]
    }
   ],
   "source": [
    "print(student_scores.items())"
   ]
  },
  {
   "cell_type": "code",
   "execution_count": 68,
   "metadata": {},
   "outputs": [
    {
     "name": "stdout",
     "output_type": "stream",
     "text": [
      "Key value pair - John : 80\n",
      "Key value pair - sam : 60\n",
      "Key value pair - Jill : 50\n",
      "Key value pair - bob : 96\n"
     ]
    }
   ],
   "source": [
    "for key in student_scores:\n",
    "    print(\"Key value pair -\", key, \":\", student_scores[key])"
   ]
  },
  {
   "cell_type": "code",
   "execution_count": 69,
   "metadata": {},
   "outputs": [
    {
     "name": "stdout",
     "output_type": "stream",
     "text": [
      "('John', 80)\n",
      "('sam', 60)\n",
      "('Jill', 50)\n",
      "('bob', 96)\n"
     ]
    }
   ],
   "source": [
    "for key_value in student_scores.items():\n",
    "    print(key_value)"
   ]
  },
  {
   "cell_type": "code",
   "execution_count": 71,
   "metadata": {},
   "outputs": [
    {
     "name": "stdout",
     "output_type": "stream",
     "text": [
      "student: John \tScore: 80\n",
      "student: sam \tScore: 60\n",
      "student: Jill \tScore: 50\n",
      "student: bob \tScore: 96\n"
     ]
    }
   ],
   "source": [
    "for student, score in student_scores.items():\n",
    "    print(\"student:\", student, \"\\tScore:\", score)"
   ]
  },
  {
   "cell_type": "code",
   "execution_count": 73,
   "metadata": {},
   "outputs": [
    {
     "name": "stdout",
     "output_type": "stream",
     "text": [
      "2 is the quotient of 4 /2\n",
      "3 is the quotient of 6 /2\n",
      "4 is the quotient of 9 /2\n",
      "5 is the quotient of 10 /2\n"
     ]
    }
   ],
   "source": [
    "numbers = [4, 6, 9, 10]\n",
    "for num in numbers:\n",
    "    quotient = num // 2\n",
    "    print(quotient, \"is the quotient of\", num, \"/2\")"
   ]
  },
  {
   "cell_type": "code",
   "execution_count": 74,
   "metadata": {},
   "outputs": [
    {
     "name": "stdout",
     "output_type": "stream",
     "text": [
      "Type of 145  is  <class 'int'>\n",
      "Type of 10.5  is  <class 'float'>\n",
      "Type of (1+3j)  is  <class 'complex'>\n",
      "Type of True  is  <class 'bool'>\n",
      "Type of Python  is  <class 'str'>\n",
      "Type of (0, 1)  is  <class 'tuple'>\n",
      "Type of [2, -5]  is  <class 'list'>\n",
      "Type of {'class': 'V', 'Section': 'A'}  is  <class 'dict'>\n"
     ]
    }
   ],
   "source": [
    "mixed_list = [145, 10.5, 1+3j,\n",
    "              True, \"Python\",\n",
    "              (0, 1), [2, -5],\n",
    "              {\"class\": \"V\", \"Section\":\"A\"}]\n",
    "for item in mixed_list:\n",
    "    print(\"Type of\", item, \" is \", type(item))"
   ]
  },
  {
   "cell_type": "code",
   "execution_count": 75,
   "metadata": {},
   "outputs": [
    {
     "name": "stdout",
     "output_type": "stream",
     "text": [
      "Square of 2 is 4\n",
      "Square of 4 is 16\n",
      "Square of 6 is 36\n",
      "Square of 8 is 64\n"
     ]
    }
   ],
   "source": [
    "num_list = [2, 4, 6, 8]\n",
    "square = 0\n",
    "for val in num_list:\n",
    "    square = val ** 2\n",
    "    print(\"Square of\", val, \"is\", square)"
   ]
  },
  {
   "cell_type": "code",
   "execution_count": 78,
   "metadata": {},
   "outputs": [
    {
     "name": "stdout",
     "output_type": "stream",
     "text": [
      "Enter a string: hello\n",
      "h\n",
      "e\n",
      "l\n",
      "l\n",
      "o\n",
      "5\n"
     ]
    }
   ],
   "source": [
    "string = input(\"Enter a string: \")\n",
    "count = 0\n",
    "for i in string:\n",
    "    count = count + 1\n",
    "    print(i)\n",
    "print(count)"
   ]
  },
  {
   "cell_type": "code",
   "execution_count": 79,
   "metadata": {},
   "outputs": [
    {
     "name": "stdout",
     "output_type": "stream",
     "text": [
      "2\n",
      "3\n",
      "5\n",
      "7\n",
      "No more items left in the list.\n"
     ]
    }
   ],
   "source": [
    "numbers = [2, 3, 5, 7]\n",
    "for num in numbers:\n",
    "    print(num)\n",
    "else:\n",
    "    print(\"No more items left in the list.\")"
   ]
  },
  {
   "cell_type": "code",
   "execution_count": 81,
   "metadata": {},
   "outputs": [
    {
     "name": "stdout",
     "output_type": "stream",
     "text": [
      "d\n",
      "c\n",
      "a\n",
      "b\n",
      "No more characters left.\n"
     ]
    }
   ],
   "source": [
    "characters = {\"a\", \"b\", \"c\", \"d\"}\n",
    "for letter in characters:\n",
    "    print(letter)\n",
    "else:\n",
    "    print(\"No more characters left.\")"
   ]
  },
  {
   "cell_type": "code",
   "execution_count": 92,
   "metadata": {},
   "outputs": [
    {
     "name": "stdout",
     "output_type": "stream",
     "text": [
      "New York is not present in the list\n"
     ]
    }
   ],
   "source": [
    "us_cities = [\"New York\", \"Nashville\", \"Seattle\"]\n",
    "for city in us_cities:\n",
    "    if city == \"New York\":\n",
    "        print(\"New York is not present in the list\")"
   ]
  },
  {
   "cell_type": "code",
   "execution_count": 93,
   "metadata": {},
   "outputs": [
    {
     "name": "stdout",
     "output_type": "stream",
     "text": [
      "This list contain an even number: 2\n",
      "This list contain an even number: 22\n"
     ]
    }
   ],
   "source": [
    "numbers = [11, 33, 55, 39, 2, 55, 75, 37, 22, 23, 41, 13]\n",
    "for num in numbers:\n",
    "    if num % 2 == 0:\n",
    "        print(\"This list contain an even number:\",num)"
   ]
  },
  {
   "cell_type": "code",
   "execution_count": 94,
   "metadata": {},
   "outputs": [
    {
     "name": "stdout",
     "output_type": "stream",
     "text": [
      "2016 is a leap year\n",
      "2017 is not a leap year\n",
      "2018 is not a leap year\n",
      "2019 is not a leap year\n",
      "2020 is a leap year\n"
     ]
    }
   ],
   "source": [
    "years = [2016, 2017, 2018, 2019, 2020]\n",
    "for year in years:\n",
    "    if year % 4 ==0:\n",
    "        print(year, \"is a leap year\")\n",
    "    else:\n",
    "        print(year, \"is not a leap year\")"
   ]
  },
  {
   "cell_type": "code",
   "execution_count": 96,
   "metadata": {},
   "outputs": [
    {
     "name": "stdout",
     "output_type": "stream",
     "text": [
      "2005 not a leap year\n"
     ]
    }
   ],
   "source": [
    "# how to find leap year in python:\n",
    "year = 2005\n",
    "\n",
    "if (year % 4 == 0):\n",
    "    if(year %  100 == 0):\n",
    "        if (year % 400 == 0):\n",
    "            print(\"{} is a leap year\".format(year))\n",
    "        else:\n",
    "            print(\"{} is not leap year\".format(year))\n",
    "    else:\n",
    "        print(\"{} is a leap year\".format(year))\n",
    "    \n",
    "else:\n",
    "    print(\"{} not a leap year\".format(year))"
   ]
  },
  {
   "cell_type": "code",
   "execution_count": 99,
   "metadata": {},
   "outputs": [
    {
     "name": "stdout",
     "output_type": "stream",
     "text": [
      "['mary', 'Linda', 'Jessica']\n",
      "['James', 'Jacob', 'William']\n"
     ]
    }
   ],
   "source": [
    "name = [[\"mary\", \"Linda\", \"Jessica\"],\n",
    "         [\"James\", \"Jacob\", \"William\"]]\n",
    "\n",
    "for sublist in name:\n",
    "    print(sublist)"
   ]
  },
  {
   "cell_type": "code",
   "execution_count": 101,
   "metadata": {},
   "outputs": [
    {
     "name": "stdout",
     "output_type": "stream",
     "text": [
      "mary\n",
      "Linda\n",
      "Jessica\n",
      "James\n",
      "Jacob\n",
      "William\n"
     ]
    }
   ],
   "source": [
    "for sublist in name:\n",
    "    for name in sublist:\n",
    "        print(name)"
   ]
  },
  {
   "cell_type": "code",
   "execution_count": 103,
   "metadata": {},
   "outputs": [
    {
     "name": "stdout",
     "output_type": "stream",
     "text": [
      "Red Pen\n",
      "Red Marker\n",
      "Red Pencil\n",
      "Green Pen\n",
      "Green Marker\n",
      "Green Pencil\n",
      "Blue Pen\n",
      "Blue Marker\n",
      "Blue Pencil\n"
     ]
    }
   ],
   "source": [
    "colors_list = [\"Red\", \"Green\", \"Blue\"]\n",
    "objects_list = [\"Pen\", \"Marker\", \"Pencil\"]\n",
    "\n",
    "for color in colors_list:\n",
    "    for obj in objects_list:\n",
    "        print(color, obj)"
   ]
  }
 ],
 "metadata": {
  "kernelspec": {
   "display_name": "Python 3",
   "language": "python",
   "name": "python3"
  },
  "language_info": {
   "codemirror_mode": {
    "name": "ipython",
    "version": 3
   },
   "file_extension": ".py",
   "mimetype": "text/x-python",
   "name": "python",
   "nbconvert_exporter": "python",
   "pygments_lexer": "ipython3",
   "version": "3.7.4"
  }
 },
 "nbformat": 4,
 "nbformat_minor": 2
}
