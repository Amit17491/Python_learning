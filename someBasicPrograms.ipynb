{
 "cells": [
  {
   "cell_type": "code",
   "execution_count": 1,
   "metadata": {},
   "outputs": [
    {
     "name": "stdout",
     "output_type": "stream",
     "text": [
      "Enter salary amount :755\n",
      "Enter expernses: 500\n",
      "My total savings in a month is : 255\n"
     ]
    }
   ],
   "source": [
    "salary = int(input(\"Enter salary amount :\"))\n",
    "expenses = int(input(\"Enter expernses: \"))\n",
    "savings = salary - expenses\n",
    "print(\"My total savings in a month is :\", savings)"
   ]
  },
  {
   "cell_type": "code",
   "execution_count": 3,
   "metadata": {},
   "outputs": [
    {
     "name": "stdout",
     "output_type": "stream",
     "text": [
      "Enter first variable:10\n",
      "Enter the second variable:20\n",
      "\n",
      " First_num is: 20 \n",
      "Second_num is : 10\n"
     ]
    }
   ],
   "source": [
    "# swap without uysing third variable\n",
    "\n",
    "first_num = int(input(\"Enter first variable:\"))\n",
    "second_num = int(input(\"Enter the second variable:\"))\n",
    "\n",
    "first_num = first_num + second_num\n",
    "second_num = first_num - second_num\n",
    "first_num = first_num - second_num\n",
    "print(\"\\n First_num is:\", first_num, \"\\nSecond_num is :\", second_num)"
   ]
  },
  {
   "cell_type": "code",
   "execution_count": 5,
   "metadata": {},
   "outputs": [
    {
     "name": "stdout",
     "output_type": "stream",
     "text": [
      "Enter a number: 12\n",
      "12 + 1212 + 121212 = 122436\n"
     ]
    }
   ],
   "source": [
    "num = int(input(\"Enter a number: \"))\n",
    "temp1 = str(num)\n",
    "temp2 = temp1 + temp1\n",
    "temp3 = temp1 + temp1 + temp1\n",
    "total = num + (int(temp2)) + (int(temp3))\n",
    "print(temp1, '+', temp2, '+', temp3, '=', total)"
   ]
  },
  {
   "cell_type": "code",
   "execution_count": 7,
   "metadata": {},
   "outputs": [
    {
     "name": "stdout",
     "output_type": "stream",
     "text": [
      "Enter first number: 25\n",
      "Enter the second number: 5\n",
      "\n",
      "Quotient: 5\n",
      "Remainder: 0\n"
     ]
    }
   ],
   "source": [
    "num_1 = int(input(\"Enter first number: \"))\n",
    "num_2 = int(input(\"Enter the second number: \"))\n",
    "Quotient = int(num_1 / num_2)\n",
    "print(\"\\nQuotient:\", Quotient)\n",
    "Remainder = num_1 % num_2\n",
    "print(\"Remainder:\",Remainder)"
   ]
  },
  {
   "cell_type": "code",
   "execution_count": 8,
   "metadata": {},
   "outputs": [
    {
     "name": "stdout",
     "output_type": "stream",
     "text": [
      "Enter the principle amount:800\n",
      "Enter the time(years): 5\n",
      "Enter the rate: 5\n",
      "The simple interest is: 200.0\n"
     ]
    }
   ],
   "source": [
    "principle = float(input(\"Enter the principle amount:\"))\n",
    "time = int(input(\"Enter the time(years): \"))\n",
    "rate = float(input(\"Enter the rate: \"))\n",
    "simple_int =(principle * time * rate)/100\n",
    "print(\"The simple interest is:\", simple_int)"
   ]
  },
  {
   "cell_type": "code",
   "execution_count": 11,
   "metadata": {},
   "outputs": [
    {
     "name": "stdout",
     "output_type": "stream",
     "text": [
      "Give the height in centimeters: 165\n",
      "The length in inches : 65.01\n",
      "The length in feet:  5.346\n"
     ]
    }
   ],
   "source": [
    "cm = int(input(\"Give the height in centimeters: \"))\n",
    "inches = 0.394 * cm\n",
    "feet = 0.0324 * cm\n",
    "print(\"The length in inches :\", round(inches,4))\n",
    "print(\"The length in feet: \", round(feet,4))"
   ]
  },
  {
   "cell_type": "code",
   "execution_count": 13,
   "metadata": {},
   "outputs": [
    {
     "name": "stdout",
     "output_type": "stream",
     "text": [
      "List of car before swapping  ['Toyota Camry', 'Honda Accord', 'Honda Civic', 'Toyota Corolla']\n",
      "List of cars after the swap:  ['Honda Civic', 'Honda Accord', 'Toyota Camry', 'Toyota Corolla']\n"
     ]
    }
   ],
   "source": [
    "car_list = [\"Toyota Camry\", \"Honda Accord\", \"Honda Civic\", \"Toyota Corolla\"]\n",
    "print(\"List of car before swapping \", car_list)\n",
    "car_list_temp = car_list[0]\n",
    "car_list[0] = car_list[2]\n",
    "car_list[2] = car_list_temp\n",
    "print(\"List of cars after the swap: \", car_list)"
   ]
  },
  {
   "cell_type": "code",
   "execution_count": 15,
   "metadata": {},
   "outputs": [
    {
     "name": "stdout",
     "output_type": "stream",
     "text": [
      "List of car before swapping  ['Toyota Camry', 'Honda Accord', 'Honda Civic', 'Toyota Corolla']\n",
      "List of cars after the swap:  ['Toyota Camry', 'Honda Civic', 'Honda Accord', 'Toyota Corolla']\n"
     ]
    }
   ],
   "source": [
    "cars_list = [\"Toyota Camry\", \"Honda Accord\", \"Honda Civic\", \"Toyota Corolla\"]\n",
    "print(\"List of car before swapping \", car_list)\n",
    "car1 = 1\n",
    "car2 = 2\n",
    "car_list[car1], car_list[car2] = cars_list[car2], cars_list[car1]\n",
    "print(\"List of cars after the swap: \", car_list)"
   ]
  },
  {
   "cell_type": "code",
   "execution_count": 22,
   "metadata": {},
   "outputs": [
    {
     "name": "stdout",
     "output_type": "stream",
     "text": [
      "Student list: ['Sofia', 'Ella', 'Samuel', 'Ella', 'Aiden', 'Sofia']\n",
      "Number of students:  6\n",
      "\n",
      " New student list:  ['Sofia', 'Aiden', 'Samuel', 'Ella']\n",
      "\n",
      " Length of modified student list:  4\n",
      "\n",
      " There are 2 duplicate elements \n"
     ]
    }
   ],
   "source": [
    "list_student = ['Sofia', 'Ella', 'Samuel', 'Ella', 'Aiden','Sofia']\n",
    "print(\"Student list:\", list_student)\n",
    "print(\"Number of students: \",len(list_student))\n",
    "student_set = set(list_student)\n",
    "print(\"\\n New student list: \", list(student_set))\n",
    "print(\"\\n Length of modified student list: \", len(student_set))\n",
    "print(\"\\n There are %s duplicate elements \"%(len(list_student)- len(student_set)))"
   ]
  },
  {
   "cell_type": "code",
   "execution_count": 24,
   "metadata": {},
   "outputs": [
    {
     "name": "stdout",
     "output_type": "stream",
     "text": [
      "There are 2 duplicate values \n"
     ]
    }
   ],
   "source": [
    "list_str = ['Sofia', 'Ella', 'Samuel', 'Ella', 'Aiden','Sofia']\n",
    "len_list_str = len(list_str)\n",
    "len_list_set = len(set(list_str))\n",
    "if len_list_str == len_list_set:\n",
    "    print(\"There are no duplicate values\")\n",
    "else:\n",
    "    print(\"There are {} duplicate values \".format(len_list_str - len_list_set))"
   ]
  },
  {
   "cell_type": "code",
   "execution_count": 28,
   "metadata": {},
   "outputs": [
    {
     "name": "stdout",
     "output_type": "stream",
     "text": [
      "The number stored in num is : 50\n",
      "The number is an even number\n"
     ]
    }
   ],
   "source": [
    "num = 50\n",
    "print(\"The number stored in num is :\" , num)\n",
    "\n",
    "if not num % 2 == 0:\n",
    "    print(\"The number is an odd number\")\n",
    "else:\n",
    "    print(\"The number is an even number\")"
   ]
  },
  {
   "cell_type": "code",
   "execution_count": 30,
   "metadata": {},
   "outputs": [
    {
     "name": "stdout",
     "output_type": "stream",
     "text": [
      "Enter some comma seprated numbers : 5,1,2,4,5,6,2\n",
      "List :  ['5', '1', '2', '4', '5', '6', '2']\n",
      "Tuple:  ('5', '1', '2', '4', '5', '6', '2')\n"
     ]
    }
   ],
   "source": [
    "values = input(\"Enter some comma seprated numbers : \")\n",
    "list_value = values.split(',')\n",
    "tuple_value = tuple(list_value)\n",
    "\n",
    "print(\"List : \", list_value)\n",
    "print(\"Tuple: \", tuple_value)"
   ]
  },
  {
   "cell_type": "code",
   "execution_count": 32,
   "metadata": {},
   "outputs": [
    {
     "name": "stdout",
     "output_type": "stream",
     "text": [
      "Enter some comma seprated words: amit,sonali,ratna,anil,shukla\n",
      "['amit', 'anil', 'ratna', 'shukla', 'sonali']\n"
     ]
    }
   ],
   "source": [
    "list_words = input(\"Enter some comma seprated words: \")\n",
    "words = list_words.split(',')\n",
    "new_list_words = sorted(words)\n",
    "print(new_list_words)"
   ]
  },
  {
   "cell_type": "code",
   "execution_count": 37,
   "metadata": {},
   "outputs": [
    {
     "name": "stdout",
     "output_type": "stream",
     "text": [
      "Enter some whitespace-seprated words : amit shukla ratna anil soanli\n",
      "amit anil ratna shukla soanli\n"
     ]
    }
   ],
   "source": [
    "sentence = input(\"Enter some whitespace-seprated words : \")\n",
    "words = sentence.split(\" \")\n",
    "set_of_words = set(words)\n",
    "sorted_set_of_words = sorted(set_of_words)\n",
    "print(\" \".join(sorted_set_of_words))"
   ]
  },
  {
   "cell_type": "code",
   "execution_count": 40,
   "metadata": {},
   "outputs": [
    {
     "name": "stdout",
     "output_type": "stream",
     "text": [
      "{1: 1, 2: 4, 3: 27}\n"
     ]
    }
   ],
   "source": [
    "num_dict = dict ()\n",
    "num_dict[1] = 1\n",
    "num_dict[2] = 2 ** 2\n",
    "num_dict[3] = 3 ** 3\n",
    "print(num_dict)"
   ]
  },
  {
   "cell_type": "code",
   "execution_count": 1,
   "metadata": {},
   "outputs": [
    {
     "name": "stdout",
     "output_type": "stream",
     "text": [
      "Enter first strings : amit shukla\n",
      "Enter second strings: ratna shukla\n",
      "\n",
      " Common letters:  ['h', 'a', 't', 'k', ' ', 's', 'l', 'u']\n"
     ]
    }
   ],
   "source": [
    "string_1 = input(\"Enter first strings : \")\n",
    "string_2 = input(\"Enter second strings: \")\n",
    "set_1 = set(string_1)\n",
    "set_2 = set(string_2)\n",
    "common_char =  set_1.intersection(set_2)\n",
    "print(\"\\n Common letters: \", list(common_char))"
   ]
  },
  {
   "cell_type": "code",
   "execution_count": 4,
   "metadata": {},
   "outputs": [
    {
     "name": "stdout",
     "output_type": "stream",
     "text": [
      "Number before  slicing : [10, 11, 12, 13, 14, 15, 16, 17, 18, 19, 20, 21] \n",
      "Length of numbers before slicing:  12\n",
      "\n",
      " First half: [10, 11, 12, 13, 14, 15]\n",
      "\n",
      " Second half: [16, 17, 18, 19, 20, 21]\n"
     ]
    }
   ],
   "source": [
    "list_num = [10,11,12,13,14,15,16,17,18,19,20,21]\n",
    "len_of_list = len(list_num)\n",
    "print(\"Number before  slicing : %s \" %list_num)\n",
    "print(\"Length of numbers before slicing: \", len_of_list)\n",
    "\n",
    "half = int(len_of_list / 2)\n",
    "\n",
    "list_num1 = list_num[:half]\n",
    "list_num2 = list_num[half:]\n",
    "\n",
    "print(\"\\n First half: %s\" %list_num1)\n",
    "print(\"\\n Second half: %s\"%list_num2)\n"
   ]
  },
  {
   "cell_type": "code",
   "execution_count": 6,
   "metadata": {},
   "outputs": [
    {
     "name": "stdout",
     "output_type": "stream",
     "text": [
      "Enter the number: 25\n",
      "Positive number\n"
     ]
    }
   ],
   "source": [
    "num = float(input(\"Enter the number: \"))\n",
    "if num >= 0:\n",
    "    if num == 0:\n",
    "        print(\"Zero\")\n",
    "    else:\n",
    "        print(\"Positive number\")\n",
    "else:\n",
    "    print(\"Negative number\")"
   ]
  },
  {
   "cell_type": "code",
   "execution_count": 9,
   "metadata": {},
   "outputs": [
    {
     "name": "stdout",
     "output_type": "stream",
     "text": [
      "Type of the  variable is Integer\n"
     ]
    }
   ],
   "source": [
    "var = 5\n",
    "if (type(var) == int):\n",
    "    print(\"Type of the  variable is Integer\")\n",
    "elif (type(var) == float):\n",
    "    print(\"Type of the  variable is float\")\n",
    "elif (type(var) == complex):\n",
    "    print(\"Type of the  variable is complex\")\n",
    "\n",
    "else:\n",
    "    print(\"Type of the  variable is unkonwn\")\n"
   ]
  },
  {
   "cell_type": "code",
   "execution_count": 16,
   "metadata": {},
   "outputs": [
    {
     "name": "stdout",
     "output_type": "stream",
     "text": [
      "Enter the number: 5\n",
      "5 is odd\n"
     ]
    }
   ],
   "source": [
    "num = int(input(\"Enter the number: \"))\n",
    "if (num % 2 )== 0:\n",
    "    print(\"%d is Even\" % num)\n",
    "else:\n",
    "    print(\"%d is odd\" % num)"
   ]
  },
  {
   "cell_type": "code",
   "execution_count": 17,
   "metadata": {},
   "outputs": [
    {
     "name": "stdout",
     "output_type": "stream",
     "text": [
      "Enter the number_1 : 5\n",
      "Operator: /\n",
      "Enter the number_2 : 5\n",
      "Division 1.0\n"
     ]
    }
   ],
   "source": [
    "num1 = int(input(\"Enter the number_1 : \"))\n",
    "operator = input(\"Operator: \")\n",
    "num2 = int(input(\"Enter the number_2 : \"))\n",
    "if operator == '+':\n",
    "    print(\"Addition\", num1 + num2)\n",
    "elif operator == '-':\n",
    "    print(\"Subtraction\", num1 - num2)\n",
    "elif operator == '*':\n",
    "    print(\"Multiplication\", num1 * num2)\n",
    "elif operator == '/':\n",
    "    print(\"Division\", num1 / num2)\n",
    "else:\n",
    "    print(\"Not the valid operator: \")"
   ]
  },
  {
   "cell_type": "code",
   "execution_count": 20,
   "metadata": {},
   "outputs": [
    {
     "name": "stdout",
     "output_type": "stream",
     "text": [
      "Enter the number: 999\n",
      "This number is neither divisible by 5 nor 7 \n"
     ]
    }
   ],
   "source": [
    "num1 = int(input(\"Enter the number: \"))\n",
    "if num1 % 5 == 0 and num1 % 7 == 0 :\n",
    "    print(\"The number is divisible by both 5 and 7\")\n",
    "elif num1 % 5 == 0:\n",
    "    print(\"The number is divisible by 5\")\n",
    "elif num1 % 7 == 0:\n",
    "    print(\"The number is divisible by 7\")\n",
    "else:\n",
    "    print(\"This number is neither divisible by 5 nor 7 \")"
   ]
  },
  {
   "cell_type": "code",
   "execution_count": 3,
   "metadata": {},
   "outputs": [
    {
     "name": "stdout",
     "output_type": "stream",
     "text": [
      "Enter dog's age in human years: 3\n",
      "The dog's age in dog years is 25\n"
     ]
    }
   ],
   "source": [
    "human_age = int(input(\"Enter dog's age in human years: \"))\n",
    "if human_age < 0:\n",
    "    print(\"Age must be a positive number.\")\n",
    "    exit()\n",
    "    \n",
    "if human_age <= 2:\n",
    "    dog_age = human_age * 10.5\n",
    "\n",
    "else:\n",
    "    dog_age = 21 + (human_age - 2)*4\n",
    "    \n",
    "print(\"The dog's age in dog years is\", dog_age)"
   ]
  },
  {
   "cell_type": "code",
   "execution_count": null,
   "metadata": {},
   "outputs": [],
   "source": [
    "letter = input(\"Enter a letter of the alphabet: \")\n",
    "letter = letter.lower()\n",
    "\n",
    "if letter in ('a', 'e', 'i', 'o', 'u'):\n",
    "    print(\"%s is a vowel.\" %letter)\n",
    "elif letter == 'y':\n",
    "    print(\"Y is ambiguous. IT depends where it is used\")\n",
    "else:\n",
    "    print(\"%s is a consonant.\" %letter)"
   ]
  },
  {
   "cell_type": "code",
   "execution_count": 2,
   "metadata": {},
   "outputs": [
    {
     "name": "stdout",
     "output_type": "stream",
     "text": [
      "Enter the name of the Month: September\n",
      "No. of days: 30 days\n"
     ]
    }
   ],
   "source": [
    "month_name = input(\"Enter the name of the Month: \")\n",
    "if month_name == \"February\":\n",
    "    print(\"No. of days: 28/29 \")\n",
    "elif month_name in (\"April\", \"June\", \"September\", \"November\"):\n",
    "    print(\"No. of days: 30 days\")\n",
    "elif month_name in (\"January\", \"March\", \"May\", \"July\", \"August\", \"October\", \"December\"):\n",
    "    print(\"No. of days: 31 days\")\n",
    "else:\n",
    "    print(\"Give a correct month name\")"
   ]
  },
  {
   "cell_type": "code",
   "execution_count": 5,
   "metadata": {},
   "outputs": [
    {
     "name": "stdout",
     "output_type": "stream",
     "text": [
      "a: 4\n",
      "b: 5\n",
      "c: 6\n",
      "\n",
      " Scalene traingle\n"
     ]
    }
   ],
   "source": [
    "a = int(input(\"a: \"))\n",
    "b = int(input(\"b: \"))\n",
    "c = int(input(\"c: \"))\n",
    "if a== b ==c:\n",
    "    print(\"Equilateral triangle\")\n",
    "elif a == b or b == c or c == a:\n",
    "    print(\"Isosceles triangle\")\n",
    "else:\n",
    "    print(\"\\n Scalene traingle\")"
   ]
  },
  {
   "cell_type": "code",
   "execution_count": 8,
   "metadata": {},
   "outputs": [
    {
     "name": "stdout",
     "output_type": "stream",
     "text": [
      "Enter the string: malayalam\n",
      "The string is a palindrome\n"
     ]
    }
   ],
   "source": [
    "str_value = input(\"Enter the string: \")\n",
    "reversed_str = str_value[::-1]\n",
    "if(str_value == reversed_str):\n",
    "    print(\"The string is a palindrome\")\n",
    "else:\n",
    "    print(\"The string is not a palindrome\")"
   ]
  },
  {
   "cell_type": "code",
   "execution_count": 6,
   "metadata": {},
   "outputs": [
    {
     "name": "stdout",
     "output_type": "stream",
     "text": [
      "How many days are there in a leap year? 366\n",
      "You entered:  366\n",
      "You have cleared the  first level\n",
      "\n",
      " Which month has an extra day in a leap year? february\n",
      "You have cleared the test.\n"
     ]
    }
   ],
   "source": [
    "ans = int(input(\"How many days are there in a leap year? \"))\n",
    "print(\"You entered: \", ans)\n",
    "\n",
    "if ans == 366:\n",
    "    print(\"You have cleared the  first level\")\n",
    "    \n",
    "    ans = input(\"\\n Which month has an extra day in a leap year? \").lower()\n",
    "    if ans == \"february\" :\n",
    "        print(\"You have cleared the test.\")\n",
    "    else:\n",
    "        print(\"You have failed the test.\")\n",
    "else:\n",
    "    print(\"Your answer is wrong, please try again.\")\n",
    "        "
   ]
  },
  {
   "cell_type": "code",
   "execution_count": 7,
   "metadata": {},
   "outputs": [
    {
     "name": "stdout",
     "output_type": "stream",
     "text": [
      "Enter a score: 50\n",
      "D grade\n"
     ]
    }
   ],
   "source": [
    "score = int(input(\"Enter a score: \"))\n",
    "if score >= 90:\n",
    "    print(\"A grade\")\n",
    "elif score >= 80:\n",
    "    print(\"B grade\")\n",
    "elif score >=70:\n",
    "    print(\"C grade\")\n",
    "elif score >= 50:\n",
    "    print(\"D grade\")\n",
    "\n",
    "else:\n",
    "    print(\"Fail\")"
   ]
  },
  {
   "cell_type": "code",
   "execution_count": 12,
   "metadata": {},
   "outputs": [
    {
     "name": "stdout",
     "output_type": "stream",
     "text": [
      "Enter annual salary: 350000\n",
      "Enter year of service: 2\n",
      " No bonus\n"
     ]
    }
   ],
   "source": [
    "salary = int(input(\"Enter annual salary: \"))\n",
    "year_service = int(input(\"Enter year of service: \"))\n",
    "if year_service >= 10:\n",
    "    print(\"Bonus is: \", .15 * salary)\n",
    "elif year_service >= 5 and year_service < 10:\n",
    "    print(\"Bonus is: \", 0.5 * salary)\n",
    "else:\n",
    "    print(\" No bonus\")"
   ]
  },
  {
   "cell_type": "code",
   "execution_count": 4,
   "metadata": {},
   "outputs": [
    {
     "name": "stdout",
     "output_type": "stream",
     "text": [
      "This color is present in the list\n"
     ]
    }
   ],
   "source": [
    "# exercise\n",
    "colors = [\"pink\", \"blue\", \"red\"]\n",
    "if \"pink\" in colors:\n",
    "    print(\"This color is present in the list\")\n",
    "elif \"pink\" not in colors:\n",
    "    print(\"This color is not present in the list\")"
   ]
  },
  {
   "cell_type": "code",
   "execution_count": 7,
   "metadata": {},
   "outputs": [
    {
     "name": "stdout",
     "output_type": "stream",
     "text": [
      "['h', 'e', 'l', 'l', 'o']\n"
     ]
    }
   ],
   "source": [
    "my_string = \"hello\"\n",
    "my_list = list(my_string)\n",
    "print(my_list)"
   ]
  },
  {
   "cell_type": "code",
   "execution_count": null,
   "metadata": {},
   "outputs": [],
   "source": []
  },
  {
   "cell_type": "code",
   "execution_count": null,
   "metadata": {},
   "outputs": [],
   "source": []
  },
  {
   "cell_type": "code",
   "execution_count": null,
   "metadata": {},
   "outputs": [],
   "source": []
  },
  {
   "cell_type": "code",
   "execution_count": null,
   "metadata": {},
   "outputs": [],
   "source": []
  }
 ],
 "metadata": {
  "kernelspec": {
   "display_name": "Python 3",
   "language": "python",
   "name": "python3"
  },
  "language_info": {
   "codemirror_mode": {
    "name": "ipython",
    "version": 3
   },
   "file_extension": ".py",
   "mimetype": "text/x-python",
   "name": "python",
   "nbconvert_exporter": "python",
   "pygments_lexer": "ipython3",
   "version": "3.7.4"
  }
 },
 "nbformat": 4,
 "nbformat_minor": 2
}
