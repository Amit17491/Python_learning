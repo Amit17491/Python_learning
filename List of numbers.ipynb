{
 "cells": [
  {
   "cell_type": "code",
   "execution_count": 2,
   "metadata": {},
   "outputs": [
    {
     "data": {
      "text/plain": [
       "[100, 55, 66, 77, 55, 22, 99, 441, 11100, 444, 666, 7788, 222, 999]"
      ]
     },
     "execution_count": 2,
     "metadata": {},
     "output_type": "execute_result"
    }
   ],
   "source": [
    "List_num = [100,55,66,77,55,22,99,441,11100,444,666,7788,222,999]\n",
    "List_num"
   ]
  },
  {
   "cell_type": "code",
   "execution_count": 6,
   "metadata": {},
   "outputs": [
    {
     "name": "stdout",
     "output_type": "stream",
     "text": [
      "11100\n",
      "22\n"
     ]
    }
   ],
   "source": [
    "# to find max number and min number\n",
    "print(max(List_num))\n",
    "print(min(List_num))"
   ]
  },
  {
   "cell_type": "code",
   "execution_count": 7,
   "metadata": {},
   "outputs": [
    {
     "data": {
      "text/plain": [
       "14"
      ]
     },
     "execution_count": 7,
     "metadata": {},
     "output_type": "execute_result"
    }
   ],
   "source": [
    "# to find the length of the List_num\n",
    "len(List_num)"
   ]
  },
  {
   "cell_type": "code",
   "execution_count": 15,
   "metadata": {},
   "outputs": [
    {
     "data": {
      "text/plain": [
       "[22, 55, 55, 66, 77, 99, 100, 222, 441, 444, 666, 999, 7788, 11100]"
      ]
     },
     "execution_count": 15,
     "metadata": {},
     "output_type": "execute_result"
    }
   ],
   "source": [
    "# to sort the list\n",
    "# default will sort to ascending\n",
    "List_num.sort()\n",
    "List_num"
   ]
  },
  {
   "cell_type": "code",
   "execution_count": 19,
   "metadata": {},
   "outputs": [
    {
     "name": "stdout",
     "output_type": "stream",
     "text": [
      "[22, 55, 55, 66, 77, 99, 100, 222, 441, 444, 666, 999, 7788, 11100]\n"
     ]
    }
   ],
   "source": [
    "list_num = sorted(List_num)\n",
    "print(list_num)"
   ]
  },
  {
   "cell_type": "code",
   "execution_count": 20,
   "metadata": {},
   "outputs": [
    {
     "name": "stdout",
     "output_type": "stream",
     "text": [
      "[11100, 7788, 999, 666, 444, 441, 222, 100, 99, 77, 66, 55, 55, 22]\n"
     ]
    }
   ],
   "source": [
    "# to sort the list\n",
    "# reverse --> True will print in descending orde\n",
    "List_num.sort(reverse=True)\n",
    "print(List_num)"
   ]
  },
  {
   "cell_type": "code",
   "execution_count": 23,
   "metadata": {},
   "outputs": [
    {
     "name": "stdout",
     "output_type": "stream",
     "text": [
      "22134\n"
     ]
    }
   ],
   "source": [
    "# sum of list\n",
    "total = sum(List_num)\n",
    "print(total)"
   ]
  },
  {
   "cell_type": "code",
   "execution_count": 27,
   "metadata": {},
   "outputs": [
    {
     "name": "stdout",
     "output_type": "stream",
     "text": [
      "[11100, 7788, 999, 666, 444, 441, 222, 100, 99, 77, 66, 55, 55, 22]\n"
     ]
    }
   ],
   "source": [
    "# using slicing to print numbers\n",
    "num1 = List_num[:]\n",
    "print(num1)"
   ]
  },
  {
   "cell_type": "code",
   "execution_count": 28,
   "metadata": {},
   "outputs": [
    {
     "name": "stdout",
     "output_type": "stream",
     "text": [
      "[11100, 7788, 999, 666, 444, 441, 222, 100, 99, 77]\n"
     ]
    }
   ],
   "source": [
    "# using slicing to print numbers\n",
    "num2 = List_num[:10]\n",
    "print(num2)"
   ]
  },
  {
   "cell_type": "code",
   "execution_count": 29,
   "metadata": {},
   "outputs": [
    {
     "name": "stdout",
     "output_type": "stream",
     "text": [
      "[441, 222, 100, 99, 77]\n"
     ]
    }
   ],
   "source": [
    "# using slicing to print numbers\n",
    "num3 = List_num[5:10]\n",
    "print(num3)"
   ]
  },
  {
   "cell_type": "code",
   "execution_count": 39,
   "metadata": {},
   "outputs": [
    {
     "name": "stdout",
     "output_type": "stream",
     "text": [
      "[22, 55, 55, 66, 77, 99, 100, 222, 441, 444, 666, 999, 7788, 11100]\n"
     ]
    }
   ],
   "source": [
    "# using slicing to print numbers\n",
    "num4 = List_num[::-1]\n",
    "print(num4)"
   ]
  },
  {
   "cell_type": "code",
   "execution_count": 45,
   "metadata": {},
   "outputs": [
    {
     "name": "stdout",
     "output_type": "stream",
     "text": [
      "[22, 55, 77, 100, 441, 666, 7788]\n"
     ]
    }
   ],
   "source": [
    "# using slicing to print numbers\n",
    "num5 = num4[-14:-1:2]\n",
    "print(num5)"
   ]
  },
  {
   "cell_type": "code",
   "execution_count": 46,
   "metadata": {},
   "outputs": [
    {
     "data": {
      "text/plain": [
       "[11100, 7788, 999, 666, 444, 441, 222, 100, 99, 77, 66, 55, 55, 22]"
      ]
     },
     "execution_count": 46,
     "metadata": {},
     "output_type": "execute_result"
    }
   ],
   "source": [
    "List_num"
   ]
  },
  {
   "cell_type": "code",
   "execution_count": 60,
   "metadata": {
    "scrolled": false
   },
   "outputs": [
    {
     "data": {
      "text/plain": [
       "[11100,\n",
       " 7788,\n",
       " 999,\n",
       " 666,\n",
       " 444,\n",
       " 441,\n",
       " 222,\n",
       " 100,\n",
       " 99,\n",
       " 77,\n",
       " 66,\n",
       " 55,\n",
       " 55,\n",
       " 22,\n",
       " 11100,\n",
       " 7788,\n",
       " 999,\n",
       " 666,\n",
       " 444,\n",
       " 441,\n",
       " 222,\n",
       " 100,\n",
       " 99,\n",
       " 77,\n",
       " 66,\n",
       " 55,\n",
       " 55,\n",
       " 22,\n",
       " 0,\n",
       " 0,\n",
       " 0,\n",
       " 0,\n",
       " 0,\n",
       " 0,\n",
       " 0,\n",
       " 11100,\n",
       " 7788,\n",
       " 999,\n",
       " 666,\n",
       " 444,\n",
       " 441,\n",
       " 222,\n",
       " 100,\n",
       " 99,\n",
       " 77,\n",
       " 66,\n",
       " 55,\n",
       " 55,\n",
       " 22,\n",
       " 11100,\n",
       " 7788,\n",
       " 999,\n",
       " 666,\n",
       " 444,\n",
       " 441,\n",
       " 222,\n",
       " 100,\n",
       " 99,\n",
       " 77,\n",
       " 66,\n",
       " 55,\n",
       " 55,\n",
       " 22,\n",
       " 0,\n",
       " 0,\n",
       " 0,\n",
       " 0,\n",
       " 0,\n",
       " 0,\n",
       " 0]"
      ]
     },
     "execution_count": 60,
     "metadata": {},
     "output_type": "execute_result"
    }
   ],
   "source": [
    "List_num *= 2\n",
    "List_num"
   ]
  },
  {
   "cell_type": "code",
   "execution_count": 54,
   "metadata": {},
   "outputs": [
    {
     "data": {
      "text/plain": [
       "[11100,\n",
       " 7788,\n",
       " 999,\n",
       " 666,\n",
       " 444,\n",
       " 441,\n",
       " 222,\n",
       " 100,\n",
       " 99,\n",
       " 77,\n",
       " 66,\n",
       " 55,\n",
       " 55,\n",
       " 22,\n",
       " 11100,\n",
       " 7788,\n",
       " 999,\n",
       " 666,\n",
       " 444,\n",
       " 441,\n",
       " 222,\n",
       " 100,\n",
       " 99,\n",
       " 77,\n",
       " 66,\n",
       " 55,\n",
       " 55,\n",
       " 22,\n",
       " 0,\n",
       " 0,\n",
       " 0,\n",
       " 0,\n",
       " 0,\n",
       " 0,\n",
       " 0]"
      ]
     },
     "execution_count": 54,
     "metadata": {},
     "output_type": "execute_result"
    }
   ],
   "source": [
    "List_num.extend([0])\n",
    "List_num"
   ]
  },
  {
   "cell_type": "code",
   "execution_count": 57,
   "metadata": {},
   "outputs": [
    {
     "data": {
      "text/plain": [
       "False"
      ]
     },
     "execution_count": 57,
     "metadata": {},
     "output_type": "execute_result"
    }
   ],
   "source": [
    "# use of any function and all function\n",
    "# True means ---> greater than zero\n",
    "all([0])"
   ]
  },
  {
   "cell_type": "code",
   "execution_count": 61,
   "metadata": {},
   "outputs": [
    {
     "data": {
      "text/plain": [
       "True"
      ]
     },
     "execution_count": 61,
     "metadata": {},
     "output_type": "execute_result"
    }
   ],
   "source": [
    "# use of any function and all function\n",
    "# False means ---> Less than zero\n",
    "all([List_num])"
   ]
  },
  {
   "cell_type": "code",
   "execution_count": 62,
   "metadata": {},
   "outputs": [
    {
     "data": {
      "text/plain": [
       "True"
      ]
     },
     "execution_count": 62,
     "metadata": {},
     "output_type": "execute_result"
    }
   ],
   "source": [
    "# use of any function and all function\n",
    "# False means ---> Less than zero\n",
    "any([List_num])"
   ]
  },
  {
   "cell_type": "code",
   "execution_count": null,
   "metadata": {},
   "outputs": [],
   "source": []
  },
  {
   "cell_type": "code",
   "execution_count": null,
   "metadata": {},
   "outputs": [],
   "source": []
  }
 ],
 "metadata": {
  "kernelspec": {
   "display_name": "Python 3",
   "language": "python",
   "name": "python3"
  },
  "language_info": {
   "codemirror_mode": {
    "name": "ipython",
    "version": 3
   },
   "file_extension": ".py",
   "mimetype": "text/x-python",
   "name": "python",
   "nbconvert_exporter": "python",
   "pygments_lexer": "ipython3",
   "version": "3.7.4"
  }
 },
 "nbformat": 4,
 "nbformat_minor": 2
}
